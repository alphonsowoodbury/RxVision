{
 "cells": [
  {
   "cell_type": "code",
   "execution_count": 17,
   "metadata": {},
   "outputs": [],
   "source": [
    "import pandas as pd\n",
    "import requests"
   ]
  },
  {
   "cell_type": "code",
   "execution_count": 38,
   "metadata": {},
   "outputs": [
    {
     "data": {
      "text/html": [
       "<div>\n",
       "<style scoped>\n",
       "    .dataframe tbody tr th:only-of-type {\n",
       "        vertical-align: middle;\n",
       "    }\n",
       "\n",
       "    .dataframe tbody tr th {\n",
       "        vertical-align: top;\n",
       "    }\n",
       "\n",
       "    .dataframe thead th {\n",
       "        text-align: right;\n",
       "    }\n",
       "</style>\n",
       "<table border=\"1\" class=\"dataframe\">\n",
       "  <thead>\n",
       "    <tr style=\"text-align: right;\">\n",
       "      <th></th>\n",
       "      <th>NDC</th>\n",
       "      <th>IDK</th>\n",
       "      <th>PATH</th>\n",
       "      <th>TYPE</th>\n",
       "      <th>DRUG</th>\n",
       "    </tr>\n",
       "  </thead>\n",
       "  <tbody>\n",
       "    <tr>\n",
       "      <th>0</th>\n",
       "      <td>00002322730</td>\n",
       "      <td>1</td>\n",
       "      <td>PillProjectDisc69/images/CLLLLUPGIX7J8MP1WWQ9W...</td>\n",
       "      <td>C3PI_Reference</td>\n",
       "      <td>STRATTERA 10MG</td>\n",
       "    </tr>\n",
       "    <tr>\n",
       "      <th>1</th>\n",
       "      <td>00002322730</td>\n",
       "      <td>1</td>\n",
       "      <td>PillProjectDisc98/images/PRNJ-AXZIQ!HUQKJJBP_D...</td>\n",
       "      <td>C3PI_Reference</td>\n",
       "      <td>STRATTERA 10MG</td>\n",
       "    </tr>\n",
       "    <tr>\n",
       "      <th>2</th>\n",
       "      <td>00002322730</td>\n",
       "      <td>1</td>\n",
       "      <td>PillProjectDisc10/images/79U-YY6M1UUR6F127ZMAC...</td>\n",
       "      <td>C3PI_Test</td>\n",
       "      <td>STRATTERA 10MG</td>\n",
       "    </tr>\n",
       "    <tr>\n",
       "      <th>3</th>\n",
       "      <td>00002322730</td>\n",
       "      <td>1</td>\n",
       "      <td>PillProjectDisc11/images/7WVFV5H74!ELFNQ_GUH92...</td>\n",
       "      <td>C3PI_Test</td>\n",
       "      <td>STRATTERA 10MG</td>\n",
       "    </tr>\n",
       "    <tr>\n",
       "      <th>4</th>\n",
       "      <td>00002322730</td>\n",
       "      <td>1</td>\n",
       "      <td>PillProjectDisc20/images/B4CH0R9B7PEQ6GORRX-8X...</td>\n",
       "      <td>C3PI_Test</td>\n",
       "      <td>STRATTERA 10MG</td>\n",
       "    </tr>\n",
       "    <tr>\n",
       "      <th>...</th>\n",
       "      <td>...</td>\n",
       "      <td>...</td>\n",
       "      <td>...</td>\n",
       "      <td>...</td>\n",
       "      <td>...</td>\n",
       "    </tr>\n",
       "    <tr>\n",
       "      <th>133769</th>\n",
       "      <td>99207046730</td>\n",
       "      <td>1</td>\n",
       "      <td>PillProjectDisc103/images/TY5OVXLLOXV6H4I1TDVT...</td>\n",
       "      <td>MC_COOKED_CALIBRATED_V1.2</td>\n",
       "      <td>SOLODYN 105 MG TAB</td>\n",
       "    </tr>\n",
       "    <tr>\n",
       "      <th>133770</th>\n",
       "      <td>99207046730</td>\n",
       "      <td>1</td>\n",
       "      <td>PillProjectDisc31/images/BEIR3XK38EMGSDOZTWMUK...</td>\n",
       "      <td>MC_COOKED_CALIBRATED_V1.2</td>\n",
       "      <td>SOLODYN 105 MG TAB</td>\n",
       "    </tr>\n",
       "    <tr>\n",
       "      <th>133771</th>\n",
       "      <td>99207046730</td>\n",
       "      <td>1</td>\n",
       "      <td>PillProjectDisc69/images/CLJ1W40OS0XG5H6IVYT!N...</td>\n",
       "      <td>MC_COOKED_CALIBRATED_V1.2</td>\n",
       "      <td>SOLODYN 105 MG TAB</td>\n",
       "    </tr>\n",
       "    <tr>\n",
       "      <th>133772</th>\n",
       "      <td>99207046730</td>\n",
       "      <td>1</td>\n",
       "      <td>PillProjectDisc77/images/CSUHWDZ!XAZSEJHDANMFR...</td>\n",
       "      <td>MC_COOKED_CALIBRATED_V1.2</td>\n",
       "      <td>SOLODYN 105 MG TAB</td>\n",
       "    </tr>\n",
       "    <tr>\n",
       "      <th>133773</th>\n",
       "      <td>99207046730</td>\n",
       "      <td>1</td>\n",
       "      <td>PillProjectDisc23/images/B7P0-2BHT7T88IHB4E1EE...</td>\n",
       "      <td>MC_SPL_SPLIMAGE_V3.0</td>\n",
       "      <td>SOLODYN 105 MG TAB</td>\n",
       "    </tr>\n",
       "  </tbody>\n",
       "</table>\n",
       "<p>133774 rows × 5 columns</p>\n",
       "</div>"
      ],
      "text/plain": [
       "                NDC  IDK                                               PATH  \\\n",
       "0       00002322730    1  PillProjectDisc69/images/CLLLLUPGIX7J8MP1WWQ9W...   \n",
       "1       00002322730    1  PillProjectDisc98/images/PRNJ-AXZIQ!HUQKJJBP_D...   \n",
       "2       00002322730    1  PillProjectDisc10/images/79U-YY6M1UUR6F127ZMAC...   \n",
       "3       00002322730    1  PillProjectDisc11/images/7WVFV5H74!ELFNQ_GUH92...   \n",
       "4       00002322730    1  PillProjectDisc20/images/B4CH0R9B7PEQ6GORRX-8X...   \n",
       "...             ...  ...                                                ...   \n",
       "133769  99207046730    1  PillProjectDisc103/images/TY5OVXLLOXV6H4I1TDVT...   \n",
       "133770  99207046730    1  PillProjectDisc31/images/BEIR3XK38EMGSDOZTWMUK...   \n",
       "133771  99207046730    1  PillProjectDisc69/images/CLJ1W40OS0XG5H6IVYT!N...   \n",
       "133772  99207046730    1  PillProjectDisc77/images/CSUHWDZ!XAZSEJHDANMFR...   \n",
       "133773  99207046730    1  PillProjectDisc23/images/B7P0-2BHT7T88IHB4E1EE...   \n",
       "\n",
       "                             TYPE                DRUG  \n",
       "0                  C3PI_Reference      STRATTERA 10MG  \n",
       "1                  C3PI_Reference      STRATTERA 10MG  \n",
       "2                       C3PI_Test      STRATTERA 10MG  \n",
       "3                       C3PI_Test      STRATTERA 10MG  \n",
       "4                       C3PI_Test      STRATTERA 10MG  \n",
       "...                           ...                 ...  \n",
       "133769  MC_COOKED_CALIBRATED_V1.2  SOLODYN 105 MG TAB  \n",
       "133770  MC_COOKED_CALIBRATED_V1.2  SOLODYN 105 MG TAB  \n",
       "133771  MC_COOKED_CALIBRATED_V1.2  SOLODYN 105 MG TAB  \n",
       "133772  MC_COOKED_CALIBRATED_V1.2  SOLODYN 105 MG TAB  \n",
       "133773       MC_SPL_SPLIMAGE_V3.0  SOLODYN 105 MG TAB  \n",
       "\n",
       "[133774 rows x 5 columns]"
      ]
     },
     "execution_count": 38,
     "metadata": {},
     "output_type": "execute_result"
    }
   ],
   "source": [
    "typdict = {'NDC':'str'}\n",
    "pills = pd.read_csv('../Data/directory_of_images.txt',sep='|', dtype=typdict, names=['NDC','IDK','PATH','TYPE','DRUG'])\n",
    "pills.DRUG = pills.DRUG.str.upper()\n",
    "pills"
   ]
  },
  {
   "cell_type": "code",
   "execution_count": 39,
   "metadata": {},
   "outputs": [
    {
     "data": {
      "text/plain": [
       "00555901258    142\n",
       "00555903270    142\n",
       "63459070160    136\n",
       "52544029128    136\n",
       "00039022310    117\n",
       "00555903458    116\n",
       "50419040901    113\n",
       "51285011458    111\n",
       "00007365022    103\n",
       "49702020218     99\n",
       "Name: NDC, dtype: int64"
      ]
     },
     "execution_count": 39,
     "metadata": {},
     "output_type": "execute_result"
    }
   ],
   "source": [
    "top10 = pills.NDC.value_counts()[:10]\n",
    "top10"
   ]
  },
  {
   "cell_type": "code",
   "execution_count": 40,
   "metadata": {},
   "outputs": [
    {
     "data": {
      "text/plain": [
       "['00555901258',\n",
       " '00555903270',\n",
       " '63459070160',\n",
       " '52544029128',\n",
       " '00039022310',\n",
       " '00555903458',\n",
       " '50419040901',\n",
       " '51285011458',\n",
       " '00007365022',\n",
       " '49702020218']"
      ]
     },
     "execution_count": 40,
     "metadata": {},
     "output_type": "execute_result"
    }
   ],
   "source": [
    "top10NDC = top10.index.tolist()\n",
    "top10NDC"
   ]
  },
  {
   "cell_type": "code",
   "execution_count": 42,
   "metadata": {},
   "outputs": [
    {
     "data": {
      "text/plain": [
       "NORTEL 7/7/7                  142\n",
       "TRI-LEGEST FE                 142\n",
       "TRIVORA TAB                   136\n",
       "AMARYL 4MG TABLETS            117\n",
       "NATAZIA                       113\n",
       "MIRCETTE                      111\n",
       "AMRIX CAP 30MG                101\n",
       "BALZIVA                        66\n",
       "COMBIVIR                       55\n",
       "DYAZIDE CAPS                   52\n",
       "DYAZIDE                        51\n",
       "BALZIVA TAB                    50\n",
       "COMBIVIR 150/300MG TABLETS     44\n",
       "AMRIX                          35\n",
       "Name: DRUG, dtype: int64"
      ]
     },
     "execution_count": 42,
     "metadata": {},
     "output_type": "execute_result"
    }
   ],
   "source": [
    "df = pills[pills.NDC.isin(top10NDC)]\n",
    "df.DRUG.value_counts()"
   ]
  },
  {
   "cell_type": "code",
   "execution_count": 43,
   "metadata": {},
   "outputs": [
    {
     "ename": "AttributeError",
     "evalue": "'DataFrame' object has no attribute 'name'",
     "output_type": "error",
     "traceback": [
      "\u001b[0;31m---------------------------------------------------------------------------\u001b[0m",
      "\u001b[0;31mAttributeError\u001b[0m                            Traceback (most recent call last)",
      "\u001b[0;32m<ipython-input-43-d9f2a8eb818e>\u001b[0m in \u001b[0;36m<module>\u001b[0;34m\u001b[0m\n\u001b[0;32m----> 1\u001b[0;31m \u001b[0mdf\u001b[0m\u001b[0;34m.\u001b[0m\u001b[0mname\u001b[0m\u001b[0;34m.\u001b[0m\u001b[0miloc\u001b[0m\u001b[0;34m[\u001b[0m\u001b[0;36m0\u001b[0m\u001b[0;34m]\u001b[0m\u001b[0;34m\u001b[0m\u001b[0;34m\u001b[0m\u001b[0m\n\u001b[0m",
      "\u001b[0;32m~/.conda/envs/aw0520/lib/python3.7/site-packages/pandas/core/generic.py\u001b[0m in \u001b[0;36m__getattr__\u001b[0;34m(self, name)\u001b[0m\n\u001b[1;32m   5272\u001b[0m             \u001b[0;32mif\u001b[0m \u001b[0mself\u001b[0m\u001b[0;34m.\u001b[0m\u001b[0m_info_axis\u001b[0m\u001b[0;34m.\u001b[0m\u001b[0m_can_hold_identifiers_and_holds_name\u001b[0m\u001b[0;34m(\u001b[0m\u001b[0mname\u001b[0m\u001b[0;34m)\u001b[0m\u001b[0;34m:\u001b[0m\u001b[0;34m\u001b[0m\u001b[0;34m\u001b[0m\u001b[0m\n\u001b[1;32m   5273\u001b[0m                 \u001b[0;32mreturn\u001b[0m \u001b[0mself\u001b[0m\u001b[0;34m[\u001b[0m\u001b[0mname\u001b[0m\u001b[0;34m]\u001b[0m\u001b[0;34m\u001b[0m\u001b[0;34m\u001b[0m\u001b[0m\n\u001b[0;32m-> 5274\u001b[0;31m             \u001b[0;32mreturn\u001b[0m \u001b[0mobject\u001b[0m\u001b[0;34m.\u001b[0m\u001b[0m__getattribute__\u001b[0m\u001b[0;34m(\u001b[0m\u001b[0mself\u001b[0m\u001b[0;34m,\u001b[0m \u001b[0mname\u001b[0m\u001b[0;34m)\u001b[0m\u001b[0;34m\u001b[0m\u001b[0;34m\u001b[0m\u001b[0m\n\u001b[0m\u001b[1;32m   5275\u001b[0m \u001b[0;34m\u001b[0m\u001b[0m\n\u001b[1;32m   5276\u001b[0m     \u001b[0;32mdef\u001b[0m \u001b[0m__setattr__\u001b[0m\u001b[0;34m(\u001b[0m\u001b[0mself\u001b[0m\u001b[0;34m,\u001b[0m \u001b[0mname\u001b[0m\u001b[0;34m:\u001b[0m \u001b[0mstr\u001b[0m\u001b[0;34m,\u001b[0m \u001b[0mvalue\u001b[0m\u001b[0;34m)\u001b[0m \u001b[0;34m->\u001b[0m \u001b[0;32mNone\u001b[0m\u001b[0;34m:\u001b[0m\u001b[0;34m\u001b[0m\u001b[0;34m\u001b[0m\u001b[0m\n",
      "\u001b[0;31mAttributeError\u001b[0m: 'DataFrame' object has no attribute 'name'"
     ]
    }
   ],
   "source": [
    "df.name.iloc[0]"
   ]
  },
  {
   "cell_type": "code",
   "execution_count": null,
   "metadata": {},
   "outputs": [],
   "source": []
  }
 ],
 "metadata": {
  "kernelspec": {
   "display_name": "Python 3",
   "language": "python",
   "name": "python3"
  },
  "language_info": {
   "codemirror_mode": {
    "name": "ipython",
    "version": 3
   },
   "file_extension": ".py",
   "mimetype": "text/x-python",
   "name": "python",
   "nbconvert_exporter": "python",
   "pygments_lexer": "ipython3",
   "version": "3.7.7"
  }
 },
 "nbformat": 4,
 "nbformat_minor": 4
}
