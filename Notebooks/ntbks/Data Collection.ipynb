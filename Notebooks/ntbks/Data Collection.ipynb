{
 "cells": [
  {
   "cell_type": "markdown",
   "metadata": {},
   "source": [
    "# Select Data"
   ]
  },
  {
   "cell_type": "markdown",
   "metadata": {},
   "source": [
    "This notebook can be run to collect images for specific NDCs from the NIH ftp location"
   ]
  },
  {
   "cell_type": "code",
   "execution_count": 1,
   "metadata": {},
   "outputs": [],
   "source": [
    "import os\n",
    "import sys"
   ]
  },
  {
   "cell_type": "code",
   "execution_count": 2,
   "metadata": {},
   "outputs": [],
   "source": [
    "import pandas as pd\n",
    "import requests\n",
    "from IPython.display import Image\n",
    "import time\n",
    "from ftplib import FTP\n",
    "\n",
    "from PIL import Image\n",
    "from PIL import ImageFile\n",
    "import rawpy\n",
    "import imageio\n",
    "ImageFile.LOAD_TRUNCATED_IMAGES = True\n",
    "\n",
    "\n",
    "import os, shutil"
   ]
  },
  {
   "cell_type": "code",
   "execution_count": 3,
   "metadata": {},
   "outputs": [
    {
     "data": {
      "text/plain": [
       "'/Users/alphonsowoodbury/Projects/Computer_Vision-Medication_Identification/Notebooks'"
      ]
     },
     "execution_count": 3,
     "metadata": {},
     "output_type": "execute_result"
    }
   ],
   "source": [
    "%pwd"
   ]
  },
  {
   "cell_type": "code",
   "execution_count": 75,
   "metadata": {},
   "outputs": [],
   "source": [
    "typdict = {'NDC':'str'}\n",
    "df = pd.read_csv('../data/directory_of_images.txt',sep='|', dtype=typdict, names=['NDC','IDK','FILE','TYPE','DRUG'])\n",
    "df = df.dropna()\n",
    "df.DRUG = df.DRUG.str.upper()\n",
    "df[['ORIG_FOLDER','IMAGES','FILENAME']] = df.FILE.str.split('/', expand=True)\n",
    "df['FILETYPE'] = df.FILENAME.str[-4:]\n",
    "df = df[df.FILETYPE != '.WMV']"
   ]
  },
  {
   "cell_type": "code",
   "execution_count": 41,
   "metadata": {},
   "outputs": [
    {
     "data": {
      "text/html": [
       "<div>\n",
       "<style scoped>\n",
       "    .dataframe tbody tr th:only-of-type {\n",
       "        vertical-align: middle;\n",
       "    }\n",
       "\n",
       "    .dataframe tbody tr th {\n",
       "        vertical-align: top;\n",
       "    }\n",
       "\n",
       "    .dataframe thead th {\n",
       "        text-align: right;\n",
       "    }\n",
       "</style>\n",
       "<table border=\"1\" class=\"dataframe\">\n",
       "  <thead>\n",
       "    <tr style=\"text-align: right;\">\n",
       "      <th></th>\n",
       "      <th>NDC</th>\n",
       "      <th>IDK</th>\n",
       "      <th>FILE</th>\n",
       "      <th>TYPE</th>\n",
       "      <th>DRUG</th>\n",
       "      <th>ORIG_FOLDER</th>\n",
       "      <th>IMAGES</th>\n",
       "      <th>FILENAME</th>\n",
       "      <th>FILETYPE</th>\n",
       "    </tr>\n",
       "  </thead>\n",
       "  <tbody>\n",
       "    <tr>\n",
       "      <th>1154</th>\n",
       "      <td>00006071731</td>\n",
       "      <td>1</td>\n",
       "      <td>PillProjectDisc47/images/BTP1RXB_-K0LZ1KKG8-IC...</td>\n",
       "      <td>C3PI_Reference</td>\n",
       "      <td>HYZAAR TAB 50-12.5</td>\n",
       "      <td>PillProjectDisc47</td>\n",
       "      <td>images</td>\n",
       "      <td>BTP1RXB_-K0LZ1KKG8-IC7V!SWN8Y-9.CR2</td>\n",
       "      <td>.CR2</td>\n",
       "    </tr>\n",
       "    <tr>\n",
       "      <th>1155</th>\n",
       "      <td>00006071731</td>\n",
       "      <td>1</td>\n",
       "      <td>PillProjectDisc73/images/CPU!I!XSDUUNM-NXY2BUP...</td>\n",
       "      <td>C3PI_Reference</td>\n",
       "      <td>HYZAAR TAB 50-12.5</td>\n",
       "      <td>PillProjectDisc73</td>\n",
       "      <td>images</td>\n",
       "      <td>CPU!I!XSDUUNM-NXY2BUP-9T8H5V8CW.CR2</td>\n",
       "      <td>.CR2</td>\n",
       "    </tr>\n",
       "    <tr>\n",
       "      <th>1156</th>\n",
       "      <td>00006071731</td>\n",
       "      <td>1</td>\n",
       "      <td>PillProjectDisc100/images/R8VKTSV4N4TGKSBHLBL4...</td>\n",
       "      <td>C3PI_Test</td>\n",
       "      <td>HYZAAR TAB 50-12.5</td>\n",
       "      <td>PillProjectDisc100</td>\n",
       "      <td>images</td>\n",
       "      <td>R8VKTSV4N4TGKSBHLBL4-MV8XX-J3W.JPG</td>\n",
       "      <td>.JPG</td>\n",
       "    </tr>\n",
       "    <tr>\n",
       "      <th>1157</th>\n",
       "      <td>00006071731</td>\n",
       "      <td>1</td>\n",
       "      <td>PillProjectDisc107/images/Y025R!5YWNKF_8VF2CSV...</td>\n",
       "      <td>C3PI_Test</td>\n",
       "      <td>HYZAAR TAB 50-12.5</td>\n",
       "      <td>PillProjectDisc107</td>\n",
       "      <td>images</td>\n",
       "      <td>Y025R!5YWNKF_8VF2CSVGGVKZ57T7D.JPG</td>\n",
       "      <td>.JPG</td>\n",
       "    </tr>\n",
       "    <tr>\n",
       "      <th>1158</th>\n",
       "      <td>00006071731</td>\n",
       "      <td>1</td>\n",
       "      <td>PillProjectDisc107/images/Y-P3X-V40UCV2OCV0JT5...</td>\n",
       "      <td>C3PI_Test</td>\n",
       "      <td>HYZAAR TAB 50-12.5</td>\n",
       "      <td>PillProjectDisc107</td>\n",
       "      <td>images</td>\n",
       "      <td>Y-P3X-V40UCV2OCV0JT5KVRPTYVEW-.JPG</td>\n",
       "      <td>.JPG</td>\n",
       "    </tr>\n",
       "    <tr>\n",
       "      <th>...</th>\n",
       "      <td>...</td>\n",
       "      <td>...</td>\n",
       "      <td>...</td>\n",
       "      <td>...</td>\n",
       "      <td>...</td>\n",
       "      <td>...</td>\n",
       "      <td>...</td>\n",
       "      <td>...</td>\n",
       "      <td>...</td>\n",
       "    </tr>\n",
       "    <tr>\n",
       "      <th>132650</th>\n",
       "      <td>68546014256</td>\n",
       "      <td>1</td>\n",
       "      <td>PillProjectDisc4/images/1B8T6-P5RIL!RNHR0-JFVY...</td>\n",
       "      <td>MC_COOKED_CALIBRATED_V1.2</td>\n",
       "      <td>AZILECT TAB 0.5MG</td>\n",
       "      <td>PillProjectDisc4</td>\n",
       "      <td>images</td>\n",
       "      <td>1B8T6-P5RIL!RNHR0-JFVY57BSJZCN.PNG</td>\n",
       "      <td>.PNG</td>\n",
       "    </tr>\n",
       "    <tr>\n",
       "      <th>132651</th>\n",
       "      <td>68546014256</td>\n",
       "      <td>1</td>\n",
       "      <td>PillProjectDisc53/images/BZELDHLT14PJE3DN1RR!7...</td>\n",
       "      <td>MC_COOKED_CALIBRATED_V1.2</td>\n",
       "      <td>AZILECT</td>\n",
       "      <td>PillProjectDisc53</td>\n",
       "      <td>images</td>\n",
       "      <td>BZELDHLT14PJE3DN1RR!7FJUH8-PF3J.PNG</td>\n",
       "      <td>.PNG</td>\n",
       "    </tr>\n",
       "    <tr>\n",
       "      <th>132652</th>\n",
       "      <td>68546014256</td>\n",
       "      <td>1</td>\n",
       "      <td>PillProjectDisc59/images/CCHQJ433ZPEKU_8J5U-10...</td>\n",
       "      <td>MC_COOKED_CALIBRATED_V1.2</td>\n",
       "      <td>AZILECT</td>\n",
       "      <td>PillProjectDisc59</td>\n",
       "      <td>images</td>\n",
       "      <td>CCHQJ433ZPEKU_8J5U-10X!W2K7PC50.PNG</td>\n",
       "      <td>.PNG</td>\n",
       "    </tr>\n",
       "    <tr>\n",
       "      <th>132653</th>\n",
       "      <td>68546014256</td>\n",
       "      <td>1</td>\n",
       "      <td>PillProjectDisc81/images/CWZF8VC1Z1GQ1U3GRXMDG...</td>\n",
       "      <td>MC_COOKED_CALIBRATED_V1.2</td>\n",
       "      <td>AZILECT</td>\n",
       "      <td>PillProjectDisc81</td>\n",
       "      <td>images</td>\n",
       "      <td>CWZF8VC1Z1GQ1U3GRXMDGW!-5AZX_X1.PNG</td>\n",
       "      <td>.PNG</td>\n",
       "    </tr>\n",
       "    <tr>\n",
       "      <th>132654</th>\n",
       "      <td>68546014256</td>\n",
       "      <td>1</td>\n",
       "      <td>PillProjectDisc20/images/B3W3PIMNZ2_HUA58NMTJ2...</td>\n",
       "      <td>MC_SPL_SPLIMAGE_V3.0</td>\n",
       "      <td>AZILECT TAB 0.5MG</td>\n",
       "      <td>PillProjectDisc20</td>\n",
       "      <td>images</td>\n",
       "      <td>B3W3PIMNZ2_HUA58NMTJ2NR0DZ2H_JJ.JPG</td>\n",
       "      <td>.JPG</td>\n",
       "    </tr>\n",
       "  </tbody>\n",
       "</table>\n",
       "<p>19085 rows × 9 columns</p>\n",
       "</div>"
      ],
      "text/plain": [
       "                NDC  IDK                                               FILE  \\\n",
       "1154    00006071731    1  PillProjectDisc47/images/BTP1RXB_-K0LZ1KKG8-IC...   \n",
       "1155    00006071731    1  PillProjectDisc73/images/CPU!I!XSDUUNM-NXY2BUP...   \n",
       "1156    00006071731    1  PillProjectDisc100/images/R8VKTSV4N4TGKSBHLBL4...   \n",
       "1157    00006071731    1  PillProjectDisc107/images/Y025R!5YWNKF_8VF2CSV...   \n",
       "1158    00006071731    1  PillProjectDisc107/images/Y-P3X-V40UCV2OCV0JT5...   \n",
       "...             ...  ...                                                ...   \n",
       "132650  68546014256    1  PillProjectDisc4/images/1B8T6-P5RIL!RNHR0-JFVY...   \n",
       "132651  68546014256    1  PillProjectDisc53/images/BZELDHLT14PJE3DN1RR!7...   \n",
       "132652  68546014256    1  PillProjectDisc59/images/CCHQJ433ZPEKU_8J5U-10...   \n",
       "132653  68546014256    1  PillProjectDisc81/images/CWZF8VC1Z1GQ1U3GRXMDG...   \n",
       "132654  68546014256    1  PillProjectDisc20/images/B3W3PIMNZ2_HUA58NMTJ2...   \n",
       "\n",
       "                             TYPE                DRUG         ORIG_FOLDER  \\\n",
       "1154               C3PI_Reference  HYZAAR TAB 50-12.5   PillProjectDisc47   \n",
       "1155               C3PI_Reference  HYZAAR TAB 50-12.5   PillProjectDisc73   \n",
       "1156                    C3PI_Test  HYZAAR TAB 50-12.5  PillProjectDisc100   \n",
       "1157                    C3PI_Test  HYZAAR TAB 50-12.5  PillProjectDisc107   \n",
       "1158                    C3PI_Test  HYZAAR TAB 50-12.5  PillProjectDisc107   \n",
       "...                           ...                 ...                 ...   \n",
       "132650  MC_COOKED_CALIBRATED_V1.2   AZILECT TAB 0.5MG    PillProjectDisc4   \n",
       "132651  MC_COOKED_CALIBRATED_V1.2             AZILECT   PillProjectDisc53   \n",
       "132652  MC_COOKED_CALIBRATED_V1.2             AZILECT   PillProjectDisc59   \n",
       "132653  MC_COOKED_CALIBRATED_V1.2             AZILECT   PillProjectDisc81   \n",
       "132654       MC_SPL_SPLIMAGE_V3.0   AZILECT TAB 0.5MG   PillProjectDisc20   \n",
       "\n",
       "        IMAGES                             FILENAME FILETYPE  \n",
       "1154    images  BTP1RXB_-K0LZ1KKG8-IC7V!SWN8Y-9.CR2     .CR2  \n",
       "1155    images  CPU!I!XSDUUNM-NXY2BUP-9T8H5V8CW.CR2     .CR2  \n",
       "1156    images   R8VKTSV4N4TGKSBHLBL4-MV8XX-J3W.JPG     .JPG  \n",
       "1157    images   Y025R!5YWNKF_8VF2CSVGGVKZ57T7D.JPG     .JPG  \n",
       "1158    images   Y-P3X-V40UCV2OCV0JT5KVRPTYVEW-.JPG     .JPG  \n",
       "...        ...                                  ...      ...  \n",
       "132650  images   1B8T6-P5RIL!RNHR0-JFVY57BSJZCN.PNG     .PNG  \n",
       "132651  images  BZELDHLT14PJE3DN1RR!7FJUH8-PF3J.PNG     .PNG  \n",
       "132652  images  CCHQJ433ZPEKU_8J5U-10X!W2K7PC50.PNG     .PNG  \n",
       "132653  images  CWZF8VC1Z1GQ1U3GRXMDGW!-5AZX_X1.PNG     .PNG  \n",
       "132654  images  B3W3PIMNZ2_HUA58NMTJ2NR0DZ2H_JJ.JPG     .JPG  \n",
       "\n",
       "[19085 rows x 9 columns]"
      ]
     },
     "execution_count": 41,
     "metadata": {},
     "output_type": "execute_result"
    }
   ],
   "source": [
    "ndcs = ds.NDC.value_counts()\n",
    "n25 = ndcs[ndcs >= 50].index\n",
    "# #n100 = ndcs[ndcs <= 100].index\n",
    "# ndcs50100 = list(set(n50) & set(n100))\n",
    "pillsX = ds[ds.NDC.isin(n25)]\n",
    "pillsX"
   ]
  },
  {
   "cell_type": "code",
   "execution_count": 42,
   "metadata": {},
   "outputs": [
    {
     "data": {
      "text/plain": [
       "00555901258    138\n",
       "00555903270    138\n",
       "63459070160    134\n",
       "52544029128    132\n",
       "00039022310    115\n",
       "              ... \n",
       "00781196160     50\n",
       "64125013010     50\n",
       "23155010501     50\n",
       "00591084510     50\n",
       "24486060490     50\n",
       "Name: NDC, Length: 294, dtype: int64"
      ]
     },
     "execution_count": 42,
     "metadata": {},
     "output_type": "execute_result"
    }
   ],
   "source": [
    "pillsX.NDC.value_counts()"
   ]
  },
  {
   "cell_type": "code",
   "execution_count": 76,
   "metadata": {},
   "outputs": [
    {
     "name": "stdout",
     "output_type": "stream",
     "text": [
      "0\t0\t0\n",
      "1\t0\t0\n",
      "2\t0\t0\n",
      "3\t0\t0\n",
      "4\t0\t0\n",
      "5\t0\t0\n",
      "6\t0\t0\n",
      "7\t0\t0\n",
      "8\t0\t0\n",
      "9\t0\t0\n",
      "10\t10\t1\n",
      "11\t33\t3\n",
      "12\t0\t0\n",
      "13\t0\t0\n",
      "14\t14\t1\n",
      "15\t4080\t272\n",
      "16\t0\t0\n",
      "17\t36057\t2121\n",
      "18\t0\t0\n",
      "19\t0\t0\n",
      "20\t100\t5\n",
      "21\t42\t2\n",
      "22\t22\t1\n",
      "23\t23\t1\n",
      "24\t0\t0\n",
      "25\t700\t28\n",
      "26\t26\t1\n",
      "27\t1971\t73\n",
      "28\t2436\t87\n",
      "29\t3480\t120\n",
      "30\t6690\t223\n",
      "31\t3689\t119\n",
      "32\t13376\t418\n",
      "33\t1056\t32\n",
      "34\t17204\t506\n",
      "35\t140\t4\n",
      "36\t14076\t391\n",
      "37\t74\t2\n",
      "38\t912\t24\n",
      "39\t39\t1\n",
      "40\t680\t17\n",
      "41\t123\t3\n",
      "42\t1554\t37\n",
      "43\t86\t2\n",
      "44\t924\t21\n",
      "45\t180\t4\n",
      "46\t552\t12\n",
      "47\t470\t10\n",
      "48\t240\t5\n",
      "49\t1127\t23\n",
      "50\t750\t15\n",
      "51\t969\t19\n",
      "52\t416\t8\n",
      "53\t530\t10\n",
      "54\t432\t8\n",
      "55\t550\t10\n",
      "56\t336\t6\n",
      "57\t114\t2\n",
      "58\t290\t5\n",
      "59\t885\t15\n",
      "60\t600\t10\n",
      "61\t1525\t25\n",
      "62\t558\t9\n",
      "63\t1071\t17\n",
      "64\t128\t2\n",
      "65\t1040\t16\n",
      "66\t396\t6\n",
      "67\t804\t12\n",
      "68\t1700\t25\n",
      "69\t759\t11\n",
      "70\t910\t13\n",
      "71\t213\t3\n",
      "72\t648\t9\n",
      "73\t146\t2\n",
      "74\t296\t4\n",
      "75\t75\t1\n",
      "76\t228\t3\n",
      "77\t0\t0\n",
      "78\t390\t5\n",
      "79\t158\t2\n",
      "80\t80\t1\n",
      "81\t0\t0\n",
      "82\t82\t1\n",
      "83\t83\t1\n",
      "84\t0\t0\n",
      "85\t170\t2\n",
      "86\t0\t0\n",
      "87\t0\t0\n",
      "88\t0\t0\n",
      "89\t0\t0\n",
      "90\t0\t0\n",
      "91\t91\t1\n",
      "92\t0\t0\n",
      "93\t0\t0\n",
      "94\t0\t0\n",
      "95\t475\t5\n",
      "96\t0\t0\n",
      "97\t0\t0\n",
      "98\t98\t1\n",
      "99\t99\t1\n",
      "100\t0\t0\n",
      "101\t0\t0\n",
      "102\t0\t0\n",
      "103\t0\t0\n",
      "104\t0\t0\n",
      "105\t0\t0\n",
      "106\t0\t0\n",
      "107\t0\t0\n",
      "108\t108\t1\n",
      "109\t0\t0\n",
      "110\t0\t0\n"
     ]
    }
   ],
   "source": [
    "for i in range(0,111):\n",
    "    p = df.groupby(['NDC']).count()\n",
    "    pp = p.sort_values('IDK', ascending=True)\n",
    "    pp = pp[pp.IDK == i]#.reset_index()\n",
    "    pp = pp.reset_index()\n",
    "    pp = pp.sort_values('NDC')\n",
    "    pp = pp.sort_values('DRUG')\n",
    "    fiftyplus = pp.NDC.to_list()\n",
    "    druglist = ds[ds.NDC.isin(fiftyplus)]\n",
    "    druglist.DRUG.value_counts()\n",
    "    print(str(i) + '\\t' +  str(len(druglist.index))+ '\\t'+ str(len(fiftyplus)))"
   ]
  },
  {
   "cell_type": "code",
   "execution_count": 44,
   "metadata": {},
   "outputs": [
    {
     "data": {
      "text/html": [
       "<div>\n",
       "<style scoped>\n",
       "    .dataframe tbody tr th:only-of-type {\n",
       "        vertical-align: middle;\n",
       "    }\n",
       "\n",
       "    .dataframe tbody tr th {\n",
       "        vertical-align: top;\n",
       "    }\n",
       "\n",
       "    .dataframe thead th {\n",
       "        text-align: right;\n",
       "    }\n",
       "</style>\n",
       "<table border=\"1\" class=\"dataframe\">\n",
       "  <thead>\n",
       "    <tr style=\"text-align: right;\">\n",
       "      <th></th>\n",
       "      <th>NDC</th>\n",
       "      <th>IDK</th>\n",
       "      <th>FILE</th>\n",
       "      <th>TYPE</th>\n",
       "      <th>DRUG</th>\n",
       "      <th>ORIG_FOLDER</th>\n",
       "      <th>IMAGES</th>\n",
       "      <th>FILENAME</th>\n",
       "      <th>FILETYPE</th>\n",
       "    </tr>\n",
       "  </thead>\n",
       "  <tbody>\n",
       "    <tr>\n",
       "      <th>1226</th>\n",
       "      <td>00006074554</td>\n",
       "      <td>1</td>\n",
       "      <td>PillProjectDisc24/images/B7VF6YKZAKU7R6RH9PJC6...</td>\n",
       "      <td>C3PI_Reference</td>\n",
       "      <td>HYZAAR TAB 100-12.5</td>\n",
       "      <td>PillProjectDisc24</td>\n",
       "      <td>images</td>\n",
       "      <td>B7VF6YKZAKU7R6RH9PJC6-Q3QNJYYO4.CR2</td>\n",
       "      <td>.CR2</td>\n",
       "    </tr>\n",
       "    <tr>\n",
       "      <th>1227</th>\n",
       "      <td>00006074554</td>\n",
       "      <td>1</td>\n",
       "      <td>PillProjectDisc53/images/BZRBET5WWF01MHM0TS8UA...</td>\n",
       "      <td>C3PI_Reference</td>\n",
       "      <td>HYZAAR TAB 100-12.5</td>\n",
       "      <td>PillProjectDisc53</td>\n",
       "      <td>images</td>\n",
       "      <td>BZRBET5WWF01MHM0TS8UAJE_XKVUZV8.CR2</td>\n",
       "      <td>.CR2</td>\n",
       "    </tr>\n",
       "    <tr>\n",
       "      <th>1228</th>\n",
       "      <td>00006074554</td>\n",
       "      <td>1</td>\n",
       "      <td>PillProjectDisc106/images/W7_68M2JGM2VVC-5BAJU...</td>\n",
       "      <td>C3PI_Test</td>\n",
       "      <td>HYZAAR TAB 100-12.5</td>\n",
       "      <td>PillProjectDisc106</td>\n",
       "      <td>images</td>\n",
       "      <td>W7_68M2JGM2VVC-5BAJURW0-MELXXR.JPG</td>\n",
       "      <td>.JPG</td>\n",
       "    </tr>\n",
       "    <tr>\n",
       "      <th>1229</th>\n",
       "      <td>00006074554</td>\n",
       "      <td>1</td>\n",
       "      <td>PillProjectDisc109/images/ZSLAKUF3PNEZFLJIRVSV...</td>\n",
       "      <td>C3PI_Test</td>\n",
       "      <td>HYZAAR TAB 100-12.5</td>\n",
       "      <td>PillProjectDisc109</td>\n",
       "      <td>images</td>\n",
       "      <td>ZSLAKUF3PNEZFLJIRVSV6-ZS7V7-QL.JPG</td>\n",
       "      <td>.JPG</td>\n",
       "    </tr>\n",
       "    <tr>\n",
       "      <th>1230</th>\n",
       "      <td>00006074554</td>\n",
       "      <td>1</td>\n",
       "      <td>PillProjectDisc11/images/7RPWFG3ZF3E0LL1L!4TBA...</td>\n",
       "      <td>C3PI_Test</td>\n",
       "      <td>HYZAAR TAB 100-12.5</td>\n",
       "      <td>PillProjectDisc11</td>\n",
       "      <td>images</td>\n",
       "      <td>7RPWFG3ZF3E0LL1L!4TBAD7BD_WGWY.JPG</td>\n",
       "      <td>.JPG</td>\n",
       "    </tr>\n",
       "    <tr>\n",
       "      <th>...</th>\n",
       "      <td>...</td>\n",
       "      <td>...</td>\n",
       "      <td>...</td>\n",
       "      <td>...</td>\n",
       "      <td>...</td>\n",
       "      <td>...</td>\n",
       "      <td>...</td>\n",
       "      <td>...</td>\n",
       "      <td>...</td>\n",
       "    </tr>\n",
       "    <tr>\n",
       "      <th>124244</th>\n",
       "      <td>65862019905</td>\n",
       "      <td>1</td>\n",
       "      <td>PillProjectDisc20/images/B48ZJ0_NS_D9U78ON7-GM...</td>\n",
       "      <td>MC_COOKED_CALIBRATED_V1.2</td>\n",
       "      <td>GABAPENTIN 300MG CAP</td>\n",
       "      <td>PillProjectDisc20</td>\n",
       "      <td>images</td>\n",
       "      <td>B48ZJ0_NS_D9U78ON7-GM3UGB26UI1W.PNG</td>\n",
       "      <td>.PNG</td>\n",
       "    </tr>\n",
       "    <tr>\n",
       "      <th>124245</th>\n",
       "      <td>65862019905</td>\n",
       "      <td>1</td>\n",
       "      <td>PillProjectDisc53/images/BZ1FSXTOE4T22MSGJXFRT...</td>\n",
       "      <td>MC_COOKED_CALIBRATED_V1.2</td>\n",
       "      <td>GABAPENTIN 300MG CAP</td>\n",
       "      <td>PillProjectDisc53</td>\n",
       "      <td>images</td>\n",
       "      <td>BZ1FSXTOE4T22MSGJXFRTL16HYT8GXR.PNG</td>\n",
       "      <td>.PNG</td>\n",
       "    </tr>\n",
       "    <tr>\n",
       "      <th>124246</th>\n",
       "      <td>65862019905</td>\n",
       "      <td>1</td>\n",
       "      <td>PillProjectDisc5/images/1XUYSB3P6Q36KO510FS9BW...</td>\n",
       "      <td>MC_COOKED_CALIBRATED_V1.2</td>\n",
       "      <td>GABAPENTIN 300MG CAP</td>\n",
       "      <td>PillProjectDisc5</td>\n",
       "      <td>images</td>\n",
       "      <td>1XUYSB3P6Q36KO510FS9BWMK5GW_AQ.PNG</td>\n",
       "      <td>.PNG</td>\n",
       "    </tr>\n",
       "    <tr>\n",
       "      <th>124247</th>\n",
       "      <td>65862019905</td>\n",
       "      <td>1</td>\n",
       "      <td>PillProjectDisc66/images/CIHOS-4VFVZT8UTQZ00OY...</td>\n",
       "      <td>MC_COOKED_CALIBRATED_V1.2</td>\n",
       "      <td>GABAPENTIN 300MG CAP</td>\n",
       "      <td>PillProjectDisc66</td>\n",
       "      <td>images</td>\n",
       "      <td>CIHOS-4VFVZT8UTQZ00OYFI-M!HB4OW.PNG</td>\n",
       "      <td>.PNG</td>\n",
       "    </tr>\n",
       "    <tr>\n",
       "      <th>124248</th>\n",
       "      <td>65862019905</td>\n",
       "      <td>1</td>\n",
       "      <td>PillProjectDisc2/images/-C9U9YVLUDE71T0KQE16CX...</td>\n",
       "      <td>MC_SPL_SPLIMAGE_V3.0</td>\n",
       "      <td>GABAPENTIN 300MG CAP</td>\n",
       "      <td>PillProjectDisc2</td>\n",
       "      <td>images</td>\n",
       "      <td>-C9U9YVLUDE71T0KQE16CXA5Z1YA39.JPG</td>\n",
       "      <td>.JPG</td>\n",
       "    </tr>\n",
       "  </tbody>\n",
       "</table>\n",
       "<p>750 rows × 9 columns</p>\n",
       "</div>"
      ],
      "text/plain": [
       "                NDC  IDK                                               FILE  \\\n",
       "1226    00006074554    1  PillProjectDisc24/images/B7VF6YKZAKU7R6RH9PJC6...   \n",
       "1227    00006074554    1  PillProjectDisc53/images/BZRBET5WWF01MHM0TS8UA...   \n",
       "1228    00006074554    1  PillProjectDisc106/images/W7_68M2JGM2VVC-5BAJU...   \n",
       "1229    00006074554    1  PillProjectDisc109/images/ZSLAKUF3PNEZFLJIRVSV...   \n",
       "1230    00006074554    1  PillProjectDisc11/images/7RPWFG3ZF3E0LL1L!4TBA...   \n",
       "...             ...  ...                                                ...   \n",
       "124244  65862019905    1  PillProjectDisc20/images/B48ZJ0_NS_D9U78ON7-GM...   \n",
       "124245  65862019905    1  PillProjectDisc53/images/BZ1FSXTOE4T22MSGJXFRT...   \n",
       "124246  65862019905    1  PillProjectDisc5/images/1XUYSB3P6Q36KO510FS9BW...   \n",
       "124247  65862019905    1  PillProjectDisc66/images/CIHOS-4VFVZT8UTQZ00OY...   \n",
       "124248  65862019905    1  PillProjectDisc2/images/-C9U9YVLUDE71T0KQE16CX...   \n",
       "\n",
       "                             TYPE                  DRUG         ORIG_FOLDER  \\\n",
       "1226               C3PI_Reference   HYZAAR TAB 100-12.5   PillProjectDisc24   \n",
       "1227               C3PI_Reference   HYZAAR TAB 100-12.5   PillProjectDisc53   \n",
       "1228                    C3PI_Test   HYZAAR TAB 100-12.5  PillProjectDisc106   \n",
       "1229                    C3PI_Test   HYZAAR TAB 100-12.5  PillProjectDisc109   \n",
       "1230                    C3PI_Test   HYZAAR TAB 100-12.5   PillProjectDisc11   \n",
       "...                           ...                   ...                 ...   \n",
       "124244  MC_COOKED_CALIBRATED_V1.2  GABAPENTIN 300MG CAP   PillProjectDisc20   \n",
       "124245  MC_COOKED_CALIBRATED_V1.2  GABAPENTIN 300MG CAP   PillProjectDisc53   \n",
       "124246  MC_COOKED_CALIBRATED_V1.2  GABAPENTIN 300MG CAP    PillProjectDisc5   \n",
       "124247  MC_COOKED_CALIBRATED_V1.2  GABAPENTIN 300MG CAP   PillProjectDisc66   \n",
       "124248       MC_SPL_SPLIMAGE_V3.0  GABAPENTIN 300MG CAP    PillProjectDisc2   \n",
       "\n",
       "        IMAGES                             FILENAME FILETYPE  \n",
       "1226    images  B7VF6YKZAKU7R6RH9PJC6-Q3QNJYYO4.CR2     .CR2  \n",
       "1227    images  BZRBET5WWF01MHM0TS8UAJE_XKVUZV8.CR2     .CR2  \n",
       "1228    images   W7_68M2JGM2VVC-5BAJURW0-MELXXR.JPG     .JPG  \n",
       "1229    images   ZSLAKUF3PNEZFLJIRVSV6-ZS7V7-QL.JPG     .JPG  \n",
       "1230    images   7RPWFG3ZF3E0LL1L!4TBAD7BD_WGWY.JPG     .JPG  \n",
       "...        ...                                  ...      ...  \n",
       "124244  images  B48ZJ0_NS_D9U78ON7-GM3UGB26UI1W.PNG     .PNG  \n",
       "124245  images  BZ1FSXTOE4T22MSGJXFRTL16HYT8GXR.PNG     .PNG  \n",
       "124246  images   1XUYSB3P6Q36KO510FS9BWMK5GW_AQ.PNG     .PNG  \n",
       "124247  images  CIHOS-4VFVZT8UTQZ00OYFI-M!HB4OW.PNG     .PNG  \n",
       "124248  images   -C9U9YVLUDE71T0KQE16CXA5Z1YA39.JPG     .JPG  \n",
       "\n",
       "[750 rows x 9 columns]"
      ]
     },
     "execution_count": 44,
     "metadata": {},
     "output_type": "execute_result"
    }
   ],
   "source": [
    "\n",
    "druglist"
   ]
  },
  {
   "cell_type": "code",
   "execution_count": 45,
   "metadata": {},
   "outputs": [
    {
     "data": {
      "text/plain": [
       "HCTZ 50MG TABS                50\n",
       "IBUPROFEN 600MG TAB           50\n",
       "CLARITHROMYCIN 250            50\n",
       "CLEOCIN 75MG CAPS             50\n",
       "GABAPENTIN 300MG CAP          50\n",
       "FLUOXETINE 40MG CAP           50\n",
       "HYDROXYZINE  HCL 10MG TABS    50\n",
       "HYOMAX-DT 0.375MG TABLET      50\n",
       "GLIPIZIDE ER 10MG TAB         50\n",
       "INDERAL LA CAP 160MG          50\n",
       "HYZAAR TAB 100-12.5           50\n",
       "HYOMAX-FT 0.125MG TAB         50\n",
       "BENZONATATE CAPSULES, USP     50\n",
       "OLANZAPINE 2.5MG TAB          33\n",
       "INDOMETHACIN CAPSULES USP     33\n",
       "INDOMETHACIN CAPSULES, USP    17\n",
       "OLANZAPINE TABLETS USP        17\n",
       "Name: DRUG, dtype: int64"
      ]
     },
     "execution_count": 45,
     "metadata": {},
     "output_type": "execute_result"
    }
   ],
   "source": [
    "druglist.DRUG.value_counts()"
   ]
  },
  {
   "cell_type": "code",
   "execution_count": 46,
   "metadata": {},
   "outputs": [
    {
     "data": {
      "text/plain": [
       "00006074554    50\n",
       "00555188302    50\n",
       "65862019430    50\n",
       "24090047988    50\n",
       "00781196160    50\n",
       "24486060490    50\n",
       "00093402901    50\n",
       "00093576756    50\n",
       "24486060310    50\n",
       "64125013010    50\n",
       "55111068305    50\n",
       "65862019905    50\n",
       "23155010501    50\n",
       "00009033102    50\n",
       "00591084510    50\n",
       "Name: NDC, dtype: int64"
      ]
     },
     "execution_count": 46,
     "metadata": {},
     "output_type": "execute_result"
    }
   ],
   "source": [
    "druglist.NDC.value_counts()"
   ]
  },
  {
   "cell_type": "code",
   "execution_count": 49,
   "metadata": {},
   "outputs": [
    {
     "data": {
      "text/plain": [
       "['00006074554',\n",
       " '00555188302',\n",
       " '65862019430',\n",
       " '24090047988',\n",
       " '00781196160',\n",
       " '24486060490',\n",
       " '00093402901',\n",
       " '00093576756',\n",
       " '24486060310',\n",
       " '64125013010',\n",
       " '55111068305',\n",
       " '65862019905',\n",
       " '23155010501',\n",
       " '00009033102',\n",
       " '00591084510']"
      ]
     },
     "execution_count": 49,
     "metadata": {},
     "output_type": "execute_result"
    }
   ],
   "source": [
    "ndclist = druglist.NDC.value_counts().index.tolist()\n",
    "ndclist"
   ]
  },
  {
   "cell_type": "code",
   "execution_count": 50,
   "metadata": {},
   "outputs": [
    {
     "data": {
      "text/plain": [
       "15"
      ]
     },
     "execution_count": 50,
     "metadata": {},
     "output_type": "execute_result"
    }
   ],
   "source": [
    "len(ndclist)"
   ]
  },
  {
   "cell_type": "code",
   "execution_count": 19,
   "metadata": {},
   "outputs": [],
   "source": [
    "typdict = {'NDC':'str'}\n",
    "directory = pd.read_csv('directory_of_images.txt',sep='|', dtype=typdict, names=['NDC','IDK','FILE','TYPE','DRUG'])\n",
    "pills = pd.read_csv('directory_of_images.txt',sep='|', dtype=typdict, names=['NDC','IDK','FILE','TYPE','DRUG'])\n",
    "pills = pills.dropna()\n",
    "pills.DRUG = pills.DRUG.str.upper()\n",
    "pills[['ORIG_FOLDER','IMAGES','FILENAME']] = pills.FILE.str.split('/', expand=True)\n",
    "pills['FILETYPE'] = pills.FILENAME.str[-4:]"
   ]
  },
  {
   "cell_type": "code",
   "execution_count": 20,
   "metadata": {},
   "outputs": [
    {
     "data": {
      "text/html": [
       "<div>\n",
       "<style scoped>\n",
       "    .dataframe tbody tr th:only-of-type {\n",
       "        vertical-align: middle;\n",
       "    }\n",
       "\n",
       "    .dataframe tbody tr th {\n",
       "        vertical-align: top;\n",
       "    }\n",
       "\n",
       "    .dataframe thead th {\n",
       "        text-align: right;\n",
       "    }\n",
       "</style>\n",
       "<table border=\"1\" class=\"dataframe\">\n",
       "  <thead>\n",
       "    <tr style=\"text-align: right;\">\n",
       "      <th></th>\n",
       "      <th>NDC</th>\n",
       "      <th>IDK</th>\n",
       "      <th>FILE</th>\n",
       "      <th>TYPE</th>\n",
       "      <th>DRUG</th>\n",
       "      <th>ORIG_FOLDER</th>\n",
       "      <th>IMAGES</th>\n",
       "      <th>FILENAME</th>\n",
       "      <th>FILETYPE</th>\n",
       "    </tr>\n",
       "  </thead>\n",
       "  <tbody>\n",
       "    <tr>\n",
       "      <th>1783</th>\n",
       "      <td>00007365022</td>\n",
       "      <td>1</td>\n",
       "      <td>PillProjectDisc40/images/BNCP-9IQ3I-B1AK05KJGY...</td>\n",
       "      <td>C3PI_Reference</td>\n",
       "      <td>DYAZIDE</td>\n",
       "      <td>PillProjectDisc40</td>\n",
       "      <td>images</td>\n",
       "      <td>BNCP-9IQ3I-B1AK05KJGYPKFXB8Z-W9.CR2</td>\n",
       "      <td>.CR2</td>\n",
       "    </tr>\n",
       "    <tr>\n",
       "      <th>1784</th>\n",
       "      <td>00007365022</td>\n",
       "      <td>1</td>\n",
       "      <td>PillProjectDisc70/images/CMY2RZHAK0IQFKI-EJ91T...</td>\n",
       "      <td>C3PI_Reference</td>\n",
       "      <td>DYAZIDE CAPS</td>\n",
       "      <td>PillProjectDisc70</td>\n",
       "      <td>images</td>\n",
       "      <td>CMY2RZHAK0IQFKI-EJ91TX_KKA3OWJE.CR2</td>\n",
       "      <td>.CR2</td>\n",
       "    </tr>\n",
       "    <tr>\n",
       "      <th>1785</th>\n",
       "      <td>00007365022</td>\n",
       "      <td>1</td>\n",
       "      <td>PillProjectDisc77/images/CSZ5USH95QL78TU2L!U55...</td>\n",
       "      <td>C3PI_Reference</td>\n",
       "      <td>DYAZIDE CAPS</td>\n",
       "      <td>PillProjectDisc77</td>\n",
       "      <td>images</td>\n",
       "      <td>CSZ5USH95QL78TU2L!U5510IOGAASAX.CR2</td>\n",
       "      <td>.CR2</td>\n",
       "    </tr>\n",
       "    <tr>\n",
       "      <th>1786</th>\n",
       "      <td>00007365022</td>\n",
       "      <td>1</td>\n",
       "      <td>PillProjectDisc91/images/IXBCZI_!IQP!E9MWTSA2Y...</td>\n",
       "      <td>C3PI_Reference</td>\n",
       "      <td>DYAZIDE</td>\n",
       "      <td>PillProjectDisc91</td>\n",
       "      <td>images</td>\n",
       "      <td>IXBCZI_!IQP!E9MWTSA2YJDRIPOZAG.CR2</td>\n",
       "      <td>.CR2</td>\n",
       "    </tr>\n",
       "    <tr>\n",
       "      <th>1787</th>\n",
       "      <td>00007365022</td>\n",
       "      <td>1</td>\n",
       "      <td>PillProjectDisc103/images/TPEMYB_VH6IQ_M_J7D0!...</td>\n",
       "      <td>C3PI_Test</td>\n",
       "      <td>DYAZIDE CAPS</td>\n",
       "      <td>PillProjectDisc103</td>\n",
       "      <td>images</td>\n",
       "      <td>TPEMYB_VH6IQ_M_J7D0!NS2G0-P788.JPG</td>\n",
       "      <td>.JPG</td>\n",
       "    </tr>\n",
       "    <tr>\n",
       "      <th>...</th>\n",
       "      <td>...</td>\n",
       "      <td>...</td>\n",
       "      <td>...</td>\n",
       "      <td>...</td>\n",
       "      <td>...</td>\n",
       "      <td>...</td>\n",
       "      <td>...</td>\n",
       "      <td>...</td>\n",
       "      <td>...</td>\n",
       "    </tr>\n",
       "    <tr>\n",
       "      <th>118419</th>\n",
       "      <td>63459070160</td>\n",
       "      <td>1</td>\n",
       "      <td>PillProjectDisc49/images/BVSJUMXA_2YYIA9FWAZP2...</td>\n",
       "      <td>MC_COOKED_CALIBRATED_V1.2</td>\n",
       "      <td>AMRIX</td>\n",
       "      <td>PillProjectDisc49</td>\n",
       "      <td>images</td>\n",
       "      <td>BVSJUMXA_2YYIA9FWAZP29031ZHTEZD.PNG</td>\n",
       "      <td>.PNG</td>\n",
       "    </tr>\n",
       "    <tr>\n",
       "      <th>118420</th>\n",
       "      <td>63459070160</td>\n",
       "      <td>1</td>\n",
       "      <td>PillProjectDisc57/images/CA4VW8H6_G6B36O_99TJW...</td>\n",
       "      <td>MC_COOKED_CALIBRATED_V1.2</td>\n",
       "      <td>AMRIX CAP 30MG</td>\n",
       "      <td>PillProjectDisc57</td>\n",
       "      <td>images</td>\n",
       "      <td>CA4VW8H6_G6B36O_99TJW4ZGLRS3U8O.PNG</td>\n",
       "      <td>.PNG</td>\n",
       "    </tr>\n",
       "    <tr>\n",
       "      <th>118421</th>\n",
       "      <td>63459070160</td>\n",
       "      <td>1</td>\n",
       "      <td>PillProjectDisc90/images/I8IP8T6CW_VUGZZYPH30_...</td>\n",
       "      <td>MC_COOKED_CALIBRATED_V1.2</td>\n",
       "      <td>AMRIX</td>\n",
       "      <td>PillProjectDisc90</td>\n",
       "      <td>images</td>\n",
       "      <td>I8IP8T6CW_VUGZZYPH30_23W15HQT8.PNG</td>\n",
       "      <td>.PNG</td>\n",
       "    </tr>\n",
       "    <tr>\n",
       "      <th>118422</th>\n",
       "      <td>63459070160</td>\n",
       "      <td>1</td>\n",
       "      <td>PillProjectDisc97/images/ODUQGLEEXJEAR-FL18J81...</td>\n",
       "      <td>MC_COOKED_CALIBRATED_V1.2</td>\n",
       "      <td>AMRIX CAP 30MG</td>\n",
       "      <td>PillProjectDisc97</td>\n",
       "      <td>images</td>\n",
       "      <td>ODUQGLEEXJEAR-FL18J81ALC-U55S-.PNG</td>\n",
       "      <td>.PNG</td>\n",
       "    </tr>\n",
       "    <tr>\n",
       "      <th>118423</th>\n",
       "      <td>63459070160</td>\n",
       "      <td>1</td>\n",
       "      <td>PillProjectDisc109/images/ZM0EPASCAX7UJM82D8KD...</td>\n",
       "      <td>MC_SPL_SPLIMAGE_V3.0</td>\n",
       "      <td>AMRIX</td>\n",
       "      <td>PillProjectDisc109</td>\n",
       "      <td>images</td>\n",
       "      <td>ZM0EPASCAX7UJM82D8KDGND4-_K1-1.JPG</td>\n",
       "      <td>.JPG</td>\n",
       "    </tr>\n",
       "  </tbody>\n",
       "</table>\n",
       "<p>1314 rows × 9 columns</p>\n",
       "</div>"
      ],
      "text/plain": [
       "                NDC  IDK                                               FILE  \\\n",
       "1783    00007365022    1  PillProjectDisc40/images/BNCP-9IQ3I-B1AK05KJGY...   \n",
       "1784    00007365022    1  PillProjectDisc70/images/CMY2RZHAK0IQFKI-EJ91T...   \n",
       "1785    00007365022    1  PillProjectDisc77/images/CSZ5USH95QL78TU2L!U55...   \n",
       "1786    00007365022    1  PillProjectDisc91/images/IXBCZI_!IQP!E9MWTSA2Y...   \n",
       "1787    00007365022    1  PillProjectDisc103/images/TPEMYB_VH6IQ_M_J7D0!...   \n",
       "...             ...  ...                                                ...   \n",
       "118419  63459070160    1  PillProjectDisc49/images/BVSJUMXA_2YYIA9FWAZP2...   \n",
       "118420  63459070160    1  PillProjectDisc57/images/CA4VW8H6_G6B36O_99TJW...   \n",
       "118421  63459070160    1  PillProjectDisc90/images/I8IP8T6CW_VUGZZYPH30_...   \n",
       "118422  63459070160    1  PillProjectDisc97/images/ODUQGLEEXJEAR-FL18J81...   \n",
       "118423  63459070160    1  PillProjectDisc109/images/ZM0EPASCAX7UJM82D8KD...   \n",
       "\n",
       "                             TYPE            DRUG         ORIG_FOLDER  IMAGES  \\\n",
       "1783               C3PI_Reference         DYAZIDE   PillProjectDisc40  images   \n",
       "1784               C3PI_Reference    DYAZIDE CAPS   PillProjectDisc70  images   \n",
       "1785               C3PI_Reference    DYAZIDE CAPS   PillProjectDisc77  images   \n",
       "1786               C3PI_Reference         DYAZIDE   PillProjectDisc91  images   \n",
       "1787                    C3PI_Test    DYAZIDE CAPS  PillProjectDisc103  images   \n",
       "...                           ...             ...                 ...     ...   \n",
       "118419  MC_COOKED_CALIBRATED_V1.2           AMRIX   PillProjectDisc49  images   \n",
       "118420  MC_COOKED_CALIBRATED_V1.2  AMRIX CAP 30MG   PillProjectDisc57  images   \n",
       "118421  MC_COOKED_CALIBRATED_V1.2           AMRIX   PillProjectDisc90  images   \n",
       "118422  MC_COOKED_CALIBRATED_V1.2  AMRIX CAP 30MG   PillProjectDisc97  images   \n",
       "118423       MC_SPL_SPLIMAGE_V3.0           AMRIX  PillProjectDisc109  images   \n",
       "\n",
       "                                   FILENAME FILETYPE  \n",
       "1783    BNCP-9IQ3I-B1AK05KJGYPKFXB8Z-W9.CR2     .CR2  \n",
       "1784    CMY2RZHAK0IQFKI-EJ91TX_KKA3OWJE.CR2     .CR2  \n",
       "1785    CSZ5USH95QL78TU2L!U5510IOGAASAX.CR2     .CR2  \n",
       "1786     IXBCZI_!IQP!E9MWTSA2YJDRIPOZAG.CR2     .CR2  \n",
       "1787     TPEMYB_VH6IQ_M_J7D0!NS2G0-P788.JPG     .JPG  \n",
       "...                                     ...      ...  \n",
       "118419  BVSJUMXA_2YYIA9FWAZP29031ZHTEZD.PNG     .PNG  \n",
       "118420  CA4VW8H6_G6B36O_99TJW4ZGLRS3U8O.PNG     .PNG  \n",
       "118421   I8IP8T6CW_VUGZZYPH30_23W15HQT8.PNG     .PNG  \n",
       "118422   ODUQGLEEXJEAR-FL18J81ALC-U55S-.PNG     .PNG  \n",
       "118423   ZM0EPASCAX7UJM82D8KDGND4-_K1-1.JPG     .JPG  \n",
       "\n",
       "[1314 rows x 9 columns]"
      ]
     },
     "execution_count": 20,
     "metadata": {},
     "output_type": "execute_result"
    }
   ],
   "source": [
    "pills = pills[pills.NDC.isin(['00555901258',\n",
    "'00555903270',\n",
    "'52544029128',\n",
    "'63459070160',\n",
    "'00039022310',\n",
    "'00555903458',\n",
    "'50419040901',\n",
    "'51285011458',\n",
    "'00007365022',\n",
    "'49702020218',\n",
    "'00173024255'])]\n",
    "pills"
   ]
  },
  {
   "cell_type": "code",
   "execution_count": 21,
   "metadata": {},
   "outputs": [
    {
     "data": {
      "text/plain": [
       "4864"
      ]
     },
     "execution_count": 21,
     "metadata": {},
     "output_type": "execute_result"
    }
   ],
   "source": [
    "len(directory.NDC.value_counts().index)"
   ]
  },
  {
   "cell_type": "code",
   "execution_count": 22,
   "metadata": {},
   "outputs": [],
   "source": [
    "ndcname = pills[['NDC','DRUG']].groupby(['NDC','DRUG']).sum()"
   ]
  },
  {
   "cell_type": "code",
   "execution_count": 23,
   "metadata": {},
   "outputs": [
    {
     "data": {
      "text/plain": [
       "(11,\n",
       " 00555903270    142\n",
       " 00555901258    142\n",
       " 52544029128    136\n",
       " 63459070160    136\n",
       " 00039022310    117\n",
       " 00555903458    116\n",
       " 50419040901    113\n",
       " 51285011458    111\n",
       " 00007365022    103\n",
       " 49702020218     99\n",
       " 00173024255     99\n",
       " Name: NDC, dtype: int64)"
      ]
     },
     "execution_count": 23,
     "metadata": {},
     "output_type": "execute_result"
    }
   ],
   "source": [
    "top10 = pills.NDC.value_counts()\n",
    "len(top10),top10"
   ]
  },
  {
   "cell_type": "code",
   "execution_count": 24,
   "metadata": {},
   "outputs": [
    {
     "data": {
      "text/plain": [
       "['00555903270',\n",
       " '00555901258',\n",
       " '52544029128',\n",
       " '63459070160',\n",
       " '00039022310',\n",
       " '00555903458',\n",
       " '50419040901',\n",
       " '51285011458',\n",
       " '00007365022',\n",
       " '49702020218',\n",
       " '00173024255']"
      ]
     },
     "execution_count": 24,
     "metadata": {},
     "output_type": "execute_result"
    }
   ],
   "source": [
    "top10NDC = top10.index.tolist()\n",
    "top10NDC"
   ]
  },
  {
   "cell_type": "code",
   "execution_count": 25,
   "metadata": {},
   "outputs": [
    {
     "data": {
      "text/plain": [
       "NORTEL 7/7/7                  142\n",
       "TRI-LEGEST FE                 142\n",
       "TRIVORA TAB                   136\n",
       "AMARYL 4MG TABLETS            117\n",
       "NATAZIA                       113\n",
       "MIRCETTE                      111\n",
       "AMRIX CAP 30MG                101\n",
       "BALZIVA                        66\n",
       "LANOXIN TABLETS, USP           55\n",
       "COMBIVIR                       55\n",
       "DYAZIDE CAPS                   52\n",
       "DYAZIDE                        51\n",
       "BALZIVA TAB                    50\n",
       "COMBIVIR 150/300MG TABLETS     44\n",
       "LANOXIN 0.125MG TABLETS        44\n",
       "AMRIX                          35\n",
       "Name: DRUG, dtype: int64"
      ]
     },
     "execution_count": 25,
     "metadata": {},
     "output_type": "execute_result"
    }
   ],
   "source": [
    "df = pills[pills.NDC.isin(top10NDC)]\n",
    "df.DRUG.value_counts()"
   ]
  },
  {
   "cell_type": "code",
   "execution_count": 26,
   "metadata": {},
   "outputs": [
    {
     "name": "stderr",
     "output_type": "stream",
     "text": [
      "/Users/alphonsowoodbury/.conda/envs/aw0520/lib/python3.7/site-packages/ipykernel_launcher.py:1: SettingWithCopyWarning: \n",
      "A value is trying to be set on a copy of a slice from a DataFrame\n",
      "\n",
      "See the caveats in the documentation: https://pandas.pydata.org/pandas-docs/stable/user_guide/indexing.html#returning-a-view-versus-a-copy\n",
      "  \"\"\"Entry point for launching an IPython kernel.\n",
      "/Users/alphonsowoodbury/.conda/envs/aw0520/lib/python3.7/site-packages/ipykernel_launcher.py:3: SettingWithCopyWarning: \n",
      "A value is trying to be set on a copy of a slice from a DataFrame\n",
      "\n",
      "See the caveats in the documentation: https://pandas.pydata.org/pandas-docs/stable/user_guide/indexing.html#returning-a-view-versus-a-copy\n",
      "  This is separate from the ipykernel package so we can avoid doing imports until\n",
      "/Users/alphonsowoodbury/.conda/envs/aw0520/lib/python3.7/site-packages/ipykernel_launcher.py:5: SettingWithCopyWarning: \n",
      "A value is trying to be set on a copy of a slice from a DataFrame\n",
      "\n",
      "See the caveats in the documentation: https://pandas.pydata.org/pandas-docs/stable/user_guide/indexing.html#returning-a-view-versus-a-copy\n",
      "  \"\"\"\n",
      "/Users/alphonsowoodbury/.conda/envs/aw0520/lib/python3.7/site-packages/ipykernel_launcher.py:7: SettingWithCopyWarning: \n",
      "A value is trying to be set on a copy of a slice from a DataFrame\n",
      "\n",
      "See the caveats in the documentation: https://pandas.pydata.org/pandas-docs/stable/user_guide/indexing.html#returning-a-view-versus-a-copy\n",
      "  import sys\n",
      "/Users/alphonsowoodbury/.conda/envs/aw0520/lib/python3.7/site-packages/ipykernel_launcher.py:9: SettingWithCopyWarning: \n",
      "A value is trying to be set on a copy of a slice from a DataFrame\n",
      "\n",
      "See the caveats in the documentation: https://pandas.pydata.org/pandas-docs/stable/user_guide/indexing.html#returning-a-view-versus-a-copy\n",
      "  if __name__ == '__main__':\n",
      "/Users/alphonsowoodbury/.conda/envs/aw0520/lib/python3.7/site-packages/ipykernel_launcher.py:11: SettingWithCopyWarning: \n",
      "A value is trying to be set on a copy of a slice from a DataFrame\n",
      "\n",
      "See the caveats in the documentation: https://pandas.pydata.org/pandas-docs/stable/user_guide/indexing.html#returning-a-view-versus-a-copy\n",
      "  # This is added back by InteractiveShellApp.init_path()\n",
      "/Users/alphonsowoodbury/.conda/envs/aw0520/lib/python3.7/site-packages/ipykernel_launcher.py:13: SettingWithCopyWarning: \n",
      "A value is trying to be set on a copy of a slice from a DataFrame\n",
      "\n",
      "See the caveats in the documentation: https://pandas.pydata.org/pandas-docs/stable/user_guide/indexing.html#returning-a-view-versus-a-copy\n",
      "  del sys.path[0]\n",
      "/Users/alphonsowoodbury/.conda/envs/aw0520/lib/python3.7/site-packages/ipykernel_launcher.py:15: SettingWithCopyWarning: \n",
      "A value is trying to be set on a copy of a slice from a DataFrame\n",
      "\n",
      "See the caveats in the documentation: https://pandas.pydata.org/pandas-docs/stable/user_guide/indexing.html#returning-a-view-versus-a-copy\n",
      "  from ipykernel import kernelapp as app\n",
      "/Users/alphonsowoodbury/.conda/envs/aw0520/lib/python3.7/site-packages/ipykernel_launcher.py:17: SettingWithCopyWarning: \n",
      "A value is trying to be set on a copy of a slice from a DataFrame\n",
      "\n",
      "See the caveats in the documentation: https://pandas.pydata.org/pandas-docs/stable/user_guide/indexing.html#returning-a-view-versus-a-copy\n",
      "/Users/alphonsowoodbury/.conda/envs/aw0520/lib/python3.7/site-packages/ipykernel_launcher.py:19: SettingWithCopyWarning: \n",
      "A value is trying to be set on a copy of a slice from a DataFrame\n",
      "\n",
      "See the caveats in the documentation: https://pandas.pydata.org/pandas-docs/stable/user_guide/indexing.html#returning-a-view-versus-a-copy\n",
      "/Users/alphonsowoodbury/.conda/envs/aw0520/lib/python3.7/site-packages/ipykernel_launcher.py:21: SettingWithCopyWarning: \n",
      "A value is trying to be set on a copy of a slice from a DataFrame\n",
      "\n",
      "See the caveats in the documentation: https://pandas.pydata.org/pandas-docs/stable/user_guide/indexing.html#returning-a-view-versus-a-copy\n"
     ]
    }
   ],
   "source": [
    "df.DRUG[df.NDC == '00555901258'] = 'NORTREL'\n",
    "\n",
    "df.DRUG[df.NDC == '00555903270'] = 'TRILEGEST'\n",
    "\n",
    "df.DRUG[df.NDC == '52544029128'] = 'TRIVORA'\n",
    "\n",
    "df.DRUG[df.NDC == '63459070160'] = 'AMRIX'\n",
    "\n",
    "df.DRUG[df.NDC == '00039022310'] = 'AMARYL'\n",
    "\n",
    "df.DRUG[df.NDC == '00555903458'] = 'BALZIVA'\n",
    "\n",
    "df.DRUG[df.NDC == '50419040901'] = 'NATAZIA'\n",
    "\n",
    "df.DRUG[df.NDC == '51285011458'] = 'MIRCETTE'\n",
    "\n",
    "df.DRUG[df.NDC == '00007365022'] = 'DYAZIDE'\n",
    "\n",
    "df.DRUG[df.NDC == '49702020218'] = 'COMBIVIR'\n",
    "\n",
    "df.DRUG[df.NDC == '00173024255'] = 'LANOXIN'"
   ]
  },
  {
   "cell_type": "code",
   "execution_count": 27,
   "metadata": {},
   "outputs": [
    {
     "data": {
      "text/plain": [
       "TRILEGEST    142\n",
       "NORTREL      142\n",
       "AMRIX        136\n",
       "TRIVORA      136\n",
       "AMARYL       117\n",
       "BALZIVA      116\n",
       "NATAZIA      113\n",
       "MIRCETTE     111\n",
       "DYAZIDE      103\n",
       "COMBIVIR      99\n",
       "LANOXIN       99\n",
       "Name: DRUG, dtype: int64"
      ]
     },
     "execution_count": 27,
     "metadata": {},
     "output_type": "execute_result"
    }
   ],
   "source": [
    "df.DRUG.value_counts()"
   ]
  },
  {
   "cell_type": "code",
   "execution_count": 28,
   "metadata": {},
   "outputs": [
    {
     "data": {
      "text/plain": [
       "<matplotlib.axes._subplots.AxesSubplot at 0x121f50490>"
      ]
     },
     "execution_count": 28,
     "metadata": {},
     "output_type": "execute_result"
    },
    {
     "data": {
      "image/png": "[encoded data removed]",
      "text/plain": [
       "<Figure size 432x288 with 1 Axes>"
      ]
     },
     "metadata": {
      "needs_background": "light"
     },
     "output_type": "display_data"
    }
   ],
   "source": [
    "df.DRUG.value_counts().plot(kind='bar')"
   ]
  },
  {
   "cell_type": "code",
   "execution_count": 29,
   "metadata": {},
   "outputs": [
    {
     "data": {
      "text/plain": [
       "['PillProjectDisc1/images/!N0GWPVK!D6RZMO!28U2G_GBCT8YP2.JPG',\n",
       " 'PillProjectDisc1/images/!P31ERRM_M7RRSPBWHL80GEAAAA6WF.JPG',\n",
       " 'PillProjectDisc1/images/!XXJR-NQ-A-4POK3ZKW1CTLALT2N83.PNG',\n",
       " 'PillProjectDisc1/images/!_1RYL_F1RDMPO3SRTSBK2L-G2C!KN.PNG',\n",
       " 'PillProjectDisc10/images/6S1EGUCUJUCS5Y2G_PVBETH0A9X22L.JPG',\n",
       " 'PillProjectDisc10/images/6_6!XJ73P9O12E6LVGBAIIGMNO252A.JPG',\n",
       " 'PillProjectDisc10/images/6_6!XJ73P9O12E6LVGBAIIGMNO252A.JPG',\n",
       " 'PillProjectDisc10/images/7!U5OIAL6W!52!L488NFS4OZ9B86QM.CR2',\n",
       " 'PillProjectDisc10/images/7-UZK9UIGDQAHEGLPZ5!HYONW5F16L.JPG',\n",
       " 'PillProjectDisc10/images/726N6FO55R1JXV6JSTW0Z-CWY6OBB-.JPG']"
      ]
     },
     "execution_count": 29,
     "metadata": {},
     "output_type": "execute_result"
    }
   ],
   "source": [
    "drugsftp = df.FILE.tolist()\n",
    "drugsftp.sort()\n",
    "drugsftp[:10]"
   ]
  },
  {
   "cell_type": "markdown",
   "metadata": {},
   "source": [
    "# Retrieve Data"
   ]
  },
  {
   "cell_type": "markdown",
   "metadata": {},
   "source": [
    "## FTP"
   ]
  },
  {
   "cell_type": "code",
   "execution_count": null,
   "metadata": {},
   "outputs": [],
   "source": [
    "%pwd"
   ]
  },
  {
   "cell_type": "code",
   "execution_count": 33,
   "metadata": {},
   "outputs": [],
   "source": [
    "#list(ftpdir.keys())"
   ]
  },
  {
   "cell_type": "code",
   "execution_count": 34,
   "metadata": {},
   "outputs": [
    {
     "ename": "NameError",
     "evalue": "name 'ftpdir' is not defined",
     "output_type": "error",
     "traceback": [
      "\u001b[0;31m---------------------------------------------------------------------------\u001b[0m",
      "\u001b[0;31mNameError\u001b[0m                                 Traceback (most recent call last)",
      "\u001b[0;32m<ipython-input-34-fb0427bc5758>\u001b[0m in \u001b[0;36m<module>\u001b[0;34m\u001b[0m\n\u001b[0;32m----> 1\u001b[0;31m \u001b[0mftpdir\u001b[0m\u001b[0;34m[\u001b[0m\u001b[0mkey\u001b[0m\u001b[0;34m]\u001b[0m\u001b[0;34m\u001b[0m\u001b[0;34m\u001b[0m\u001b[0m\n\u001b[0m",
      "\u001b[0;31mNameError\u001b[0m: name 'ftpdir' is not defined"
     ]
    }
   ],
   "source": [
    "ftpdir[key]"
   ]
  },
  {
   "cell_type": "code",
   "execution_count": 35,
   "metadata": {},
   "outputs": [
    {
     "ename": "KeyboardInterrupt",
     "evalue": "",
     "output_type": "error",
     "traceback": [
      "\u001b[0;31m---------------------------------------------------------------------------\u001b[0m",
      "\u001b[0;31mKeyboardInterrupt\u001b[0m                         Traceback (most recent call last)",
      "\u001b[0;32m<ipython-input-35-0ef3ae801bda>\u001b[0m in \u001b[0;36m<module>\u001b[0;34m\u001b[0m\n\u001b[1;32m     15\u001b[0m     \u001b[0;32mfor\u001b[0m \u001b[0mvalue\u001b[0m \u001b[0;32min\u001b[0m \u001b[0mftpdir\u001b[0m\u001b[0;34m[\u001b[0m\u001b[0mkey\u001b[0m\u001b[0;34m]\u001b[0m\u001b[0;34m:\u001b[0m\u001b[0;34m\u001b[0m\u001b[0;34m\u001b[0m\u001b[0m\n\u001b[1;32m     16\u001b[0m         \u001b[0;32mwith\u001b[0m \u001b[0mopen\u001b[0m\u001b[0;34m(\u001b[0m\u001b[0mvalue\u001b[0m\u001b[0;34m,\u001b[0m \u001b[0;34m'wb'\u001b[0m\u001b[0;34m)\u001b[0m \u001b[0;32mas\u001b[0m \u001b[0mfp\u001b[0m\u001b[0;34m:\u001b[0m\u001b[0;34m\u001b[0m\u001b[0;34m\u001b[0m\u001b[0m\n\u001b[0;32m---> 17\u001b[0;31m             \u001b[0mftp\u001b[0m\u001b[0;34m.\u001b[0m\u001b[0mretrbinary\u001b[0m\u001b[0;34m(\u001b[0m\u001b[0;34m'RETR '\u001b[0m\u001b[0;34m+\u001b[0m \u001b[0mvalue\u001b[0m\u001b[0;34m,\u001b[0m \u001b[0mfp\u001b[0m\u001b[0;34m.\u001b[0m\u001b[0mwrite\u001b[0m\u001b[0;34m)\u001b[0m\u001b[0;34m\u001b[0m\u001b[0;34m\u001b[0m\u001b[0m\n\u001b[0m\u001b[1;32m     18\u001b[0m     \u001b[0mftp\u001b[0m\u001b[0;34m.\u001b[0m\u001b[0mcwd\u001b[0m\u001b[0;34m(\u001b[0m\u001b[0;34m'..'\u001b[0m\u001b[0;34m)\u001b[0m\u001b[0;34m\u001b[0m\u001b[0;34m\u001b[0m\u001b[0m\n\u001b[1;32m     19\u001b[0m     \u001b[0mftp\u001b[0m\u001b[0;34m.\u001b[0m\u001b[0mcwd\u001b[0m\u001b[0;34m(\u001b[0m\u001b[0;34m'..'\u001b[0m\u001b[0;34m)\u001b[0m\u001b[0;34m\u001b[0m\u001b[0;34m\u001b[0m\u001b[0m\n",
      "\u001b[0;32m~/.conda/envs/aw0520/lib/python3.7/ftplib.py\u001b[0m in \u001b[0;36mretrbinary\u001b[0;34m(self, cmd, callback, blocksize, rest)\u001b[0m\n\u001b[1;32m    442\u001b[0m         \u001b[0;32mwith\u001b[0m \u001b[0mself\u001b[0m\u001b[0;34m.\u001b[0m\u001b[0mtransfercmd\u001b[0m\u001b[0;34m(\u001b[0m\u001b[0mcmd\u001b[0m\u001b[0;34m,\u001b[0m \u001b[0mrest\u001b[0m\u001b[0;34m)\u001b[0m \u001b[0;32mas\u001b[0m \u001b[0mconn\u001b[0m\u001b[0;34m:\u001b[0m\u001b[0;34m\u001b[0m\u001b[0;34m\u001b[0m\u001b[0m\n\u001b[1;32m    443\u001b[0m             \u001b[0;32mwhile\u001b[0m \u001b[0;36m1\u001b[0m\u001b[0;34m:\u001b[0m\u001b[0;34m\u001b[0m\u001b[0;34m\u001b[0m\u001b[0m\n\u001b[0;32m--> 444\u001b[0;31m                 \u001b[0mdata\u001b[0m \u001b[0;34m=\u001b[0m \u001b[0mconn\u001b[0m\u001b[0;34m.\u001b[0m\u001b[0mrecv\u001b[0m\u001b[0;34m(\u001b[0m\u001b[0mblocksize\u001b[0m\u001b[0;34m)\u001b[0m\u001b[0;34m\u001b[0m\u001b[0;34m\u001b[0m\u001b[0m\n\u001b[0m\u001b[1;32m    445\u001b[0m                 \u001b[0;32mif\u001b[0m \u001b[0;32mnot\u001b[0m \u001b[0mdata\u001b[0m\u001b[0;34m:\u001b[0m\u001b[0;34m\u001b[0m\u001b[0;34m\u001b[0m\u001b[0m\n\u001b[1;32m    446\u001b[0m                     \u001b[0;32mbreak\u001b[0m\u001b[0;34m\u001b[0m\u001b[0;34m\u001b[0m\u001b[0m\n",
      "\u001b[0;31mKeyboardInterrupt\u001b[0m: "
     ]
    }
   ],
   "source": [
    "ftpdir = {}\n",
    "for i in range(0,len(drugsftp)):\n",
    "    ftpcall = drugsftp[i].split('/')\n",
    "    ftppath = ftpcall[0]+'/'+ftpcall[1]+ '/'\n",
    "    ftpfile = ftpcall[-1]\n",
    "    ftpdir.setdefault(ftppath,[])\n",
    "    ftpdir[ftppath].append(ftpfile)\n",
    "#ftpdir\n",
    "\n",
    "for key in ftpdir.keys():\n",
    "    ftp = FTP('lhcftp.nlm.nih.gov')\n",
    "    ftp.login()\n",
    "    ftp.cwd('Open-Access-Datasets/Pills//')\n",
    "    ftp.cwd(key)\n",
    "    for value in ftpdir[key]:\n",
    "        with open(value, 'wb') as fp:\n",
    "            ftp.retrbinary('RETR '+ value, fp.write)\n",
    "    ftp.cwd('..')\n",
    "    ftp.cwd('..')"
   ]
  },
  {
   "cell_type": "code",
   "execution_count": 316,
   "metadata": {},
   "outputs": [],
   "source": [
    "# convert to JPG\n",
    "\n",
    "for filename in os.listdir():\n",
    "    if filename.endswith(\".PNG\") or filename.endswith(\".JPG\"): \n",
    "        im1 = Image.open(r'{}'.format(filename))\n",
    "        rgb_im = im1.convert('RGB')\n",
    "        rgb_im.save(r'../pills_jpg/unclassified/{}''.JPG'.format(filename[:-4]))\n",
    "        continue\n",
    "    elif filename.endswith(\".CR2\") and os.path.getsize(filename) > 0:\n",
    "        print(filename)\n",
    "        raw = rawpy.imread('{}'.format(filename))\n",
    "        rgb = raw.postprocess()\n",
    "        imageio.imsave('../pills_jpg/unclassified/{}''.JPG'.format(filename[:-4]), rgb)\n",
    "        print(filename)\n",
    "        continue"
   ]
  },
  {
   "cell_type": "markdown",
   "metadata": {},
   "source": [
    "^^^ Everything above this is getting the images from FTP to my machine and converting to JPG; not sorted!"
   ]
  },
  {
   "cell_type": "code",
   "execution_count": 285,
   "metadata": {},
   "outputs": [
    {
     "data": {
      "text/html": [
       "<div>\n",
       "<style scoped>\n",
       "    .dataframe tbody tr th:only-of-type {\n",
       "        vertical-align: middle;\n",
       "    }\n",
       "\n",
       "    .dataframe tbody tr th {\n",
       "        vertical-align: top;\n",
       "    }\n",
       "\n",
       "    .dataframe thead th {\n",
       "        text-align: right;\n",
       "    }\n",
       "</style>\n",
       "<table border=\"1\" class=\"dataframe\">\n",
       "  <thead>\n",
       "    <tr style=\"text-align: right;\">\n",
       "      <th></th>\n",
       "      <th>NDC</th>\n",
       "      <th>IDK</th>\n",
       "      <th>FILE</th>\n",
       "      <th>TYPE</th>\n",
       "      <th>DRUG</th>\n",
       "      <th>ORIG_FOLDER</th>\n",
       "      <th>IMAGES</th>\n",
       "      <th>FILENAME</th>\n",
       "      <th>FILETYPE</th>\n",
       "    </tr>\n",
       "  </thead>\n",
       "  <tbody>\n",
       "    <tr>\n",
       "      <th>1783</th>\n",
       "      <td>00007365022</td>\n",
       "      <td>1</td>\n",
       "      <td>PillProjectDisc40/images/BNCP-9IQ3I-B1AK05KJGY...</td>\n",
       "      <td>C3PI_Reference</td>\n",
       "      <td>DYAZIDE</td>\n",
       "      <td>PillProjectDisc40</td>\n",
       "      <td>images</td>\n",
       "      <td>BNCP-9IQ3I-B1AK05KJGYPKFXB8Z-W9.JPG</td>\n",
       "      <td>.CR2</td>\n",
       "    </tr>\n",
       "    <tr>\n",
       "      <th>1784</th>\n",
       "      <td>00007365022</td>\n",
       "      <td>1</td>\n",
       "      <td>PillProjectDisc70/images/CMY2RZHAK0IQFKI-EJ91T...</td>\n",
       "      <td>C3PI_Reference</td>\n",
       "      <td>DYAZIDE</td>\n",
       "      <td>PillProjectDisc70</td>\n",
       "      <td>images</td>\n",
       "      <td>CMY2RZHAK0IQFKI-EJ91TX_KKA3OWJE.JPG</td>\n",
       "      <td>.CR2</td>\n",
       "    </tr>\n",
       "    <tr>\n",
       "      <th>1785</th>\n",
       "      <td>00007365022</td>\n",
       "      <td>1</td>\n",
       "      <td>PillProjectDisc77/images/CSZ5USH95QL78TU2L!U55...</td>\n",
       "      <td>C3PI_Reference</td>\n",
       "      <td>DYAZIDE</td>\n",
       "      <td>PillProjectDisc77</td>\n",
       "      <td>images</td>\n",
       "      <td>CSZ5USH95QL78TU2L!U5510IOGAASAX.JPG</td>\n",
       "      <td>.CR2</td>\n",
       "    </tr>\n",
       "    <tr>\n",
       "      <th>1786</th>\n",
       "      <td>00007365022</td>\n",
       "      <td>1</td>\n",
       "      <td>PillProjectDisc91/images/IXBCZI_!IQP!E9MWTSA2Y...</td>\n",
       "      <td>C3PI_Reference</td>\n",
       "      <td>DYAZIDE</td>\n",
       "      <td>PillProjectDisc91</td>\n",
       "      <td>images</td>\n",
       "      <td>IXBCZI_!IQP!E9MWTSA2YJDRIPOZAG.JPG</td>\n",
       "      <td>.CR2</td>\n",
       "    </tr>\n",
       "    <tr>\n",
       "      <th>1787</th>\n",
       "      <td>00007365022</td>\n",
       "      <td>1</td>\n",
       "      <td>PillProjectDisc103/images/TPEMYB_VH6IQ_M_J7D0!...</td>\n",
       "      <td>C3PI_Test</td>\n",
       "      <td>DYAZIDE</td>\n",
       "      <td>PillProjectDisc103</td>\n",
       "      <td>images</td>\n",
       "      <td>TPEMYB_VH6IQ_M_J7D0!NS2G0-P788.JPG</td>\n",
       "      <td>.JPG</td>\n",
       "    </tr>\n",
       "    <tr>\n",
       "      <th>...</th>\n",
       "      <td>...</td>\n",
       "      <td>...</td>\n",
       "      <td>...</td>\n",
       "      <td>...</td>\n",
       "      <td>...</td>\n",
       "      <td>...</td>\n",
       "      <td>...</td>\n",
       "      <td>...</td>\n",
       "      <td>...</td>\n",
       "    </tr>\n",
       "    <tr>\n",
       "      <th>118419</th>\n",
       "      <td>63459070160</td>\n",
       "      <td>1</td>\n",
       "      <td>PillProjectDisc49/images/BVSJUMXA_2YYIA9FWAZP2...</td>\n",
       "      <td>MC_COOKED_CALIBRATED_V1.2</td>\n",
       "      <td>AMRIX</td>\n",
       "      <td>PillProjectDisc49</td>\n",
       "      <td>images</td>\n",
       "      <td>BVSJUMXA_2YYIA9FWAZP29031ZHTEZD.JPG</td>\n",
       "      <td>.PNG</td>\n",
       "    </tr>\n",
       "    <tr>\n",
       "      <th>118420</th>\n",
       "      <td>63459070160</td>\n",
       "      <td>1</td>\n",
       "      <td>PillProjectDisc57/images/CA4VW8H6_G6B36O_99TJW...</td>\n",
       "      <td>MC_COOKED_CALIBRATED_V1.2</td>\n",
       "      <td>AMRIX</td>\n",
       "      <td>PillProjectDisc57</td>\n",
       "      <td>images</td>\n",
       "      <td>CA4VW8H6_G6B36O_99TJW4ZGLRS3U8O.JPG</td>\n",
       "      <td>.PNG</td>\n",
       "    </tr>\n",
       "    <tr>\n",
       "      <th>118421</th>\n",
       "      <td>63459070160</td>\n",
       "      <td>1</td>\n",
       "      <td>PillProjectDisc90/images/I8IP8T6CW_VUGZZYPH30_...</td>\n",
       "      <td>MC_COOKED_CALIBRATED_V1.2</td>\n",
       "      <td>AMRIX</td>\n",
       "      <td>PillProjectDisc90</td>\n",
       "      <td>images</td>\n",
       "      <td>I8IP8T6CW_VUGZZYPH30_23W15HQT8.JPG</td>\n",
       "      <td>.PNG</td>\n",
       "    </tr>\n",
       "    <tr>\n",
       "      <th>118422</th>\n",
       "      <td>63459070160</td>\n",
       "      <td>1</td>\n",
       "      <td>PillProjectDisc97/images/ODUQGLEEXJEAR-FL18J81...</td>\n",
       "      <td>MC_COOKED_CALIBRATED_V1.2</td>\n",
       "      <td>AMRIX</td>\n",
       "      <td>PillProjectDisc97</td>\n",
       "      <td>images</td>\n",
       "      <td>ODUQGLEEXJEAR-FL18J81ALC-U55S-.JPG</td>\n",
       "      <td>.PNG</td>\n",
       "    </tr>\n",
       "    <tr>\n",
       "      <th>118423</th>\n",
       "      <td>63459070160</td>\n",
       "      <td>1</td>\n",
       "      <td>PillProjectDisc109/images/ZM0EPASCAX7UJM82D8KD...</td>\n",
       "      <td>MC_SPL_SPLIMAGE_V3.0</td>\n",
       "      <td>AMRIX</td>\n",
       "      <td>PillProjectDisc109</td>\n",
       "      <td>images</td>\n",
       "      <td>ZM0EPASCAX7UJM82D8KDGND4-_K1-1.JPG</td>\n",
       "      <td>.JPG</td>\n",
       "    </tr>\n",
       "  </tbody>\n",
       "</table>\n",
       "<p>1279 rows × 9 columns</p>\n",
       "</div>"
      ],
      "text/plain": [
       "                NDC  IDK                                               FILE  \\\n",
       "1783    00007365022    1  PillProjectDisc40/images/BNCP-9IQ3I-B1AK05KJGY...   \n",
       "1784    00007365022    1  PillProjectDisc70/images/CMY2RZHAK0IQFKI-EJ91T...   \n",
       "1785    00007365022    1  PillProjectDisc77/images/CSZ5USH95QL78TU2L!U55...   \n",
       "1786    00007365022    1  PillProjectDisc91/images/IXBCZI_!IQP!E9MWTSA2Y...   \n",
       "1787    00007365022    1  PillProjectDisc103/images/TPEMYB_VH6IQ_M_J7D0!...   \n",
       "...             ...  ...                                                ...   \n",
       "118419  63459070160    1  PillProjectDisc49/images/BVSJUMXA_2YYIA9FWAZP2...   \n",
       "118420  63459070160    1  PillProjectDisc57/images/CA4VW8H6_G6B36O_99TJW...   \n",
       "118421  63459070160    1  PillProjectDisc90/images/I8IP8T6CW_VUGZZYPH30_...   \n",
       "118422  63459070160    1  PillProjectDisc97/images/ODUQGLEEXJEAR-FL18J81...   \n",
       "118423  63459070160    1  PillProjectDisc109/images/ZM0EPASCAX7UJM82D8KD...   \n",
       "\n",
       "                             TYPE     DRUG         ORIG_FOLDER  IMAGES  \\\n",
       "1783               C3PI_Reference  DYAZIDE   PillProjectDisc40  images   \n",
       "1784               C3PI_Reference  DYAZIDE   PillProjectDisc70  images   \n",
       "1785               C3PI_Reference  DYAZIDE   PillProjectDisc77  images   \n",
       "1786               C3PI_Reference  DYAZIDE   PillProjectDisc91  images   \n",
       "1787                    C3PI_Test  DYAZIDE  PillProjectDisc103  images   \n",
       "...                           ...      ...                 ...     ...   \n",
       "118419  MC_COOKED_CALIBRATED_V1.2    AMRIX   PillProjectDisc49  images   \n",
       "118420  MC_COOKED_CALIBRATED_V1.2    AMRIX   PillProjectDisc57  images   \n",
       "118421  MC_COOKED_CALIBRATED_V1.2    AMRIX   PillProjectDisc90  images   \n",
       "118422  MC_COOKED_CALIBRATED_V1.2    AMRIX   PillProjectDisc97  images   \n",
       "118423       MC_SPL_SPLIMAGE_V3.0    AMRIX  PillProjectDisc109  images   \n",
       "\n",
       "                                   FILENAME FILETYPE  \n",
       "1783    BNCP-9IQ3I-B1AK05KJGYPKFXB8Z-W9.JPG     .CR2  \n",
       "1784    CMY2RZHAK0IQFKI-EJ91TX_KKA3OWJE.JPG     .CR2  \n",
       "1785    CSZ5USH95QL78TU2L!U5510IOGAASAX.JPG     .CR2  \n",
       "1786     IXBCZI_!IQP!E9MWTSA2YJDRIPOZAG.JPG     .CR2  \n",
       "1787     TPEMYB_VH6IQ_M_J7D0!NS2G0-P788.JPG     .JPG  \n",
       "...                                     ...      ...  \n",
       "118419  BVSJUMXA_2YYIA9FWAZP29031ZHTEZD.JPG     .PNG  \n",
       "118420  CA4VW8H6_G6B36O_99TJW4ZGLRS3U8O.JPG     .PNG  \n",
       "118421   I8IP8T6CW_VUGZZYPH30_23W15HQT8.JPG     .PNG  \n",
       "118422   ODUQGLEEXJEAR-FL18J81ALC-U55S-.JPG     .PNG  \n",
       "118423   ZM0EPASCAX7UJM82D8KDGND4-_K1-1.JPG     .JPG  \n",
       "\n",
       "[1279 rows x 9 columns]"
      ]
     },
     "execution_count": 285,
     "metadata": {},
     "output_type": "execute_result"
    }
   ],
   "source": [
    "df = df[df.FILETYPE != '.WMV']\n",
    "df['FILENAME'] = df['FILENAME'].str.replace('.CR2','.JPG')\n",
    "df['FILENAME'] = df['FILENAME'].str.replace('.PNG','.JPG')\n",
    "df['FILENAME'] = df['FILENAME'].str.replace('.CR2','.PNG')"
   ]
  },
  {
   "cell_type": "code",
   "execution_count": 384,
   "metadata": {},
   "outputs": [],
   "source": [
    "trilegest_dir  = 'trilegest'\n",
    "nortrel_dir    = 'nortrel'\n",
    "trivora_dir    = 'trivora'\n",
    "amrix_dir      = 'amrix'\n",
    "amaryl_dir     = 'amaryl'\n",
    "balziva_dir    = 'balziva'\n",
    "natazia_dir    = 'natazia'\n",
    "mircette_dir   = 'mircette'\n",
    "dyazide_dir    = 'dyazide'\n",
    "lanoxin_dir    = 'lanoxin'\n",
    "new_dir        = 'data/pills_jpg/split/'\n",
    "images         = 'data/pills_jpg'\n",
    "unclass         = 'unclassified'"
   ]
  },
  {
   "cell_type": "code",
   "execution_count": 248,
   "metadata": {},
   "outputs": [
    {
     "ename": "FileNotFoundError",
     "evalue": "[Errno 2] No such file or directory: 'data/pills_jpg/split/'",
     "output_type": "error",
     "traceback": [
      "\u001b[0;31m---------------------------------------------------------------------------\u001b[0m",
      "\u001b[0;31mFileNotFoundError\u001b[0m                         Traceback (most recent call last)",
      "\u001b[0;32m<ipython-input-248-9cccf29bcbc0>\u001b[0m in \u001b[0;36m<module>\u001b[0;34m\u001b[0m\n\u001b[1;32m      9\u001b[0m \u001b[0mos\u001b[0m\u001b[0;34m.\u001b[0m\u001b[0mmkdir\u001b[0m\u001b[0;34m(\u001b[0m\u001b[0mdyazide_dir\u001b[0m\u001b[0;34m)\u001b[0m\u001b[0;34m\u001b[0m\u001b[0;34m\u001b[0m\u001b[0m\n\u001b[1;32m     10\u001b[0m \u001b[0mos\u001b[0m\u001b[0;34m.\u001b[0m\u001b[0mmkdir\u001b[0m\u001b[0;34m(\u001b[0m\u001b[0mlanoxin_dir\u001b[0m\u001b[0;34m)\u001b[0m\u001b[0;34m\u001b[0m\u001b[0;34m\u001b[0m\u001b[0m\n\u001b[0;32m---> 11\u001b[0;31m \u001b[0mos\u001b[0m\u001b[0;34m.\u001b[0m\u001b[0mmkdir\u001b[0m\u001b[0;34m(\u001b[0m\u001b[0mnew_dir\u001b[0m\u001b[0;34m)\u001b[0m\u001b[0;34m\u001b[0m\u001b[0;34m\u001b[0m\u001b[0m\n\u001b[0m",
      "\u001b[0;31mFileNotFoundError\u001b[0m: [Errno 2] No such file or directory: 'data/pills_jpg/split/'"
     ]
    }
   ],
   "source": [
    "os.mkdir(trilegest_dir)\n",
    "os.mkdir(nortrel_dir)\n",
    "os.mkdir(amrix_dir)\n",
    "os.mkdir(trivora_dir)\n",
    "os.mkdir(amaryl_dir)\n",
    "os.mkdir(balziva_dir)\n",
    "os.mkdir(natazia_dir)\n",
    "os.mkdir(mircette_dir)\n",
    "os.mkdir(dyazide_dir)\n",
    "os.mkdir(lanoxin_dir)\n",
    "os.mkdir(new_dir)"
   ]
  },
  {
   "cell_type": "code",
   "execution_count": 331,
   "metadata": {},
   "outputs": [],
   "source": [
    "imgs_trilegest = df.FILENAME[df.NDC == '00555903270'].tolist()\n",
    "imgs_nortrel   = df.FILENAME[df.NDC == '00555901258'].tolist()\n",
    "imgs_trivora   = df.FILENAME[df.NDC == '52544029128'].tolist()\n",
    "imgs_amrix     = df.FILENAME[df.NDC == '63459070160'].tolist()\n",
    "imgs_amaryl    = df.FILENAME[df.NDC == '00039022310'].tolist()\n",
    "imgs_balziva   = df.FILENAME[df.NDC == '00555903458'].tolist()\n",
    "imgs_natazia   = df.FILENAME[df.NDC == '50419040901'].tolist()\n",
    "imgs_mircette  = df.FILENAME[df.NDC == '51285011458'].tolist()\n",
    "imgs_dyazide   = df.FILENAME[df.NDC == '00007365022'].tolist()\n",
    "imgs_combivir  = df.FILENAME[df.NDC == '49702020218'].tolist()\n",
    "imgs_lanoxin   = df.FILENAME[df.NDC == '00173024255'].tolist()"
   ]
  },
  {
   "cell_type": "code",
   "execution_count": 332,
   "metadata": {},
   "outputs": [],
   "source": [
    "druglist = [imgs_trilegest,\n",
    "            imgs_nortrel, \n",
    "            imgs_trivora,\n",
    "            imgs_amrix , \n",
    "            imgs_amaryl ,\n",
    "            imgs_balziva,\n",
    "            imgs_natazia,\n",
    "            imgs_mircette,\n",
    "            imgs_dyazide,\n",
    "            imgs_lanoxin]"
   ]
  },
  {
   "cell_type": "code",
   "execution_count": 333,
   "metadata": {},
   "outputs": [],
   "source": [
    "pathlist = [trilegest_dir,\n",
    "            nortrel_dir, \n",
    "            trivora_dir,\n",
    "            amrix_dir , \n",
    "            amaryl_dir ,\n",
    "            balziva_dir,\n",
    "            natazia_dir,\n",
    "            mircette_dir,\n",
    "            dyazide_dir,\n",
    "            lanoxin_dir]"
   ]
  },
  {
   "cell_type": "code",
   "execution_count": 337,
   "metadata": {},
   "outputs": [
    {
     "name": "stdout",
     "output_type": "stream",
     "text": [
      "/Users/alphonsowoodbury/Projects/Computer_Vision-Medication_Identification/Data/pills_jpg\n"
     ]
    }
   ],
   "source": [
    "%cd pills_jpg"
   ]
  },
  {
   "cell_type": "code",
   "execution_count": 75,
   "metadata": {},
   "outputs": [
    {
     "data": {
      "text/plain": [
       "('data/pills_jpg/7!U5OIAL6W!52!L488NFS4OZ9B86QM.JPG',\n",
       " 'data/pills_jpg/nortrel/7!U5OIAL6W!52!L488NFS4OZ9B86QM.JPG')"
      ]
     },
     "execution_count": 75,
     "metadata": {},
     "output_type": "execute_result"
    }
   ],
   "source": [
    "origin,destination"
   ]
  },
  {
   "cell_type": "code",
   "execution_count": 385,
   "metadata": {},
   "outputs": [],
   "source": [
    "for img in imgs_trilegest:\n",
    "    origin = os.path.join(unclass, img)\n",
    "    destination = os.path.join(trilegest_dir, img)\n",
    "    try:\n",
    "        shutil.move(origin, destination)\n",
    "    except:\n",
    "        continue"
   ]
  },
  {
   "cell_type": "code",
   "execution_count": 386,
   "metadata": {},
   "outputs": [],
   "source": [
    "for img in imgs_nortrel:\n",
    "    origin = os.path.join(unclass, img)\n",
    "    destination = os.path.join(nortrel_dir, img)\n",
    "    try:\n",
    "        shutil.move(origin,destination)\n",
    "    except:\n",
    "        continue"
   ]
  },
  {
   "cell_type": "code",
   "execution_count": 387,
   "metadata": {},
   "outputs": [],
   "source": [
    "for img in imgs_trivora:\n",
    "    origin = os.path.join(unclass, img)\n",
    "    destination = os.path.join(trivora_dir, img)\n",
    "    try:\n",
    "        shutil.move(origin,destination)\n",
    "    except:\n",
    "        continue"
   ]
  },
  {
   "cell_type": "code",
   "execution_count": 388,
   "metadata": {},
   "outputs": [],
   "source": [
    "for img in imgs_amrix:\n",
    "    origin = os.path.join(unclass, img)\n",
    "    destination = os.path.join(amrix_dir, img)\n",
    "    try:\n",
    "        shutil.move(origin,destination)\n",
    "    except:\n",
    "        continue"
   ]
  },
  {
   "cell_type": "code",
   "execution_count": 389,
   "metadata": {},
   "outputs": [],
   "source": [
    "for img in imgs_amaryl:\n",
    "    origin = os.path.join(unclass, img)\n",
    "    destination = os.path.join(amaryl_dir, img)\n",
    "    try:\n",
    "        shutil.move(origin,destination)\n",
    "    except:\n",
    "        continue"
   ]
  },
  {
   "cell_type": "code",
   "execution_count": 390,
   "metadata": {},
   "outputs": [],
   "source": [
    "for img in imgs_balziva:\n",
    "    origin = os.path.join(unclass, img)\n",
    "    destination = os.path.join(balziva_dir, img)\n",
    "    try:\n",
    "        shutil.move(origin,destination)\n",
    "    except:\n",
    "        continue"
   ]
  },
  {
   "cell_type": "code",
   "execution_count": 391,
   "metadata": {},
   "outputs": [],
   "source": [
    "for img in imgs_natazia:\n",
    "    origin = os.path.join(unclass, img)\n",
    "    destination = os.path.join(natazia_dir, img)\n",
    "    try:\n",
    "        shutil.move(origin,destination)\n",
    "    except:\n",
    "        continue"
   ]
  },
  {
   "cell_type": "code",
   "execution_count": 392,
   "metadata": {},
   "outputs": [],
   "source": [
    "for img in imgs_mircette:\n",
    "    origin = os.path.join(unclass, img)\n",
    "    destination = os.path.join(mircette_dir, img)\n",
    "    try:\n",
    "        shutil.move(origin,destination)\n",
    "    except:\n",
    "        continue"
   ]
  },
  {
   "cell_type": "code",
   "execution_count": 393,
   "metadata": {},
   "outputs": [],
   "source": [
    "for img in imgs_dyazide:\n",
    "    origin = os.path.join(unclass, img)\n",
    "    destination = os.path.join(dyazide_dir, img)\n",
    "    try:\n",
    "        shutil.move(origin,destination)\n",
    "    except:\n",
    "        continue"
   ]
  },
  {
   "cell_type": "code",
   "execution_count": 375,
   "metadata": {},
   "outputs": [],
   "source": [
    "for img in imgs_lanoxin:\n",
    "    origin = os.path.join(unclass, img)\n",
    "    destination = os.path.join(lanoxin_dir, img)\n",
    "    try:\n",
    "        shutil.move(origin, destination)\n",
    "    except:\n",
    "        continue"
   ]
  },
  {
   "cell_type": "code",
   "execution_count": 301,
   "metadata": {},
   "outputs": [
    {
     "name": "stdout",
     "output_type": "stream",
     "text": [
      "/Users/alphonsowoodbury/Projects/Computer_Vision-Medication_Identification/Data/pills_jpg/unclassified\n"
     ]
    }
   ],
   "source": [
    "%cd /Users/alphonsowoodbury/Projects/Computer_Vision-Medication_Identification/Data/pills_jpg/unclassified"
   ]
  },
  {
   "cell_type": "code",
   "execution_count": null,
   "metadata": {},
   "outputs": [],
   "source": []
  },
  {
   "cell_type": "code",
   "execution_count": 93,
   "metadata": {},
   "outputs": [],
   "source": [
    "imgs_nortela = imgs_trilegest[:90]\n",
    "for img in imgs_nortela:\n",
    "    origin = os.path.join(images, img)\n",
    "    destination = os.path.join(trilegest_dir, img)\n",
    "    shutil.move(origin, \n",
    "                destination)"
   ]
  },
  {
   "cell_type": "code",
   "execution_count": 71,
   "metadata": {},
   "outputs": [
    {
     "data": {
      "text/plain": [
       "'CVCFM3B4PL!67K921BF!G_7NVWYAN4X.PNG'"
      ]
     },
     "execution_count": 71,
     "metadata": {},
     "output_type": "execute_result"
    }
   ],
   "source": [
    "img"
   ]
  },
  {
   "cell_type": "code",
   "execution_count": 72,
   "metadata": {},
   "outputs": [
    {
     "data": {
      "text/plain": [
       "'data/images/CVCFM3B4PL!67K921BF!G_7NVWYAN4X.PNG'"
      ]
     },
     "execution_count": 72,
     "metadata": {},
     "output_type": "execute_result"
    }
   ],
   "source": [
    "origin"
   ]
  },
  {
   "cell_type": "code",
   "execution_count": 73,
   "metadata": {},
   "outputs": [
    {
     "data": {
      "text/plain": [
       "'data/split/train/LANOXIN/CVCFM3B4PL!67K921BF!G_7NVWYAN4X.PNG'"
      ]
     },
     "execution_count": 73,
     "metadata": {},
     "output_type": "execute_result"
    }
   ],
   "source": [
    "destination"
   ]
  },
  {
   "cell_type": "code",
   "execution_count": 251,
   "metadata": {},
   "outputs": [
    {
     "data": {
      "text/html": [
       "<div>\n",
       "<style scoped>\n",
       "    .dataframe tbody tr th:only-of-type {\n",
       "        vertical-align: middle;\n",
       "    }\n",
       "\n",
       "    .dataframe tbody tr th {\n",
       "        vertical-align: top;\n",
       "    }\n",
       "\n",
       "    .dataframe thead th {\n",
       "        text-align: right;\n",
       "    }\n",
       "</style>\n",
       "<table border=\"1\" class=\"dataframe\">\n",
       "  <thead>\n",
       "    <tr style=\"text-align: right;\">\n",
       "      <th></th>\n",
       "      <th>NDC</th>\n",
       "      <th>IDK</th>\n",
       "      <th>FILE</th>\n",
       "      <th>TYPE</th>\n",
       "      <th>DRUG</th>\n",
       "      <th>ORIG_FOLDER</th>\n",
       "      <th>IMAGES</th>\n",
       "      <th>FILENAME</th>\n",
       "      <th>FILETYPE</th>\n",
       "    </tr>\n",
       "  </thead>\n",
       "  <tbody>\n",
       "    <tr>\n",
       "      <th>57421</th>\n",
       "      <td>00555901258</td>\n",
       "      <td>1</td>\n",
       "      <td>PillProjectDisc109/images/Z4DLBKOT9M01!1VAYS90...</td>\n",
       "      <td>C3PI_Reference</td>\n",
       "      <td>NORTREL</td>\n",
       "      <td>PillProjectDisc109</td>\n",
       "      <td>images</td>\n",
       "      <td>Z4DLBKOT9M01!1VAYS90Z2JNTMWL4.JPG</td>\n",
       "      <td>.CR2</td>\n",
       "    </tr>\n",
       "  </tbody>\n",
       "</table>\n",
       "</div>"
      ],
      "text/plain": [
       "               NDC  IDK                                               FILE  \\\n",
       "57421  00555901258    1  PillProjectDisc109/images/Z4DLBKOT9M01!1VAYS90...   \n",
       "\n",
       "                 TYPE     DRUG         ORIG_FOLDER  IMAGES  \\\n",
       "57421  C3PI_Reference  NORTREL  PillProjectDisc109  images   \n",
       "\n",
       "                                FILENAME FILETYPE  \n",
       "57421  Z4DLBKOT9M01!1VAYS90Z2JNTMWL4.JPG     .CR2  "
      ]
     },
     "execution_count": 251,
     "metadata": {},
     "output_type": "execute_result"
    }
   ],
   "source": [
    "df[df.FILENAME == 'Z4DLBKOT9M01!1VAYS90Z2JNTMWL4.JPG']"
   ]
  },
  {
   "cell_type": "code",
   "execution_count": 148,
   "metadata": {},
   "outputs": [
    {
     "data": {
      "text/plain": [
       "00173080661    37\n",
       "51991036378    17\n",
       "33342009407    17\n",
       "33342008852    17\n",
       "00093747243    17\n",
       "00093747143    17\n",
       "60505372301    17\n",
       "23155024546    17\n",
       "00781542606    17\n",
       "53451010101    17\n",
       "51991035478    17\n",
       "Name: NDC, dtype: int64"
      ]
     },
     "execution_count": 148,
     "metadata": {},
     "output_type": "execute_result"
    }
   ],
   "source": [
    "riz = pills[pills.DRUG.str.contains('RIZA')]\n",
    "riz.NDC.value_counts()"
   ]
  },
  {
   "cell_type": "code",
   "execution_count": null,
   "metadata": {},
   "outputs": [],
   "source": []
  },
  {
   "cell_type": "code",
   "execution_count": null,
   "metadata": {},
   "outputs": [],
   "source": []
  },
  {
   "cell_type": "code",
   "execution_count": null,
   "metadata": {},
   "outputs": [],
   "source": [
    "# train santa\n",
    "imgs = imgs_santa[:271]\n",
    "for img in imgs:\n",
    "    origin = os.path.join(data_santa_dir, img)\n",
    "    destination = os.path.join(train_santa, img)\n",
    "    shutil.copyfile(origin, destination)"
   ]
  },
  {
   "cell_type": "code",
   "execution_count": null,
   "metadata": {},
   "outputs": [],
   "source": [
    "# validation santa\n",
    "imgs = imgs_santa[271:371]\n",
    "for img in imgs:\n",
    "    origin = os.path.join(data_santa_dir, img)\n",
    "    destination = os.path.join(val_santa, img)\n",
    "    shutil.copyfile(origin, destination)"
   ]
  },
  {
   "cell_type": "code",
   "execution_count": null,
   "metadata": {},
   "outputs": [],
   "source": [
    "# test santa\n",
    "imgs = imgs_santa[371:]\n",
    "for img in imgs:\n",
    "    origin = os.path.join(data_santa_dir, img)\n",
    "    destination = os.path.join(test_santa, img)\n",
    "    shutil.copyfile(origin, destination)"
   ]
  },
  {
   "cell_type": "markdown",
   "metadata": {},
   "source": [
    "# Prep Images"
   ]
  },
  {
   "cell_type": "code",
   "execution_count": null,
   "metadata": {},
   "outputs": [],
   "source": []
  },
  {
   "cell_type": "markdown",
   "metadata": {},
   "source": [
    "## Augmentation"
   ]
  },
  {
   "cell_type": "code",
   "execution_count": null,
   "metadata": {},
   "outputs": [],
   "source": []
  },
  {
   "cell_type": "code",
   "execution_count": 202,
   "metadata": {},
   "outputs": [
    {
     "name": "stdout",
     "output_type": "stream",
     "text": [
      "/Users/alphonsowoodbury/Projects/Computer_Vision-Medication_Identification/Data\n"
     ]
    }
   ],
   "source": [
    "%cd /Users/alphonsowoodbury/Projects/Computer_Vision-Medication_Identification/Data"
   ]
  },
  {
   "cell_type": "code",
   "execution_count": 223,
   "metadata": {},
   "outputs": [
    {
     "data": {
      "text/html": [
       "<div>\n",
       "<style scoped>\n",
       "    .dataframe tbody tr th:only-of-type {\n",
       "        vertical-align: middle;\n",
       "    }\n",
       "\n",
       "    .dataframe tbody tr th {\n",
       "        vertical-align: top;\n",
       "    }\n",
       "\n",
       "    .dataframe thead th {\n",
       "        text-align: right;\n",
       "    }\n",
       "</style>\n",
       "<table border=\"1\" class=\"dataframe\">\n",
       "  <thead>\n",
       "    <tr style=\"text-align: right;\">\n",
       "      <th></th>\n",
       "      <th>NDC</th>\n",
       "      <th>IDK</th>\n",
       "      <th>FILE</th>\n",
       "      <th>TYPE</th>\n",
       "      <th>DRUG</th>\n",
       "      <th>ORIG_FOLDER</th>\n",
       "      <th>IMAGES</th>\n",
       "      <th>FILENAME</th>\n",
       "      <th>FILETYPE</th>\n",
       "    </tr>\n",
       "  </thead>\n",
       "  <tbody>\n",
       "    <tr>\n",
       "      <th>1783</th>\n",
       "      <td>00007365022</td>\n",
       "      <td>1</td>\n",
       "      <td>PillProjectDisc40/images/BNCP-9IQ3I-B1AK05KJGY...</td>\n",
       "      <td>C3PI_Reference</td>\n",
       "      <td>DYAZIDE</td>\n",
       "      <td>PillProjectDisc40</td>\n",
       "      <td>images</td>\n",
       "      <td>BNCP-9IQ3I-B1AK05KJGYPKFXB8Z-W9.CR2</td>\n",
       "      <td>.CR2</td>\n",
       "    </tr>\n",
       "    <tr>\n",
       "      <th>1784</th>\n",
       "      <td>00007365022</td>\n",
       "      <td>1</td>\n",
       "      <td>PillProjectDisc70/images/CMY2RZHAK0IQFKI-EJ91T...</td>\n",
       "      <td>C3PI_Reference</td>\n",
       "      <td>DYAZIDE</td>\n",
       "      <td>PillProjectDisc70</td>\n",
       "      <td>images</td>\n",
       "      <td>CMY2RZHAK0IQFKI-EJ91TX_KKA3OWJE.CR2</td>\n",
       "      <td>.CR2</td>\n",
       "    </tr>\n",
       "    <tr>\n",
       "      <th>1785</th>\n",
       "      <td>00007365022</td>\n",
       "      <td>1</td>\n",
       "      <td>PillProjectDisc77/images/CSZ5USH95QL78TU2L!U55...</td>\n",
       "      <td>C3PI_Reference</td>\n",
       "      <td>DYAZIDE</td>\n",
       "      <td>PillProjectDisc77</td>\n",
       "      <td>images</td>\n",
       "      <td>CSZ5USH95QL78TU2L!U5510IOGAASAX.CR2</td>\n",
       "      <td>.CR2</td>\n",
       "    </tr>\n",
       "    <tr>\n",
       "      <th>1786</th>\n",
       "      <td>00007365022</td>\n",
       "      <td>1</td>\n",
       "      <td>PillProjectDisc91/images/IXBCZI_!IQP!E9MWTSA2Y...</td>\n",
       "      <td>C3PI_Reference</td>\n",
       "      <td>DYAZIDE</td>\n",
       "      <td>PillProjectDisc91</td>\n",
       "      <td>images</td>\n",
       "      <td>IXBCZI_!IQP!E9MWTSA2YJDRIPOZAG.CR2</td>\n",
       "      <td>.CR2</td>\n",
       "    </tr>\n",
       "    <tr>\n",
       "      <th>1787</th>\n",
       "      <td>00007365022</td>\n",
       "      <td>1</td>\n",
       "      <td>PillProjectDisc103/images/TPEMYB_VH6IQ_M_J7D0!...</td>\n",
       "      <td>C3PI_Test</td>\n",
       "      <td>DYAZIDE</td>\n",
       "      <td>PillProjectDisc103</td>\n",
       "      <td>images</td>\n",
       "      <td>TPEMYB_VH6IQ_M_J7D0!NS2G0-P788.JPG</td>\n",
       "      <td>.JPG</td>\n",
       "    </tr>\n",
       "    <tr>\n",
       "      <th>...</th>\n",
       "      <td>...</td>\n",
       "      <td>...</td>\n",
       "      <td>...</td>\n",
       "      <td>...</td>\n",
       "      <td>...</td>\n",
       "      <td>...</td>\n",
       "      <td>...</td>\n",
       "      <td>...</td>\n",
       "      <td>...</td>\n",
       "    </tr>\n",
       "    <tr>\n",
       "      <th>118419</th>\n",
       "      <td>63459070160</td>\n",
       "      <td>1</td>\n",
       "      <td>PillProjectDisc49/images/BVSJUMXA_2YYIA9FWAZP2...</td>\n",
       "      <td>MC_COOKED_CALIBRATED_V1.2</td>\n",
       "      <td>AMRIX</td>\n",
       "      <td>PillProjectDisc49</td>\n",
       "      <td>images</td>\n",
       "      <td>BVSJUMXA_2YYIA9FWAZP29031ZHTEZD.PNG</td>\n",
       "      <td>.PNG</td>\n",
       "    </tr>\n",
       "    <tr>\n",
       "      <th>118420</th>\n",
       "      <td>63459070160</td>\n",
       "      <td>1</td>\n",
       "      <td>PillProjectDisc57/images/CA4VW8H6_G6B36O_99TJW...</td>\n",
       "      <td>MC_COOKED_CALIBRATED_V1.2</td>\n",
       "      <td>AMRIX</td>\n",
       "      <td>PillProjectDisc57</td>\n",
       "      <td>images</td>\n",
       "      <td>CA4VW8H6_G6B36O_99TJW4ZGLRS3U8O.PNG</td>\n",
       "      <td>.PNG</td>\n",
       "    </tr>\n",
       "    <tr>\n",
       "      <th>118421</th>\n",
       "      <td>63459070160</td>\n",
       "      <td>1</td>\n",
       "      <td>PillProjectDisc90/images/I8IP8T6CW_VUGZZYPH30_...</td>\n",
       "      <td>MC_COOKED_CALIBRATED_V1.2</td>\n",
       "      <td>AMRIX</td>\n",
       "      <td>PillProjectDisc90</td>\n",
       "      <td>images</td>\n",
       "      <td>I8IP8T6CW_VUGZZYPH30_23W15HQT8.PNG</td>\n",
       "      <td>.PNG</td>\n",
       "    </tr>\n",
       "    <tr>\n",
       "      <th>118422</th>\n",
       "      <td>63459070160</td>\n",
       "      <td>1</td>\n",
       "      <td>PillProjectDisc97/images/ODUQGLEEXJEAR-FL18J81...</td>\n",
       "      <td>MC_COOKED_CALIBRATED_V1.2</td>\n",
       "      <td>AMRIX</td>\n",
       "      <td>PillProjectDisc97</td>\n",
       "      <td>images</td>\n",
       "      <td>ODUQGLEEXJEAR-FL18J81ALC-U55S-.PNG</td>\n",
       "      <td>.PNG</td>\n",
       "    </tr>\n",
       "    <tr>\n",
       "      <th>118423</th>\n",
       "      <td>63459070160</td>\n",
       "      <td>1</td>\n",
       "      <td>PillProjectDisc109/images/ZM0EPASCAX7UJM82D8KD...</td>\n",
       "      <td>MC_SPL_SPLIMAGE_V3.0</td>\n",
       "      <td>AMRIX</td>\n",
       "      <td>PillProjectDisc109</td>\n",
       "      <td>images</td>\n",
       "      <td>ZM0EPASCAX7UJM82D8KDGND4-_K1-1.JPG</td>\n",
       "      <td>.JPG</td>\n",
       "    </tr>\n",
       "  </tbody>\n",
       "</table>\n",
       "<p>1215 rows × 9 columns</p>\n",
       "</div>"
      ],
      "text/plain": [
       "                NDC  IDK                                               FILE  \\\n",
       "1783    00007365022    1  PillProjectDisc40/images/BNCP-9IQ3I-B1AK05KJGY...   \n",
       "1784    00007365022    1  PillProjectDisc70/images/CMY2RZHAK0IQFKI-EJ91T...   \n",
       "1785    00007365022    1  PillProjectDisc77/images/CSZ5USH95QL78TU2L!U55...   \n",
       "1786    00007365022    1  PillProjectDisc91/images/IXBCZI_!IQP!E9MWTSA2Y...   \n",
       "1787    00007365022    1  PillProjectDisc103/images/TPEMYB_VH6IQ_M_J7D0!...   \n",
       "...             ...  ...                                                ...   \n",
       "118419  63459070160    1  PillProjectDisc49/images/BVSJUMXA_2YYIA9FWAZP2...   \n",
       "118420  63459070160    1  PillProjectDisc57/images/CA4VW8H6_G6B36O_99TJW...   \n",
       "118421  63459070160    1  PillProjectDisc90/images/I8IP8T6CW_VUGZZYPH30_...   \n",
       "118422  63459070160    1  PillProjectDisc97/images/ODUQGLEEXJEAR-FL18J81...   \n",
       "118423  63459070160    1  PillProjectDisc109/images/ZM0EPASCAX7UJM82D8KD...   \n",
       "\n",
       "                             TYPE     DRUG         ORIG_FOLDER  IMAGES  \\\n",
       "1783               C3PI_Reference  DYAZIDE   PillProjectDisc40  images   \n",
       "1784               C3PI_Reference  DYAZIDE   PillProjectDisc70  images   \n",
       "1785               C3PI_Reference  DYAZIDE   PillProjectDisc77  images   \n",
       "1786               C3PI_Reference  DYAZIDE   PillProjectDisc91  images   \n",
       "1787                    C3PI_Test  DYAZIDE  PillProjectDisc103  images   \n",
       "...                           ...      ...                 ...     ...   \n",
       "118419  MC_COOKED_CALIBRATED_V1.2    AMRIX   PillProjectDisc49  images   \n",
       "118420  MC_COOKED_CALIBRATED_V1.2    AMRIX   PillProjectDisc57  images   \n",
       "118421  MC_COOKED_CALIBRATED_V1.2    AMRIX   PillProjectDisc90  images   \n",
       "118422  MC_COOKED_CALIBRATED_V1.2    AMRIX   PillProjectDisc97  images   \n",
       "118423       MC_SPL_SPLIMAGE_V3.0    AMRIX  PillProjectDisc109  images   \n",
       "\n",
       "                                   FILENAME FILETYPE  \n",
       "1783    BNCP-9IQ3I-B1AK05KJGYPKFXB8Z-W9.CR2     .CR2  \n",
       "1784    CMY2RZHAK0IQFKI-EJ91TX_KKA3OWJE.CR2     .CR2  \n",
       "1785    CSZ5USH95QL78TU2L!U5510IOGAASAX.CR2     .CR2  \n",
       "1786     IXBCZI_!IQP!E9MWTSA2YJDRIPOZAG.CR2     .CR2  \n",
       "1787     TPEMYB_VH6IQ_M_J7D0!NS2G0-P788.JPG     .JPG  \n",
       "...                                     ...      ...  \n",
       "118419  BVSJUMXA_2YYIA9FWAZP29031ZHTEZD.PNG     .PNG  \n",
       "118420  CA4VW8H6_G6B36O_99TJW4ZGLRS3U8O.PNG     .PNG  \n",
       "118421   I8IP8T6CW_VUGZZYPH30_23W15HQT8.PNG     .PNG  \n",
       "118422   ODUQGLEEXJEAR-FL18J81ALC-U55S-.PNG     .PNG  \n",
       "118423   ZM0EPASCAX7UJM82D8KDGND4-_K1-1.JPG     .JPG  \n",
       "\n",
       "[1215 rows x 9 columns]"
      ]
     },
     "execution_count": 223,
     "metadata": {},
     "output_type": "execute_result"
    }
   ],
   "source": [
    "df"
   ]
  },
  {
   "cell_type": "code",
   "execution_count": 225,
   "metadata": {},
   "outputs": [
    {
     "data": {
      "text/plain": [
       "'/Users/alphonsowoodbury/Projects/Computer_Vision-Medication_Identification'"
      ]
     },
     "execution_count": 225,
     "metadata": {},
     "output_type": "execute_result"
    }
   ],
   "source": [
    "%pwd"
   ]
  },
  {
   "cell_type": "code",
   "execution_count": 255,
   "metadata": {},
   "outputs": [
    {
     "data": {
      "text/plain": [
       "Series([], Name: DRUG, dtype: object)"
      ]
     },
     "execution_count": 255,
     "metadata": {},
     "output_type": "execute_result"
    }
   ],
   "source": [
    "df.DRUG.loc[df.NDC == '00173024255']"
   ]
  },
  {
   "cell_type": "code",
   "execution_count": 283,
   "metadata": {},
   "outputs": [
    {
     "data": {
      "text/plain": [
       "['TRILEGEST',\n",
       " 'NORTREL',\n",
       " 'AMRIX',\n",
       " 'TRIVORA',\n",
       " 'AMARYL',\n",
       " 'BALZIVA',\n",
       " 'NATAZIA',\n",
       " 'MIRCETTE',\n",
       " 'DYAZIDE',\n",
       " 'COMBIVIR',\n",
       " 'LANOXIN']"
      ]
     },
     "execution_count": 283,
     "metadata": {},
     "output_type": "execute_result"
    }
   ],
   "source": [
    "df.DRUG.value_counts().index.tolist()"
   ]
  },
  {
   "cell_type": "code",
   "execution_count": 286,
   "metadata": {},
   "outputs": [],
   "source": [
    "df.to_csv('data/modelpills.csv')"
   ]
  },
  {
   "cell_type": "code",
   "execution_count": null,
   "metadata": {},
   "outputs": [],
   "source": []
  }
 ],
 "metadata": {
  "kernelspec": {
   "display_name": "Python 3",
   "language": "python",
   "name": "python3"
  },
  "language_info": {
   "codemirror_mode": {
    "name": "ipython",
    "version": 3
   },
   "file_extension": ".py",
   "mimetype": "text/x-python",
   "name": "python",
   "nbconvert_exporter": "python",
   "pygments_lexer": "ipython3",
   "version": "3.7.7"
  }
 },
 "nbformat": 4,
 "nbformat_minor": 4
}
