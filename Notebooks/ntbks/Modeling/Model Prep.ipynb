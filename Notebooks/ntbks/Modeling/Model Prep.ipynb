{
 "cells": [
  {
   "cell_type": "code",
   "execution_count": 3,
   "metadata": {},
   "outputs": [
    {
     "name": "stdout",
     "output_type": "stream",
     "text": [
      "Collecting google.colab\n",
      "  Downloading google-colab-1.0.0.tar.gz (72 kB)\n",
      "\u001b[K     |████████████████████████████████| 72 kB 758 kB/s eta 0:00:01\n",
      "\u001b[?25hCollecting google-auth~=1.4.0\n",
      "  Downloading google_auth-1.4.2-py2.py3-none-any.whl (64 kB)\n",
      "\u001b[K     |████████████████████████████████| 64 kB 1.2 MB/s eta 0:00:011\n",
      "\u001b[?25hCollecting ipykernel~=4.6.0\n",
      "  Downloading ipykernel-4.6.1-py3-none-any.whl (104 kB)\n",
      "\u001b[K     |████████████████████████████████| 104 kB 19.8 MB/s eta 0:00:01\n",
      "\u001b[?25hCollecting ipython~=5.5.0\n",
      "  Downloading ipython-5.5.0-py3-none-any.whl (758 kB)\n",
      "\u001b[K     |████████████████████████████████| 758 kB 24.2 MB/s eta 0:00:01\n",
      "\u001b[?25hCollecting notebook~=5.2.0\n",
      "  Downloading notebook-5.2.2-py2.py3-none-any.whl (8.0 MB)\n",
      "\u001b[K     |████████████████████████████████| 8.0 MB 12.2 MB/s eta 0:00:01\n",
      "\u001b[?25hCollecting six~=1.12.0\n",
      "  Using cached six-1.12.0-py2.py3-none-any.whl (10 kB)\n",
      "Collecting pandas~=0.24.0\n",
      "  Downloading pandas-0.24.2-cp37-cp37m-macosx_10_6_intel.macosx_10_9_intel.macosx_10_9_x86_64.macosx_10_10_intel.macosx_10_10_x86_64.whl (15.9 MB)\n",
      "\u001b[K     |████████████████████████████████| 15.9 MB 20.1 MB/s eta 0:00:01\n",
      "\u001b[?25hCollecting portpicker~=1.2.0\n",
      "  Downloading portpicker-1.2.0.tar.gz (17 kB)\n",
      "Collecting requests~=2.21.0\n",
      "  Downloading requests-2.21.0-py2.py3-none-any.whl (57 kB)\n",
      "\u001b[K     |████████████████████████████████| 57 kB 4.7 MB/s eta 0:00:011\n",
      "\u001b[?25hCollecting tornado~=4.5.0\n",
      "  Downloading tornado-4.5.3.tar.gz (484 kB)\n",
      "\u001b[K     |████████████████████████████████| 484 kB 46.9 MB/s eta 0:00:01\n",
      "\u001b[?25hRequirement already satisfied: cachetools>=2.0.0 in /Users/alphonsowoodbury/.conda/envs/aw0520/lib/python3.7/site-packages (from google-auth~=1.4.0->google.colab) (4.1.0)\n",
      "Requirement already satisfied: pyasn1-modules>=0.2.1 in /Users/alphonsowoodbury/.conda/envs/aw0520/lib/python3.7/site-packages (from google-auth~=1.4.0->google.colab) (0.2.8)\n",
      "Requirement already satisfied: rsa>=3.1.4 in /Users/alphonsowoodbury/.conda/envs/aw0520/lib/python3.7/site-packages (from google-auth~=1.4.0->google.colab) (4.0)\n",
      "Requirement already satisfied: jupyter-client in /Users/alphonsowoodbury/.conda/envs/aw0520/lib/python3.7/site-packages (from ipykernel~=4.6.0->google.colab) (6.1.3)\n",
      "Requirement already satisfied: traitlets>=4.1.0 in /Users/alphonsowoodbury/.conda/envs/aw0520/lib/python3.7/site-packages (from ipykernel~=4.6.0->google.colab) (4.3.3)\n",
      "Requirement already satisfied: appnope; sys_platform == \"darwin\" in /Users/alphonsowoodbury/.conda/envs/aw0520/lib/python3.7/site-packages (from ipython~=5.5.0->google.colab) (0.1.0)\n",
      "Requirement already satisfied: pygments in /Users/alphonsowoodbury/.conda/envs/aw0520/lib/python3.7/site-packages (from ipython~=5.5.0->google.colab) (2.6.1)\n",
      "Requirement already satisfied: setuptools>=18.5 in /Users/alphonsowoodbury/.conda/envs/aw0520/lib/python3.7/site-packages (from ipython~=5.5.0->google.colab) (46.1.3.post20200330)\n",
      "Requirement already satisfied: decorator in /Users/alphonsowoodbury/.conda/envs/aw0520/lib/python3.7/site-packages (from ipython~=5.5.0->google.colab) (4.4.2)\n",
      "Collecting simplegeneric>0.8\n",
      "  Using cached simplegeneric-0.8.1.zip (12 kB)\n",
      "Requirement already satisfied: pexpect; sys_platform != \"win32\" in /Users/alphonsowoodbury/.conda/envs/aw0520/lib/python3.7/site-packages (from ipython~=5.5.0->google.colab) (4.8.0)\n",
      "Requirement already satisfied: pickleshare in /Users/alphonsowoodbury/.conda/envs/aw0520/lib/python3.7/site-packages (from ipython~=5.5.0->google.colab) (0.7.5)\n",
      "Collecting prompt-toolkit<2.0.0,>=1.0.4\n",
      "  Downloading prompt_toolkit-1.0.18-py3-none-any.whl (245 kB)\n",
      "\u001b[K     |████████████████████████████████| 245 kB 3.0 MB/s eta 0:00:01\n",
      "\u001b[?25hRequirement already satisfied: terminado>=0.3.3; sys_platform != \"win32\" in /Users/alphonsowoodbury/.conda/envs/aw0520/lib/python3.7/site-packages (from notebook~=5.2.0->google.colab) (0.8.3)\n",
      "Requirement already satisfied: jinja2 in /Users/alphonsowoodbury/.conda/envs/aw0520/lib/python3.7/site-packages (from notebook~=5.2.0->google.colab) (2.11.2)\n",
      "Requirement already satisfied: ipython-genutils in /Users/alphonsowoodbury/.conda/envs/aw0520/lib/python3.7/site-packages (from notebook~=5.2.0->google.colab) (0.2.0)\n",
      "Requirement already satisfied: nbformat in /Users/alphonsowoodbury/.conda/envs/aw0520/lib/python3.7/site-packages (from notebook~=5.2.0->google.colab) (5.0.6)\n",
      "Requirement already satisfied: jupyter-core in /Users/alphonsowoodbury/.conda/envs/aw0520/lib/python3.7/site-packages (from notebook~=5.2.0->google.colab) (4.6.3)\n",
      "Requirement already satisfied: nbconvert in /Users/alphonsowoodbury/.conda/envs/aw0520/lib/python3.7/site-packages (from notebook~=5.2.0->google.colab) (5.6.1)\n",
      "Requirement already satisfied: numpy>=1.12.0 in /Users/alphonsowoodbury/.conda/envs/aw0520/lib/python3.7/site-packages (from pandas~=0.24.0->google.colab) (1.18.1)\n",
      "Requirement already satisfied: python-dateutil>=2.5.0 in /Users/alphonsowoodbury/.conda/envs/aw0520/lib/python3.7/site-packages (from pandas~=0.24.0->google.colab) (2.8.1)\n",
      "Requirement already satisfied: pytz>=2011k in /Users/alphonsowoodbury/.conda/envs/aw0520/lib/python3.7/site-packages (from pandas~=0.24.0->google.colab) (2020.1)\n",
      "Requirement already satisfied: chardet<3.1.0,>=3.0.2 in /Users/alphonsowoodbury/.conda/envs/aw0520/lib/python3.7/site-packages (from requests~=2.21.0->google.colab) (3.0.4)\n",
      "Collecting idna<2.9,>=2.5\n",
      "  Using cached idna-2.8-py2.py3-none-any.whl (58 kB)\n",
      "Requirement already satisfied: certifi>=2017.4.17 in /Users/alphonsowoodbury/.conda/envs/aw0520/lib/python3.7/site-packages (from requests~=2.21.0->google.colab) (2020.4.5.1)\n",
      "Collecting urllib3<1.25,>=1.21.1\n",
      "  Using cached urllib3-1.24.3-py2.py3-none-any.whl (118 kB)\n",
      "Requirement already satisfied: pyasn1<0.5.0,>=0.4.6 in /Users/alphonsowoodbury/.conda/envs/aw0520/lib/python3.7/site-packages (from pyasn1-modules>=0.2.1->google-auth~=1.4.0->google.colab) (0.4.8)\n",
      "Requirement already satisfied: pyzmq>=13 in /Users/alphonsowoodbury/.conda/envs/aw0520/lib/python3.7/site-packages (from jupyter-client->ipykernel~=4.6.0->google.colab) (18.1.1)\n",
      "Requirement already satisfied: ptyprocess>=0.5 in /Users/alphonsowoodbury/.conda/envs/aw0520/lib/python3.7/site-packages (from pexpect; sys_platform != \"win32\"->ipython~=5.5.0->google.colab) (0.6.0)\n",
      "Requirement already satisfied: wcwidth in /Users/alphonsowoodbury/.conda/envs/aw0520/lib/python3.7/site-packages (from prompt-toolkit<2.0.0,>=1.0.4->ipython~=5.5.0->google.colab) (0.1.9)\n",
      "Requirement already satisfied: MarkupSafe>=0.23 in /Users/alphonsowoodbury/.conda/envs/aw0520/lib/python3.7/site-packages (from jinja2->notebook~=5.2.0->google.colab) (1.1.1)\n",
      "Requirement already satisfied: jsonschema!=2.5.0,>=2.4 in /Users/alphonsowoodbury/.conda/envs/aw0520/lib/python3.7/site-packages (from nbformat->notebook~=5.2.0->google.colab) (3.2.0)\n",
      "Requirement already satisfied: testpath in /Users/alphonsowoodbury/.conda/envs/aw0520/lib/python3.7/site-packages (from nbconvert->notebook~=5.2.0->google.colab) (0.4.4)\n",
      "Requirement already satisfied: pandocfilters>=1.4.1 in /Users/alphonsowoodbury/.conda/envs/aw0520/lib/python3.7/site-packages (from nbconvert->notebook~=5.2.0->google.colab) (1.4.2)\n",
      "Requirement already satisfied: defusedxml in /Users/alphonsowoodbury/.conda/envs/aw0520/lib/python3.7/site-packages (from nbconvert->notebook~=5.2.0->google.colab) (0.6.0)\n",
      "Requirement already satisfied: mistune<2,>=0.8.1 in /Users/alphonsowoodbury/.conda/envs/aw0520/lib/python3.7/site-packages (from nbconvert->notebook~=5.2.0->google.colab) (0.8.4)\n",
      "Requirement already satisfied: bleach in /Users/alphonsowoodbury/.conda/envs/aw0520/lib/python3.7/site-packages (from nbconvert->notebook~=5.2.0->google.colab) (3.1.4)\n",
      "Requirement already satisfied: entrypoints>=0.2.2 in /Users/alphonsowoodbury/.conda/envs/aw0520/lib/python3.7/site-packages (from nbconvert->notebook~=5.2.0->google.colab) (0.3)\n",
      "Requirement already satisfied: pyrsistent>=0.14.0 in /Users/alphonsowoodbury/.conda/envs/aw0520/lib/python3.7/site-packages (from jsonschema!=2.5.0,>=2.4->nbformat->notebook~=5.2.0->google.colab) (0.16.0)\n",
      "Requirement already satisfied: importlib-metadata; python_version < \"3.8\" in /Users/alphonsowoodbury/.conda/envs/aw0520/lib/python3.7/site-packages (from jsonschema!=2.5.0,>=2.4->nbformat->notebook~=5.2.0->google.colab) (1.5.0)\n",
      "Requirement already satisfied: attrs>=17.4.0 in /Users/alphonsowoodbury/.conda/envs/aw0520/lib/python3.7/site-packages (from jsonschema!=2.5.0,>=2.4->nbformat->notebook~=5.2.0->google.colab) (19.3.0)\n",
      "Requirement already satisfied: webencodings in /Users/alphonsowoodbury/.conda/envs/aw0520/lib/python3.7/site-packages (from bleach->nbconvert->notebook~=5.2.0->google.colab) (0.5.1)\n",
      "Requirement already satisfied: zipp>=0.5 in /Users/alphonsowoodbury/.conda/envs/aw0520/lib/python3.7/site-packages (from importlib-metadata; python_version < \"3.8\"->jsonschema!=2.5.0,>=2.4->nbformat->notebook~=5.2.0->google.colab) (3.1.0)\n",
      "Building wheels for collected packages: google.colab, portpicker, tornado, simplegeneric\n",
      "  Building wheel for google.colab (setup.py) ... \u001b[?25ldone\n",
      "\u001b[?25h  Created wheel for google.colab: filename=google_colab-1.0.0-py2.py3-none-any.whl size=102289 sha256=cb563751d78789c0aa198f91ef953ecdbe6ef2f097faa1d89e30a8f0cc167301\n",
      "  Stored in directory: /Users/alphonsowoodbury/Library/Caches/pip/wheels/f6/3b/58/f34ea9045a7c69bd5634978bf25ac60277e90997d9e6e74192\n",
      "  Building wheel for portpicker (setup.py) ... \u001b[?25ldone\n",
      "\u001b[?25h  Created wheel for portpicker: filename=portpicker-1.2.0-py3-none-any.whl size=13369 sha256=7f06321e442ee4a12041de86ff000b3ca9fa0a656ea8810e0edb6fb27c2b4c67\n",
      "  Stored in directory: /Users/alphonsowoodbury/Library/Caches/pip/wheels/73/0c/f5/35977446e45e818e6b848be3d41e7f38298a5102f4dcda21c6\n",
      "  Building wheel for tornado (setup.py) ... \u001b[?25ldone\n",
      "\u001b[?25h  Created wheel for tornado: filename=tornado-4.5.3-cp37-cp37m-macosx_10_9_x86_64.whl size=422235 sha256=3461aa87f798e6cd49771116da96bcfa859b4b3400d79246710745f74527d6eb\n",
      "  Stored in directory: /Users/alphonsowoodbury/Library/Caches/pip/wheels/a2/45/43/36ec7a893e16c1212a6b1505ded0a2d73cf8e863a0227c8e04\n",
      "  Building wheel for simplegeneric (setup.py) ... \u001b[?25ldone\n",
      "\u001b[?25h  Created wheel for simplegeneric: filename=simplegeneric-0.8.1-py3-none-any.whl size=5073 sha256=ebc425121c0510316875ddd6516be7a074e57066351b90c01202256a24ed4491\n",
      "  Stored in directory: /Users/alphonsowoodbury/Library/Caches/pip/wheels/90/de/df/f1324f4dd966636ab877b82d467acad38a0998b1c42ddb7288\n",
      "Successfully built google.colab portpicker tornado simplegeneric\n",
      "\u001b[31mERROR: jupyterlab 1.2.0a3 has requirement jupyterlab_server~=1.0.0, but you'll have jupyterlab-server 1.1.1 which is incompatible.\u001b[0m\n",
      "\u001b[31mERROR: google-cloud-storage 1.28.1 has requirement google-auth<2.0dev,>=1.11.0, but you'll have google-auth 1.4.2 which is incompatible.\u001b[0m\n",
      "\u001b[31mERROR: google-api-core 1.17.0 has requirement google-auth<2.0dev,>=1.14.0, but you'll have google-auth 1.4.2 which is incompatible.\u001b[0m\n",
      "Installing collected packages: six, google-auth, simplegeneric, prompt-toolkit, ipython, tornado, ipykernel, notebook, pandas, portpicker, idna, urllib3, requests, google.colab\n",
      "  Attempting uninstall: six\n",
      "    Found existing installation: six 1.14.0\n",
      "    Uninstalling six-1.14.0:\n",
      "      Successfully uninstalled six-1.14.0\n",
      "  Attempting uninstall: google-auth\n",
      "    Found existing installation: google-auth 1.14.3\n",
      "    Uninstalling google-auth-1.14.3:\n",
      "      Successfully uninstalled google-auth-1.14.3\n",
      "  Attempting uninstall: prompt-toolkit\n",
      "    Found existing installation: prompt-toolkit 3.0.4\n",
      "    Uninstalling prompt-toolkit-3.0.4:\n",
      "      Successfully uninstalled prompt-toolkit-3.0.4\n",
      "  Attempting uninstall: ipython\n",
      "    Found existing installation: ipython 7.13.0\n",
      "    Uninstalling ipython-7.13.0:\n",
      "      Successfully uninstalled ipython-7.13.0\n",
      "  Attempting uninstall: tornado\n",
      "    Found existing installation: tornado 6.0.4\n",
      "    Uninstalling tornado-6.0.4:\n",
      "      Successfully uninstalled tornado-6.0.4\n",
      "  Attempting uninstall: ipykernel\n",
      "    Found existing installation: ipykernel 5.1.4\n",
      "    Uninstalling ipykernel-5.1.4:\n",
      "      Successfully uninstalled ipykernel-5.1.4\n",
      "  Attempting uninstall: notebook\n",
      "    Found existing installation: notebook 6.0.3\n",
      "    Uninstalling notebook-6.0.3:\n",
      "      Successfully uninstalled notebook-6.0.3\n",
      "  Attempting uninstall: pandas\n",
      "    Found existing installation: pandas 1.0.3\n",
      "    Uninstalling pandas-1.0.3:\n",
      "      Successfully uninstalled pandas-1.0.3\n",
      "  Attempting uninstall: idna\n",
      "    Found existing installation: idna 2.9\n",
      "    Uninstalling idna-2.9:\n",
      "      Successfully uninstalled idna-2.9\n",
      "  Attempting uninstall: urllib3\n",
      "    Found existing installation: urllib3 1.25.8\n",
      "    Uninstalling urllib3-1.25.8:\n",
      "      Successfully uninstalled urllib3-1.25.8\n",
      "  Attempting uninstall: requests\n",
      "    Found existing installation: requests 2.23.0\n",
      "    Uninstalling requests-2.23.0:\n",
      "      Successfully uninstalled requests-2.23.0\n",
      "Successfully installed google-auth-1.4.2 google.colab idna-2.8 ipykernel-4.6.1 ipython-5.5.0 notebook-5.2.2 pandas-0.24.2 portpicker-1.2.0 prompt-toolkit-1.0.18 requests-2.21.0 simplegeneric-0.8.1 six-1.12.0 tornado-4.5.3 urllib3-1.24.3\n"
     ]
    },
    {
     "name": "stderr",
     "output_type": "stream",
     "text": [
      "/Users/alphonsowoodbury/.conda/envs/aw0520/lib/python3.7/site-packages/IPython/utils/traitlets.py:5: UserWarning: IPython.utils.traitlets has moved to a top-level traitlets package.\n",
      "  warn(\"IPython.utils.traitlets has moved to a top-level traitlets package.\")\n"
     ]
    },
    {
     "ename": "KeyError",
     "evalue": "'CLOUDSDK_CONFIG'",
     "output_type": "error",
     "traceback": [
      "\u001b[0;31m---------------------------------------------------------------------------\u001b[0m",
      "\u001b[0;31mKeyError\u001b[0m                                  Traceback (most recent call last)",
      "\u001b[0;32m<ipython-input-3-0c18391ffb70>\u001b[0m in \u001b[0;36m<module>\u001b[0;34m\u001b[0m\n\u001b[1;32m      1\u001b[0m \u001b[0mget_ipython\u001b[0m\u001b[0;34m(\u001b[0m\u001b[0;34m)\u001b[0m\u001b[0;34m.\u001b[0m\u001b[0msystem\u001b[0m\u001b[0;34m(\u001b[0m\u001b[0;34m' pip install google.colab'\u001b[0m\u001b[0;34m)\u001b[0m\u001b[0;34m\u001b[0m\u001b[0;34m\u001b[0m\u001b[0m\n\u001b[1;32m      2\u001b[0m \u001b[0;32mfrom\u001b[0m \u001b[0mgoogle\u001b[0m\u001b[0;34m.\u001b[0m\u001b[0mcolab\u001b[0m \u001b[0;32mimport\u001b[0m \u001b[0mdrive\u001b[0m\u001b[0;34m\u001b[0m\u001b[0;34m\u001b[0m\u001b[0m\n\u001b[0;32m----> 3\u001b[0;31m \u001b[0mdrive\u001b[0m\u001b[0;34m.\u001b[0m\u001b[0mmount\u001b[0m\u001b[0;34m(\u001b[0m\u001b[0;34m'/content/drive'\u001b[0m\u001b[0;34m)\u001b[0m\u001b[0;34m\u001b[0m\u001b[0;34m\u001b[0m\u001b[0m\n\u001b[0m",
      "\u001b[0;32m~/.conda/envs/aw0520/lib/python3.7/site-packages/google/colab/drive.py\u001b[0m in \u001b[0;36mmount\u001b[0;34m(mountpoint, force_remount, timeout_ms)\u001b[0m\n\u001b[1;32m     80\u001b[0m     \u001b[0;32mreturn\u001b[0m\u001b[0;34m\u001b[0m\u001b[0;34m\u001b[0m\u001b[0m\n\u001b[1;32m     81\u001b[0m \u001b[0;34m\u001b[0m\u001b[0m\n\u001b[0;32m---> 82\u001b[0;31m   \u001b[0menv\u001b[0m \u001b[0;34m=\u001b[0m \u001b[0m_env\u001b[0m\u001b[0;34m(\u001b[0m\u001b[0;34m)\u001b[0m\u001b[0;34m\u001b[0m\u001b[0;34m\u001b[0m\u001b[0m\n\u001b[0m\u001b[1;32m     83\u001b[0m   \u001b[0mhome\u001b[0m \u001b[0;34m=\u001b[0m \u001b[0menv\u001b[0m\u001b[0;34m.\u001b[0m\u001b[0mhome\u001b[0m\u001b[0;34m\u001b[0m\u001b[0;34m\u001b[0m\u001b[0m\n\u001b[1;32m     84\u001b[0m   \u001b[0mroot_dir\u001b[0m \u001b[0;34m=\u001b[0m \u001b[0menv\u001b[0m\u001b[0;34m.\u001b[0m\u001b[0mroot_dir\u001b[0m\u001b[0;34m\u001b[0m\u001b[0;34m\u001b[0m\u001b[0m\n",
      "\u001b[0;32m~/.conda/envs/aw0520/lib/python3.7/site-packages/google/colab/drive.py\u001b[0m in \u001b[0;36m_env\u001b[0;34m()\u001b[0m\n\u001b[1;32m     41\u001b[0m   \u001b[0mhome\u001b[0m \u001b[0;34m=\u001b[0m \u001b[0m_os\u001b[0m\u001b[0;34m.\u001b[0m\u001b[0menviron\u001b[0m\u001b[0;34m[\u001b[0m\u001b[0;34m'HOME'\u001b[0m\u001b[0;34m]\u001b[0m\u001b[0;34m\u001b[0m\u001b[0;34m\u001b[0m\u001b[0m\n\u001b[1;32m     42\u001b[0m   root_dir = _os.path.realpath(\n\u001b[0;32m---> 43\u001b[0;31m       _os.path.join(_os.environ['CLOUDSDK_CONFIG'], '../..'))\n\u001b[0m\u001b[1;32m     44\u001b[0m   \u001b[0minet_family\u001b[0m \u001b[0;34m=\u001b[0m \u001b[0;34m'IPV4_ONLY'\u001b[0m\u001b[0;34m\u001b[0m\u001b[0;34m\u001b[0m\u001b[0m\n\u001b[1;32m     45\u001b[0m   \u001b[0mdev\u001b[0m \u001b[0;34m=\u001b[0m \u001b[0;34m'/dev/fuse'\u001b[0m\u001b[0;34m\u001b[0m\u001b[0;34m\u001b[0m\u001b[0m\n",
      "\u001b[0;32m~/.conda/envs/aw0520/lib/python3.7/os.py\u001b[0m in \u001b[0;36m__getitem__\u001b[0;34m(self, key)\u001b[0m\n\u001b[1;32m    679\u001b[0m         \u001b[0;32mexcept\u001b[0m \u001b[0mKeyError\u001b[0m\u001b[0;34m:\u001b[0m\u001b[0;34m\u001b[0m\u001b[0;34m\u001b[0m\u001b[0m\n\u001b[1;32m    680\u001b[0m             \u001b[0;31m# raise KeyError with the original key value\u001b[0m\u001b[0;34m\u001b[0m\u001b[0;34m\u001b[0m\u001b[0;34m\u001b[0m\u001b[0m\n\u001b[0;32m--> 681\u001b[0;31m             \u001b[0;32mraise\u001b[0m \u001b[0mKeyError\u001b[0m\u001b[0;34m(\u001b[0m\u001b[0mkey\u001b[0m\u001b[0;34m)\u001b[0m \u001b[0;32mfrom\u001b[0m \u001b[0;32mNone\u001b[0m\u001b[0;34m\u001b[0m\u001b[0;34m\u001b[0m\u001b[0m\n\u001b[0m\u001b[1;32m    682\u001b[0m         \u001b[0;32mreturn\u001b[0m \u001b[0mself\u001b[0m\u001b[0;34m.\u001b[0m\u001b[0mdecodevalue\u001b[0m\u001b[0;34m(\u001b[0m\u001b[0mvalue\u001b[0m\u001b[0;34m)\u001b[0m\u001b[0;34m\u001b[0m\u001b[0;34m\u001b[0m\u001b[0m\n\u001b[1;32m    683\u001b[0m \u001b[0;34m\u001b[0m\u001b[0m\n",
      "\u001b[0;31mKeyError\u001b[0m: 'CLOUDSDK_CONFIG'"
     ]
    }
   ],
   "source": [
    "! pip install google.colab\n",
    "from google.colab import drive\n",
    "drive.mount('/content/drive')"
   ]
  },
  {
   "cell_type": "code",
   "execution_count": 4,
   "metadata": {},
   "outputs": [
    {
     "name": "stdout",
     "output_type": "stream",
     "text": [
      "/bin/sh: CLOUDSDK_CONFIG: command not found\n"
     ]
    }
   ],
   "source": [
    "! CLOUDSDK_CONFIG"
   ]
  },
  {
   "cell_type": "markdown",
   "metadata": {},
   "source": [
    "Move image files into train test val folders\n",
    "\n",
    "---"
   ]
  },
  {
   "cell_type": "code",
   "execution_count": 1,
   "metadata": {},
   "outputs": [],
   "source": [
    "import os, shutil\n",
    "import tensorflow\n",
    "import pandas as pd"
   ]
  },
  {
   "cell_type": "code",
   "execution_count": 8,
   "metadata": {},
   "outputs": [
    {
     "data": {
      "text/html": [
       "<div>\n",
       "<style scoped>\n",
       "    .dataframe tbody tr th:only-of-type {\n",
       "        vertical-align: middle;\n",
       "    }\n",
       "\n",
       "    .dataframe tbody tr th {\n",
       "        vertical-align: top;\n",
       "    }\n",
       "\n",
       "    .dataframe thead th {\n",
       "        text-align: right;\n",
       "    }\n",
       "</style>\n",
       "<table border=\"1\" class=\"dataframe\">\n",
       "  <thead>\n",
       "    <tr style=\"text-align: right;\">\n",
       "      <th></th>\n",
       "      <th>NDC</th>\n",
       "      <th>IDK</th>\n",
       "      <th>FILE</th>\n",
       "      <th>TYPE</th>\n",
       "      <th>DRUG</th>\n",
       "    </tr>\n",
       "  </thead>\n",
       "  <tbody>\n",
       "    <tr>\n",
       "      <th>0</th>\n",
       "      <td>00002322730</td>\n",
       "      <td>1</td>\n",
       "      <td>PillProjectDisc69/images/CLLLLUPGIX7J8MP1WWQ9W...</td>\n",
       "      <td>C3PI_Reference</td>\n",
       "      <td>STRATTERA 10MG</td>\n",
       "    </tr>\n",
       "    <tr>\n",
       "      <th>1</th>\n",
       "      <td>00002322730</td>\n",
       "      <td>1</td>\n",
       "      <td>PillProjectDisc98/images/PRNJ-AXZIQ!HUQKJJBP_D...</td>\n",
       "      <td>C3PI_Reference</td>\n",
       "      <td>STRATTERA 10MG</td>\n",
       "    </tr>\n",
       "    <tr>\n",
       "      <th>2</th>\n",
       "      <td>00002322730</td>\n",
       "      <td>1</td>\n",
       "      <td>PillProjectDisc10/images/79U-YY6M1UUR6F127ZMAC...</td>\n",
       "      <td>C3PI_Test</td>\n",
       "      <td>STRATTERA 10MG</td>\n",
       "    </tr>\n",
       "    <tr>\n",
       "      <th>3</th>\n",
       "      <td>00002322730</td>\n",
       "      <td>1</td>\n",
       "      <td>PillProjectDisc11/images/7WVFV5H74!ELFNQ_GUH92...</td>\n",
       "      <td>C3PI_Test</td>\n",
       "      <td>STRATTERA 10MG</td>\n",
       "    </tr>\n",
       "    <tr>\n",
       "      <th>4</th>\n",
       "      <td>00002322730</td>\n",
       "      <td>1</td>\n",
       "      <td>PillProjectDisc20/images/B4CH0R9B7PEQ6GORRX-8X...</td>\n",
       "      <td>C3PI_Test</td>\n",
       "      <td>STRATTERA 10MG</td>\n",
       "    </tr>\n",
       "    <tr>\n",
       "      <th>...</th>\n",
       "      <td>...</td>\n",
       "      <td>...</td>\n",
       "      <td>...</td>\n",
       "      <td>...</td>\n",
       "      <td>...</td>\n",
       "    </tr>\n",
       "    <tr>\n",
       "      <th>133769</th>\n",
       "      <td>99207046730</td>\n",
       "      <td>1</td>\n",
       "      <td>PillProjectDisc103/images/TY5OVXLLOXV6H4I1TDVT...</td>\n",
       "      <td>MC_COOKED_CALIBRATED_V1.2</td>\n",
       "      <td>SOLODYN 105 MG TAB</td>\n",
       "    </tr>\n",
       "    <tr>\n",
       "      <th>133770</th>\n",
       "      <td>99207046730</td>\n",
       "      <td>1</td>\n",
       "      <td>PillProjectDisc31/images/BEIR3XK38EMGSDOZTWMUK...</td>\n",
       "      <td>MC_COOKED_CALIBRATED_V1.2</td>\n",
       "      <td>SOLODYN 105 MG TAB</td>\n",
       "    </tr>\n",
       "    <tr>\n",
       "      <th>133771</th>\n",
       "      <td>99207046730</td>\n",
       "      <td>1</td>\n",
       "      <td>PillProjectDisc69/images/CLJ1W40OS0XG5H6IVYT!N...</td>\n",
       "      <td>MC_COOKED_CALIBRATED_V1.2</td>\n",
       "      <td>SOLODYN 105 MG TAB</td>\n",
       "    </tr>\n",
       "    <tr>\n",
       "      <th>133772</th>\n",
       "      <td>99207046730</td>\n",
       "      <td>1</td>\n",
       "      <td>PillProjectDisc77/images/CSUHWDZ!XAZSEJHDANMFR...</td>\n",
       "      <td>MC_COOKED_CALIBRATED_V1.2</td>\n",
       "      <td>SOLODYN 105 MG TAB</td>\n",
       "    </tr>\n",
       "    <tr>\n",
       "      <th>133773</th>\n",
       "      <td>99207046730</td>\n",
       "      <td>1</td>\n",
       "      <td>PillProjectDisc23/images/B7P0-2BHT7T88IHB4E1EE...</td>\n",
       "      <td>MC_SPL_SPLIMAGE_V3.0</td>\n",
       "      <td>SOLODYN 105 MG TAB</td>\n",
       "    </tr>\n",
       "  </tbody>\n",
       "</table>\n",
       "<p>133774 rows × 5 columns</p>\n",
       "</div>"
      ],
      "text/plain": [
       "                NDC  IDK                                               FILE  \\\n",
       "0       00002322730    1  PillProjectDisc69/images/CLLLLUPGIX7J8MP1WWQ9W...   \n",
       "1       00002322730    1  PillProjectDisc98/images/PRNJ-AXZIQ!HUQKJJBP_D...   \n",
       "2       00002322730    1  PillProjectDisc10/images/79U-YY6M1UUR6F127ZMAC...   \n",
       "3       00002322730    1  PillProjectDisc11/images/7WVFV5H74!ELFNQ_GUH92...   \n",
       "4       00002322730    1  PillProjectDisc20/images/B4CH0R9B7PEQ6GORRX-8X...   \n",
       "...             ...  ...                                                ...   \n",
       "133769  99207046730    1  PillProjectDisc103/images/TY5OVXLLOXV6H4I1TDVT...   \n",
       "133770  99207046730    1  PillProjectDisc31/images/BEIR3XK38EMGSDOZTWMUK...   \n",
       "133771  99207046730    1  PillProjectDisc69/images/CLJ1W40OS0XG5H6IVYT!N...   \n",
       "133772  99207046730    1  PillProjectDisc77/images/CSUHWDZ!XAZSEJHDANMFR...   \n",
       "133773  99207046730    1  PillProjectDisc23/images/B7P0-2BHT7T88IHB4E1EE...   \n",
       "\n",
       "                             TYPE                DRUG  \n",
       "0                  C3PI_Reference      STRATTERA 10MG  \n",
       "1                  C3PI_Reference      STRATTERA 10MG  \n",
       "2                       C3PI_Test      STRATTERA 10MG  \n",
       "3                       C3PI_Test      STRATTERA 10MG  \n",
       "4                       C3PI_Test      STRATTERA 10MG  \n",
       "...                           ...                 ...  \n",
       "133769  MC_COOKED_CALIBRATED_V1.2  SOLODYN 105 MG TAB  \n",
       "133770  MC_COOKED_CALIBRATED_V1.2  SOLODYN 105 MG TAB  \n",
       "133771  MC_COOKED_CALIBRATED_V1.2  SOLODYN 105 MG TAB  \n",
       "133772  MC_COOKED_CALIBRATED_V1.2  SOLODYN 105 MG TAB  \n",
       "133773       MC_SPL_SPLIMAGE_V3.0  SOLODYN 105 MG TAB  \n",
       "\n",
       "[133774 rows x 5 columns]"
      ]
     },
     "execution_count": 8,
     "metadata": {},
     "output_type": "execute_result"
    }
   ],
   "source": [
    "typdict = {'NDC':'str'}\n",
    "df = pd.read_csv('../../data/directory_of_images.txt',sep='|', dtype=typdict, names=['NDC','IDK','FILE','TYPE','DRUG'])\n",
    "df"
   ]
  },
  {
   "cell_type": "code",
   "execution_count": 7,
   "metadata": {},
   "outputs": [
    {
     "data": {
      "text/plain": [
       "NORTREL      138\n",
       "TRILEGEST    138\n",
       "AMRIX        134\n",
       "TRIVORA      132\n",
       "AMARYL       115\n",
       "BALZIVA      113\n",
       "NATAZIA      112\n",
       "MIRCETTE     108\n",
       "DYAZIDE       99\n",
       "COMBIVIR      95\n",
       "LANOXIN       95\n",
       "Name: DRUG, dtype: int64"
      ]
     },
     "execution_count": 7,
     "metadata": {},
     "output_type": "execute_result"
    }
   ],
   "source": [
    "df.DRUG.value_counts()"
   ]
  },
  {
   "cell_type": "code",
   "execution_count": 71,
   "metadata": {},
   "outputs": [
    {
     "name": "stdout",
     "output_type": "stream",
     "text": [
      "Folders already made\n"
     ]
    }
   ],
   "source": [
    "new_dir        = '../../Data/split/'\n",
    "\n",
    "train_folder = os.path.join(new_dir, 'train')\n",
    "test_folder = os.path.join(new_dir, 'test')\n",
    "val_folder = os.path.join(new_dir, 'validation')\n",
    "\n",
    "try:\n",
    "    os.mkdir(new_dir)\n",
    "    os.mkdir(train_folder)\n",
    "    os.mkdir(test_folder)\n",
    "    os.mkdir(val_folder)\n",
    "except:\n",
    "    print('Folders already made')"
   ]
  },
  {
   "cell_type": "code",
   "execution_count": null,
   "metadata": {},
   "outputs": [],
   "source": []
  },
  {
   "cell_type": "markdown",
   "metadata": {},
   "source": [
    "### Trilegest"
   ]
  },
  {
   "cell_type": "code",
   "execution_count": 91,
   "metadata": {},
   "outputs": [
    {
     "name": "stdout",
     "output_type": "stream",
     "text": [
      "Folders already made\n"
     ]
    }
   ],
   "source": [
    "trilegest_dir  = '../../data/pills_jpg/trilegest'\n",
    "train_trilegest = os.path.join(train_folder, 'TRI-LEGEST')\n",
    "test_trilegest = os.path.join(test_folder, 'TRI-LEGEST')\n",
    "val_trilegest = os.path.join(val_folder, 'TRI-LEGEST')\n",
    "try:\n",
    "    os.mkdir(train_trilegest)\n",
    "    os.mkdir(test_trilegest)\n",
    "    os.mkdir(val_trilegest)\n",
    "except:\n",
    "    print('Folders already made')\n",
    "imgs_trilegest = os.listdir(trilegest_dir)"
   ]
  },
  {
   "cell_type": "code",
   "execution_count": 92,
   "metadata": {},
   "outputs": [],
   "source": [
    "# trilegest, nortel\n",
    "\n",
    "# train \n",
    "imgs = imgs_trilegest[:int(len(imgs_trilegest)*.75)]\n",
    "for img in imgs:\n",
    "    origin = os.path.join(trilegest_dir, img)\n",
    "    destination = os.path.join(train_trilegest, img)\n",
    "    try:\n",
    "        shutil.copyfile(origin, destination)\n",
    "    except:\n",
    "        continue\n",
    "\n",
    "# validation \n",
    "imgs = imgs_trilegest[int(len(imgs_trilegest)*.75):int(len(imgs_trilegest)*.95)]\n",
    "for img in imgs:\n",
    "    origin = os.path.join(trilegest_dir, img)\n",
    "    destination = os.path.join(val_trilegest, img)\n",
    "    try:\n",
    "        shutil.copyfile(origin, destination)\n",
    "    except:\n",
    "        continue\n",
    "\n",
    "# test \n",
    "imgs = imgs_trilegest[int(len(imgs_trilegest)*.95):]\n",
    "for img in imgs:\n",
    "    origin = os.path.join(trilegest_dir, img)\n",
    "    destination = os.path.join(test_trilegest, img)\n",
    "    try:\n",
    "        shutil.copyfile(origin, destination)\n",
    "    except:\n",
    "        continue"
   ]
  },
  {
   "cell_type": "markdown",
   "metadata": {},
   "source": [
    "### Nortrel"
   ]
  },
  {
   "cell_type": "code",
   "execution_count": 87,
   "metadata": {},
   "outputs": [
    {
     "name": "stdout",
     "output_type": "stream",
     "text": [
      "Folders already made\n"
     ]
    }
   ],
   "source": [
    "nortrel_dir    = '../../Data/pills_jpg/nortrel'\n",
    "train_nortrel = os.path.join(train_folder, 'NORTREL')\n",
    "test_nortrel = os.path.join(test_folder, 'NORTREL')\n",
    "val_nortrel = os.path.join(val_folder, 'NORTREL')\n",
    "try:\n",
    "    os.mkdir(train_nortrel)\n",
    "    os.mkdir(test_nortrel)\n",
    "    os.mkdir(val_nortrel)\n",
    "except:\n",
    "    print('Folders already made')\n",
    "imgs_nortrel   =os.listdir(nortrel_dir)"
   ]
  },
  {
   "cell_type": "code",
   "execution_count": 89,
   "metadata": {},
   "outputs": [],
   "source": [
    "# amrix - trivora?!\n",
    "\n",
    "# # train \n",
    "# imgs = imgs_nortrel[:int(len(imgs_nortrel)*.75)]\n",
    "# for img in imgs:\n",
    "#     origin = os.path.join(nortrel_dir, img)\n",
    "#     destination = os.path.join(train_nortrel, img)\n",
    "#     try:\n",
    "#         shutil.copyfile(origin, destination)\n",
    "#     except:\n",
    "#         continue\n",
    "\n",
    "# validation \n",
    "imgs = imgs_nortrel[int(len(imgs_nortrel)*.75):int(len(imgs_nortrel)*.95)]\n",
    "for img in imgs:\n",
    "    origin = os.path.join(nortrel_dir, img)\n",
    "    destination = os.path.join(val_nortrel, img)\n",
    "    #try:\n",
    "    shutil.copyfile(origin, \n",
    "                    destination)\n",
    "    #except:\n",
    "   #     continue"
   ]
  },
  {
   "cell_type": "code",
   "execution_count": 59,
   "metadata": {},
   "outputs": [],
   "source": [
    "# test \n",
    "imgs = imgs_nortrel[int(len(imgs_nortrel)*.95):]\n",
    "for img in imgs:\n",
    "    origin = os.path.join(nortrel_dir, img)\n",
    "    destination = os.path.join(test_nortrel, img)\n",
    "    try:\n",
    "        shutil.copyfile(origin, destination)\n",
    "    except:\n",
    "        continue"
   ]
  },
  {
   "cell_type": "code",
   "execution_count": 82,
   "metadata": {},
   "outputs": [
    {
     "name": "stdout",
     "output_type": "stream",
     "text": [
      "../../Data/split/validation/NORTREL\n"
     ]
    }
   ],
   "source": [
    "print(val_nortrel)"
   ]
  },
  {
   "cell_type": "code",
   "execution_count": 85,
   "metadata": {},
   "outputs": [
    {
     "data": {
      "text/plain": [
       "('../../Data/pills_jpg/nortrel/BFB7JN2EC8X838D6MXRQ_MF5I!8U2GK.JPG',\n",
       " '../../Data/split/validation/NORTREL/BFB7JN2EC8X838D6MXRQ_MF5I!8U2GK.JPG')"
      ]
     },
     "execution_count": 85,
     "metadata": {},
     "output_type": "execute_result"
    }
   ],
   "source": [
    "origin,destination"
   ]
  },
  {
   "cell_type": "markdown",
   "metadata": {},
   "source": [
    "### Trivora"
   ]
  },
  {
   "cell_type": "code",
   "execution_count": 46,
   "metadata": {},
   "outputs": [
    {
     "name": "stdout",
     "output_type": "stream",
     "text": [
      "Folders already made\n"
     ]
    }
   ],
   "source": [
    "trivora_dir    = '../../Data/pills_jpg/trivora'\n",
    "train_trivora = os.path.join(train_folder, 'TRIVORA')\n",
    "test_trivora = os.path.join(test_folder, 'TRIVORA')\n",
    "val_trivora = os.path.join(val_folder, 'TRIVORA')\n",
    "try:\n",
    "    os.mkdir(train_trivora)\n",
    "    os.mkdir(test_trivora)\n",
    "    os.mkdir(val_trivora)\n",
    "except:\n",
    "    print('Folders already made')\n",
    "imgs_trivora   = os.listdir(trivora_dir)"
   ]
  },
  {
   "cell_type": "code",
   "execution_count": 47,
   "metadata": {},
   "outputs": [],
   "source": [
    "# train \n",
    "imgs = imgs_trivora[:int(len(imgs_trivora)*.75)]\n",
    "for img in imgs:\n",
    "    origin = os.path.join(trivora_dir, img)\n",
    "    destination = os.path.join(train_trivora, img)\n",
    "    try:\n",
    "        shutil.copyfile(origin, destination)\n",
    "    except:\n",
    "        continue\n",
    "\n",
    "# validation \n",
    "imgs = imgs_trivora[int(len(imgs_trivora)*.75):int(len(imgs_trivora)*.95)]\n",
    "for img in imgs:\n",
    "    origin = os.path.join(trivora_dir, img)\n",
    "    destination = os.path.join(val_trivora, img)\n",
    "    try:\n",
    "        shutil.copyfile(origin, destination)\n",
    "    except:\n",
    "        continue\n",
    "# test \n",
    "imgs = imgs_trivora[int(len(imgs_trivora)*.95):]\n",
    "for img in imgs:\n",
    "    origin = os.path.join(trivora_dir, img)\n",
    "    destination = os.path.join(test_trivora, img)\n",
    "    try:\n",
    "        shutil.copyfile(origin, destination)\n",
    "    except:\n",
    "        continue"
   ]
  },
  {
   "cell_type": "markdown",
   "metadata": {},
   "source": [
    "### Amrix"
   ]
  },
  {
   "cell_type": "code",
   "execution_count": 44,
   "metadata": {},
   "outputs": [
    {
     "name": "stdout",
     "output_type": "stream",
     "text": [
      "Folders already made\n"
     ]
    }
   ],
   "source": [
    "amrix_dir      = '../../Data/pills_jpg/amrix'\n",
    "train_amrix = os.path.join(train_folder, 'AMRIX')\n",
    "test_amrix = os.path.join(test_folder, 'AMRIX')\n",
    "val_amrix = os.path.join(val_folder, 'AMRIX')\n",
    "try:\n",
    "    os.mkdir(train_amrix)\n",
    "    os.mkdir(test_amrix)\n",
    "    os.mkdir(val_amrix)\n",
    "except:\n",
    "    print('Folders already made')\n",
    "imgs_amrix     = os.listdir(amrix_dir)"
   ]
  },
  {
   "cell_type": "code",
   "execution_count": 45,
   "metadata": {},
   "outputs": [],
   "source": [
    "# amrix - trivora?!\n",
    "\n",
    "# train \n",
    "imgs = imgs_amrix[:int(len(imgs_amrix)*.75)]\n",
    "for img in imgs:\n",
    "    origin = os.path.join(amrix_dir, img)\n",
    "    destination = os.path.join(train_amrix, img)\n",
    "    try:\n",
    "        shutil.copyfile(origin, destination)\n",
    "    except:\n",
    "        continue\n",
    "\n",
    "# validation \n",
    "imgs = imgs_amrix[int(len(imgs_amrix)*.75):int(len(imgs_amrix)*.95)]\n",
    "for img in imgs:\n",
    "    origin = os.path.join(amrix_dir, img)\n",
    "    destination = os.path.join(val_amrix, img)\n",
    "    try:\n",
    "        shutil.copyfile(origin, destination)\n",
    "    except:\n",
    "        continue\n",
    "# test \n",
    "imgs = imgs_amrix[int(len(imgs_amrix)*.95):]\n",
    "for img in imgs:\n",
    "    origin = os.path.join(amrix_dir, img)\n",
    "    destination = os.path.join(test_amrix, img)\n",
    "    try:\n",
    "        shutil.copyfile(origin, destination)\n",
    "    except:\n",
    "        continue"
   ]
  },
  {
   "cell_type": "markdown",
   "metadata": {},
   "source": [
    "### Amaryl"
   ]
  },
  {
   "cell_type": "code",
   "execution_count": 33,
   "metadata": {},
   "outputs": [
    {
     "name": "stdout",
     "output_type": "stream",
     "text": [
      "Folders already made\n"
     ]
    }
   ],
   "source": [
    "amaryl_dir     = '../../data/pills_jpg/amaryl'\n",
    "train_amaryl = os.path.join(train_folder, 'AMARYL')\n",
    "test_amaryl = os.path.join(test_folder, 'AMARYL')\n",
    "val_amaryl = os.path.join(val_folder, 'AMARYL')\n",
    "try:\n",
    "    os.mkdir(train_amaryl)\n",
    "    os.mkdir(test_amaryl)\n",
    "    os.mkdir(val_amaryl)\n",
    "except:\n",
    "    print('Folders already made')\n",
    "imgs_amaryl    = os.listdir(amaryl_dir)"
   ]
  },
  {
   "cell_type": "code",
   "execution_count": 34,
   "metadata": {},
   "outputs": [],
   "source": [
    "# train \n",
    "imgs = imgs_amaryl[:int(len(imgs_amaryl)*.75)]\n",
    "for img in imgs:\n",
    "    origin = os.path.join(amaryl_dir, img)\n",
    "    destination = os.path.join(train_amaryl, img)\n",
    "    try:\n",
    "        shutil.copyfile(origin, destination)\n",
    "    except:\n",
    "        continue\n",
    "\n",
    "# validation\n",
    "imgs = imgs_amaryl[int(len(imgs_amaryl)*.75):int(len(imgs_amaryl)*.95)]\n",
    "for img in imgs:\n",
    "    origin = os.path.join(amaryl_dir, img)\n",
    "    destination = os.path.join(val_amaryl, img)\n",
    "    try:\n",
    "        shutil.copyfile(origin, destination)\n",
    "    except:\n",
    "        continue\n",
    "\n",
    "# test\n",
    "imgs = imgs_amaryl[int(len(imgs_amaryl)*.95):]\n",
    "for img in imgs:\n",
    "    origin = os.path.join(amaryl_dir, img)\n",
    "    destination = os.path.join(test_amaryl, img)\n",
    "    try:\n",
    "        shutil.copyfile(origin, destination)\n",
    "    except:\n",
    "        continue"
   ]
  },
  {
   "cell_type": "markdown",
   "metadata": {},
   "source": [
    "### Balziva"
   ]
  },
  {
   "cell_type": "code",
   "execution_count": 19,
   "metadata": {},
   "outputs": [
    {
     "name": "stdout",
     "output_type": "stream",
     "text": [
      "Folders already made\n"
     ]
    }
   ],
   "source": [
    "balziva_dir    = 'data/pills_jpg/balziva'\n",
    "train_balziva = os.path.join(train_folder, 'BALZIVA')\n",
    "test_balziva = os.path.join(test_folder, 'BALZIVA')\n",
    "val_balziva = os.path.join(val_folder, 'BALZIVA')\n",
    "try:\n",
    "    os.mkdir(train_balziva)\n",
    "    os.mkdir(val_balziva)\n",
    "    os.mkdir(test_balziva)\n",
    "except:\n",
    "    print('Folders already made')\n",
    "imgs_balziva   = df.FILENAME[df.NDC == '00555903458'].tolist()"
   ]
  },
  {
   "cell_type": "code",
   "execution_count": 20,
   "metadata": {},
   "outputs": [],
   "source": [
    "# balziva\n",
    "\n",
    "# train \n",
    "imgs = imgs_balziva[:int(len(imgs_balziva)*.75)]\n",
    "for img in imgs:\n",
    "    origin = os.path.join(balziva_dir, img)\n",
    "    destination = os.path.join(train_balziva, img)\n",
    "    try:\n",
    "        shutil.copyfile(origin, destination)\n",
    "    except:\n",
    "        continue\n",
    "\n",
    "# validation \n",
    "imgs = imgs_balziva[int(len(imgs_balziva)*.75):int(len(imgs_balziva)*.95)]\n",
    "for img in imgs:\n",
    "    origin = os.path.join(balziva_dir, img)\n",
    "    destination = os.path.join(val_balziva, img)\n",
    "    try:\n",
    "        shutil.copyfile(origin, destination)\n",
    "    except:\n",
    "        continue\n",
    "\n",
    "# test \n",
    "imgs = imgs_balziva[int(len(imgs_balziva)*.95):]\n",
    "for img in imgs:\n",
    "    origin = os.path.join(balziva_dir, img)\n",
    "    destination = os.path.join(test_balziva, img)\n",
    "    try:\n",
    "        shutil.copyfile(origin, destination)\n",
    "    except:\n",
    "        continue"
   ]
  },
  {
   "cell_type": "markdown",
   "metadata": {},
   "source": [
    "### Natazia"
   ]
  },
  {
   "cell_type": "code",
   "execution_count": 21,
   "metadata": {},
   "outputs": [
    {
     "name": "stdout",
     "output_type": "stream",
     "text": [
      "Folders already made\n"
     ]
    }
   ],
   "source": [
    "natazia_dir    = 'data/pills_jpg/natazia'\n",
    "train_natazia = os.path.join(train_folder, 'NATAZIA')\n",
    "test_natazia = os.path.join(test_folder, 'NATAZIA')\n",
    "val_natazia = os.path.join(val_folder, 'NATAZIA')\n",
    "try:\n",
    "    os.mkdir(train_natazia)\n",
    "    os.mkdir(test_natazia)\n",
    "    os.mkdir(val_natazia)\n",
    "except:\n",
    "    print('Folders already made')\n",
    "imgs_natazia   = df.FILENAME[df.NDC == '50419040901'].tolist()"
   ]
  },
  {
   "cell_type": "code",
   "execution_count": 22,
   "metadata": {},
   "outputs": [],
   "source": [
    "# natazia\n",
    "\n",
    "# train natazia\n",
    "imgs = imgs_natazia[:int(len(imgs_natazia)*.75)]\n",
    "for img in imgs:\n",
    "    origin = os.path.join(natazia_dir, img)\n",
    "    destination = os.path.join(train_natazia, img)\n",
    "    try:\n",
    "        shutil.copyfile(origin, destination)\n",
    "    except:\n",
    "        continue\n",
    "\n",
    "# validation santa\n",
    "imgs = imgs_natazia[int(len(imgs_natazia)*.75):int(len(imgs_nortrel)*.95)]\n",
    "for img in imgs:\n",
    "    origin = os.path.join(natazia_dir, img)\n",
    "    destination = os.path.join(val_natazia, img)\n",
    "    try:\n",
    "        shutil.copyfile(origin, destination)\n",
    "    except:\n",
    "        continue\n",
    "\n",
    "# test santa\n",
    "imgs = imgs_natazia[int(len(imgs_natazia)*.95):]\n",
    "for img in imgs:\n",
    "    origin = os.path.join(natazia_dir, img)\n",
    "    destination = os.path.join(test_natazia, img)\n",
    "    try:\n",
    "        shutil.copyfile(origin, destination)\n",
    "    except:\n",
    "        continue"
   ]
  },
  {
   "cell_type": "markdown",
   "metadata": {},
   "source": [
    "### Mircette"
   ]
  },
  {
   "cell_type": "code",
   "execution_count": 23,
   "metadata": {},
   "outputs": [
    {
     "name": "stdout",
     "output_type": "stream",
     "text": [
      "Folders already made\n"
     ]
    }
   ],
   "source": [
    "mircette_dir   = 'data/pills_jpg/mircette'\n",
    "train_mircette = os.path.join(train_folder, 'MIRCETTE')\n",
    "test_mircette = os.path.join(test_folder, 'MIRCETTE')\n",
    "val_mircette = os.path.join(val_folder, 'MIRCETTE')\n",
    "try:\n",
    "    os.mkdir(train_mircette)\n",
    "    os.mkdir(test_mircette)\n",
    "    os.mkdir(val_mircette)\n",
    "except:\n",
    "    print('Folders already made')\n",
    "imgs_mircette  = df.FILENAME[df.NDC == '51285011458'].tolist()"
   ]
  },
  {
   "cell_type": "code",
   "execution_count": 24,
   "metadata": {},
   "outputs": [],
   "source": [
    "# mircette\n",
    "\n",
    "# train \n",
    "imgs = imgs_mircette[:int(len(imgs_mircette)*.75)]\n",
    "for img in imgs:\n",
    "    origin = os.path.join(mircette_dir, img)\n",
    "    destination = os.path.join(train_mircette, img)\n",
    "    try:\n",
    "        shutil.copyfile(origin, destination)\n",
    "    except:\n",
    "        continue\n",
    "\n",
    "# validation \n",
    "imgs = imgs_mircette[int(len(imgs_mircette)*.75):int(len(imgs_mircette)*.95)]\n",
    "for img in imgs:\n",
    "    origin = os.path.join(mircette_dir, img)\n",
    "    destination = os.path.join(val_mircette, img)\n",
    "    try:\n",
    "        shutil.copyfile(origin, destination)\n",
    "    except:\n",
    "        continue\n",
    "\n",
    "# test \n",
    "imgs = imgs_mircette[int(len(imgs_mircette)*.95):]\n",
    "for img in imgs:\n",
    "    origin = os.path.join(mircette_dir, img)\n",
    "    destination = os.path.join(test_mircette, img)\n",
    "    try:\n",
    "        shutil.copyfile(origin, destination)\n",
    "    except:\n",
    "        continue"
   ]
  },
  {
   "cell_type": "markdown",
   "metadata": {},
   "source": [
    "### Dyazide"
   ]
  },
  {
   "cell_type": "code",
   "execution_count": 25,
   "metadata": {},
   "outputs": [
    {
     "name": "stdout",
     "output_type": "stream",
     "text": [
      "Folders already made\n"
     ]
    }
   ],
   "source": [
    "dyazide_dir    = 'data/pills_jpg/dyazide'\n",
    "train_dyazide = os.path.join(train_folder, 'DYAZIDE')\n",
    "test_dyazide = os.path.join(test_folder, 'DYAZIDE')\n",
    "val_dyazide = os.path.join(val_folder, 'DYAZIDE')\n",
    "try:\n",
    "    os.mkdir(train_dyazide)\n",
    "    os.mkdir(test_dyazide)\n",
    "    os.mkdir(val_dyazide)\n",
    "except:\n",
    "    print('Folders already made')\n",
    "imgs_dyazide   = df.FILENAME[df.NDC == '00007365022'].tolist()"
   ]
  },
  {
   "cell_type": "code",
   "execution_count": 26,
   "metadata": {},
   "outputs": [],
   "source": [
    "# dyazide\n",
    "\n",
    "# train \n",
    "imgs = imgs_dyazide[:int(len(imgs_dyazide)*.75)]\n",
    "for img in imgs:\n",
    "    origin = os.path.join(dyazide_dir, img)\n",
    "    destination = os.path.join(train_dyazide, img)\n",
    "    try:\n",
    "        shutil.copyfile(origin, destination)\n",
    "    except:\n",
    "        continue\n",
    "\n",
    "# validation \n",
    "imgs = imgs_dyazide[int(len(imgs_dyazide)*.75):int(len(imgs_dyazide)*.95)]\n",
    "for img in imgs:\n",
    "    origin = os.path.join(dyazide_dir, img)\n",
    "    destination = os.path.join(val_dyazide, img)\n",
    "    try:\n",
    "        shutil.copyfile(origin, destination)\n",
    "    except:\n",
    "        continue\n",
    "\n",
    "# test \n",
    "imgs = imgs_dyazide[int(len(imgs_dyazide)*.95):]\n",
    "for img in imgs:\n",
    "    origin = os.path.join(dyazide_dir, img)\n",
    "    destination = os.path.join(test_dyazide, img)\n",
    "    try:\n",
    "        shutil.copyfile(origin, destination)\n",
    "    except:\n",
    "        continue"
   ]
  },
  {
   "cell_type": "markdown",
   "metadata": {},
   "source": [
    "### Lanoxin"
   ]
  },
  {
   "cell_type": "code",
   "execution_count": 42,
   "metadata": {},
   "outputs": [
    {
     "name": "stdout",
     "output_type": "stream",
     "text": [
      "Folders already made\n"
     ]
    }
   ],
   "source": [
    "lanoxin_dir = '../../Data/pills_jpg/lanoxin'\n",
    "train_lanoxin = os.path.join(train_folder, 'LANOXIN')\n",
    "test_lanoxin = os.path.join(test_folder, 'LANOXIN')\n",
    "val_lanoxin = os.path.join(val_folder, 'LANOXIN')\n",
    "try:\n",
    "    os.mkdir(train_lanoxin)\n",
    "    os.mkdir(test_lanoxin)\n",
    "    os.mkdir(val_lanoxin)\n",
    "except:\n",
    "    print('Folders already made')\n",
    "imgs_lanoxin   = os.listdir(lanoxin_dir)"
   ]
  },
  {
   "cell_type": "code",
   "execution_count": 43,
   "metadata": {},
   "outputs": [],
   "source": [
    "# lanoxin\n",
    "\n",
    "# train \n",
    "imgs = imgs_lanoxin[:int(len(imgs_lanoxin)*.75)]\n",
    "for img in imgs:\n",
    "    origin = os.path.join(lanoxin_dir, img)\n",
    "    destination = os.path.join(train_lanoxin, img)\n",
    "    try:\n",
    "        shutil.copyfile(origin, destination)\n",
    "    except:\n",
    "        continue\n",
    "\n",
    "# validation \n",
    "imgs = imgs_lanoxin[int(len(imgs_lanoxin)*.75):int(len(imgs_lanoxin)*.95)]\n",
    "for img in imgs:\n",
    "    origin = os.path.join(lanoxin_dir, img)\n",
    "    destination = os.path.join(val_lanoxin, img)\n",
    "    try:\n",
    "        shutil.copyfile(origin, destination)\n",
    "    except:\n",
    "        continue\n",
    "\n",
    "# test \n",
    "imgs = imgs_lanoxin[int(len(imgs_lanoxin)*.95):]\n",
    "for img in imgs:\n",
    "    origin = os.path.join(lanoxin_dir, img)\n",
    "    destination = os.path.join(test_lanoxin, img)\n",
    "    try:\n",
    "        shutil.copyfile(origin, destination)\n",
    "    except:\n",
    "        continue"
   ]
  },
  {
   "cell_type": "markdown",
   "metadata": {},
   "source": [
    "### Combivir"
   ]
  },
  {
   "cell_type": "code",
   "execution_count": 37,
   "metadata": {},
   "outputs": [
    {
     "name": "stdout",
     "output_type": "stream",
     "text": [
      "Folders already made\n"
     ]
    }
   ],
   "source": [
    "combivir_dir    = '../../data/pills_jpg/combivir'\n",
    "train_combivir = os.path.join(train_folder, 'COMBIVIR')\n",
    "test_combivir = os.path.join(test_folder, 'COMBIVIR')\n",
    "val_combivir = os.path.join(val_folder, 'COMBIVIR')\n",
    "try:\n",
    "    os.mkdir(train_combivir)\n",
    "    os.mkdir(test_combivir)\n",
    "    os.mkdir(val_combivir)\n",
    "except:\n",
    "    print('Folders already made')\n",
    "imgs_combivir  = os.listdir(combivir_dir)"
   ]
  },
  {
   "cell_type": "code",
   "execution_count": 38,
   "metadata": {},
   "outputs": [],
   "source": [
    "# train\n",
    "imgs = imgs_combivir[:int(len(imgs_combivir)*.75)]\n",
    "for img in imgs:\n",
    "    origin = os.path.join(combivir_dir, img)\n",
    "    destination = os.path.join(train_combivir, img)\n",
    "    try:\n",
    "        shutil.copyfile(origin, destination)\n",
    "    except:\n",
    "        continue\n",
    "\n",
    "# validation \n",
    "imgs = imgs_combivir[int(len(imgs_combivir)*.75):int(len(imgs_combivir)*.95)]\n",
    "for img in imgs:\n",
    "    origin = os.path.join(combivir_dir, img)\n",
    "    destination = os.path.join(val_combivir, img)\n",
    "    try:\n",
    "        shutil.copyfile(origin, destination)\n",
    "    except:\n",
    "        continue\n",
    "\n",
    "# test \n",
    "imgs = imgs_combivir[int(len(imgs_combivir)*.95):]\n",
    "for img in imgs:\n",
    "    origin = os.path.join(combivir_dir, img)\n",
    "    destination = os.path.join(test_combivir, img)\n",
    "    try:\n",
    "        shutil.copyfile(origin, destination)\n",
    "    except:\n",
    "        continue"
   ]
  },
  {
   "cell_type": "code",
   "execution_count": null,
   "metadata": {},
   "outputs": [],
   "source": []
  }
 ],
 "metadata": {
  "kernelspec": {
   "display_name": "Python 3",
   "language": "python",
   "name": "python3"
  },
  "language_info": {
   "codemirror_mode": {
    "name": "ipython",
    "version": 3
   },
   "file_extension": ".py",
   "mimetype": "text/x-python",
   "name": "python",
   "nbconvert_exporter": "python",
   "pygments_lexer": "ipython3",
   "version": "3.7.7"
  }
 },
 "nbformat": 4,
 "nbformat_minor": 4
}
