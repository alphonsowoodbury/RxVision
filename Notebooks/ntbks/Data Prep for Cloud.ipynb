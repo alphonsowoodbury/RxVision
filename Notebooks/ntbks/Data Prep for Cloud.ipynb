{
 "cells": [
  {
   "cell_type": "markdown",
   "metadata": {},
   "source": [
    "# Select Data"
   ]
  },
  {
   "cell_type": "code",
   "execution_count": 2,
   "metadata": {},
   "outputs": [],
   "source": [
    "import pandas as pd\n",
    "import requests\n",
    "from IPython.display import Image\n",
    "import time\n",
    "from ftplib import FTP"
   ]
  },
  {
   "cell_type": "code",
   "execution_count": 3,
   "metadata": {},
   "outputs": [
    {
     "data": {
      "text/plain": [
       "'/Users/alphonsowoodbury/Projects/Computer_Vision-Medication_Identification/Notebooks'"
      ]
     },
     "execution_count": 3,
     "metadata": {},
     "output_type": "execute_result"
    }
   ],
   "source": [
    "%pwd"
   ]
  },
  {
   "cell_type": "code",
   "execution_count": 5,
   "metadata": {},
   "outputs": [
    {
     "data": {
      "text/html": [
       "<div>\n",
       "<style scoped>\n",
       "    .dataframe tbody tr th:only-of-type {\n",
       "        vertical-align: middle;\n",
       "    }\n",
       "\n",
       "    .dataframe tbody tr th {\n",
       "        vertical-align: top;\n",
       "    }\n",
       "\n",
       "    .dataframe thead th {\n",
       "        text-align: right;\n",
       "    }\n",
       "</style>\n",
       "<table border=\"1\" class=\"dataframe\">\n",
       "  <thead>\n",
       "    <tr style=\"text-align: right;\">\n",
       "      <th></th>\n",
       "      <th>NDC</th>\n",
       "      <th>IDK</th>\n",
       "      <th>FILE</th>\n",
       "      <th>TYPE</th>\n",
       "      <th>DRUG</th>\n",
       "    </tr>\n",
       "  </thead>\n",
       "  <tbody>\n",
       "    <tr>\n",
       "      <th>0</th>\n",
       "      <td>00002322730</td>\n",
       "      <td>1</td>\n",
       "      <td>PillProjectDisc69/images/CLLLLUPGIX7J8MP1WWQ9W...</td>\n",
       "      <td>C3PI_Reference</td>\n",
       "      <td>STRATTERA 10MG</td>\n",
       "    </tr>\n",
       "    <tr>\n",
       "      <th>1</th>\n",
       "      <td>00002322730</td>\n",
       "      <td>1</td>\n",
       "      <td>PillProjectDisc98/images/PRNJ-AXZIQ!HUQKJJBP_D...</td>\n",
       "      <td>C3PI_Reference</td>\n",
       "      <td>STRATTERA 10MG</td>\n",
       "    </tr>\n",
       "    <tr>\n",
       "      <th>2</th>\n",
       "      <td>00002322730</td>\n",
       "      <td>1</td>\n",
       "      <td>PillProjectDisc10/images/79U-YY6M1UUR6F127ZMAC...</td>\n",
       "      <td>C3PI_Test</td>\n",
       "      <td>STRATTERA 10MG</td>\n",
       "    </tr>\n",
       "    <tr>\n",
       "      <th>3</th>\n",
       "      <td>00002322730</td>\n",
       "      <td>1</td>\n",
       "      <td>PillProjectDisc11/images/7WVFV5H74!ELFNQ_GUH92...</td>\n",
       "      <td>C3PI_Test</td>\n",
       "      <td>STRATTERA 10MG</td>\n",
       "    </tr>\n",
       "    <tr>\n",
       "      <th>4</th>\n",
       "      <td>00002322730</td>\n",
       "      <td>1</td>\n",
       "      <td>PillProjectDisc20/images/B4CH0R9B7PEQ6GORRX-8X...</td>\n",
       "      <td>C3PI_Test</td>\n",
       "      <td>STRATTERA 10MG</td>\n",
       "    </tr>\n",
       "    <tr>\n",
       "      <th>...</th>\n",
       "      <td>...</td>\n",
       "      <td>...</td>\n",
       "      <td>...</td>\n",
       "      <td>...</td>\n",
       "      <td>...</td>\n",
       "    </tr>\n",
       "    <tr>\n",
       "      <th>133769</th>\n",
       "      <td>99207046730</td>\n",
       "      <td>1</td>\n",
       "      <td>PillProjectDisc103/images/TY5OVXLLOXV6H4I1TDVT...</td>\n",
       "      <td>MC_COOKED_CALIBRATED_V1.2</td>\n",
       "      <td>SOLODYN 105 MG TAB</td>\n",
       "    </tr>\n",
       "    <tr>\n",
       "      <th>133770</th>\n",
       "      <td>99207046730</td>\n",
       "      <td>1</td>\n",
       "      <td>PillProjectDisc31/images/BEIR3XK38EMGSDOZTWMUK...</td>\n",
       "      <td>MC_COOKED_CALIBRATED_V1.2</td>\n",
       "      <td>SOLODYN 105 MG TAB</td>\n",
       "    </tr>\n",
       "    <tr>\n",
       "      <th>133771</th>\n",
       "      <td>99207046730</td>\n",
       "      <td>1</td>\n",
       "      <td>PillProjectDisc69/images/CLJ1W40OS0XG5H6IVYT!N...</td>\n",
       "      <td>MC_COOKED_CALIBRATED_V1.2</td>\n",
       "      <td>SOLODYN 105 MG TAB</td>\n",
       "    </tr>\n",
       "    <tr>\n",
       "      <th>133772</th>\n",
       "      <td>99207046730</td>\n",
       "      <td>1</td>\n",
       "      <td>PillProjectDisc77/images/CSUHWDZ!XAZSEJHDANMFR...</td>\n",
       "      <td>MC_COOKED_CALIBRATED_V1.2</td>\n",
       "      <td>SOLODYN 105 MG TAB</td>\n",
       "    </tr>\n",
       "    <tr>\n",
       "      <th>133773</th>\n",
       "      <td>99207046730</td>\n",
       "      <td>1</td>\n",
       "      <td>PillProjectDisc23/images/B7P0-2BHT7T88IHB4E1EE...</td>\n",
       "      <td>MC_SPL_SPLIMAGE_V3.0</td>\n",
       "      <td>SOLODYN 105 MG TAB</td>\n",
       "    </tr>\n",
       "  </tbody>\n",
       "</table>\n",
       "<p>133774 rows × 5 columns</p>\n",
       "</div>"
      ],
      "text/plain": [
       "                NDC  IDK                                               FILE  \\\n",
       "0       00002322730    1  PillProjectDisc69/images/CLLLLUPGIX7J8MP1WWQ9W...   \n",
       "1       00002322730    1  PillProjectDisc98/images/PRNJ-AXZIQ!HUQKJJBP_D...   \n",
       "2       00002322730    1  PillProjectDisc10/images/79U-YY6M1UUR6F127ZMAC...   \n",
       "3       00002322730    1  PillProjectDisc11/images/7WVFV5H74!ELFNQ_GUH92...   \n",
       "4       00002322730    1  PillProjectDisc20/images/B4CH0R9B7PEQ6GORRX-8X...   \n",
       "...             ...  ...                                                ...   \n",
       "133769  99207046730    1  PillProjectDisc103/images/TY5OVXLLOXV6H4I1TDVT...   \n",
       "133770  99207046730    1  PillProjectDisc31/images/BEIR3XK38EMGSDOZTWMUK...   \n",
       "133771  99207046730    1  PillProjectDisc69/images/CLJ1W40OS0XG5H6IVYT!N...   \n",
       "133772  99207046730    1  PillProjectDisc77/images/CSUHWDZ!XAZSEJHDANMFR...   \n",
       "133773  99207046730    1  PillProjectDisc23/images/B7P0-2BHT7T88IHB4E1EE...   \n",
       "\n",
       "                             TYPE                DRUG  \n",
       "0                  C3PI_Reference      STRATTERA 10MG  \n",
       "1                  C3PI_Reference      STRATTERA 10MG  \n",
       "2                       C3PI_Test      STRATTERA 10MG  \n",
       "3                       C3PI_Test      STRATTERA 10MG  \n",
       "4                       C3PI_Test      STRATTERA 10MG  \n",
       "...                           ...                 ...  \n",
       "133769  MC_COOKED_CALIBRATED_V1.2  SOLODYN 105 MG TAB  \n",
       "133770  MC_COOKED_CALIBRATED_V1.2  SOLODYN 105 MG TAB  \n",
       "133771  MC_COOKED_CALIBRATED_V1.2  SOLODYN 105 MG TAB  \n",
       "133772  MC_COOKED_CALIBRATED_V1.2  SOLODYN 105 MG TAB  \n",
       "133773       MC_SPL_SPLIMAGE_V3.0  SOLODYN 105 MG TAB  \n",
       "\n",
       "[133774 rows x 5 columns]"
      ]
     },
     "execution_count": 5,
     "metadata": {},
     "output_type": "execute_result"
    }
   ],
   "source": [
    "typdict = {'NDC':'str'}\n",
    "pills = pd.read_csv('../Data/images/directory_of_images.txt',sep='|', dtype=typdict, names=['NDC','IDK','FILE','TYPE','DRUG'])\n",
    "pills = pills.dropna()\n",
    "pills.DRUG = pills.DRUG.str.upper()\n",
    "pills"
   ]
  },
  {
   "cell_type": "code",
   "execution_count": 38,
   "metadata": {},
   "outputs": [
    {
     "data": {
      "text/plain": [
       "C3PI_Test                     43544\n",
       "MC_C3PI_REFERENCE_SEG_V1.6    41330\n",
       "MC_COOKED_CALIBRATED_V1.2     20034\n",
       "C3PI_Reference                10334\n",
       "MC_API_RXNAV_V1.3              4708\n",
       "MC_API_NLMIMAGE_V1.3           4708\n",
       "MC_SPL_SPLIMAGE_V3.0           4708\n",
       "MC_CHALLENGE_V1.0              4408\n",
       "Name: TYPE, dtype: int64"
      ]
     },
     "execution_count": 38,
     "metadata": {},
     "output_type": "execute_result"
    }
   ],
   "source": [
    "pills.TYPE.value_counts()"
   ]
  },
  {
   "cell_type": "code",
   "execution_count": 39,
   "metadata": {},
   "outputs": [
    {
     "data": {
      "text/plain": [
       "1    130823\n",
       "2      2034\n",
       "3       555\n",
       "4       343\n",
       "5        19\n",
       "Name: IDK, dtype: int64"
      ]
     },
     "execution_count": 39,
     "metadata": {},
     "output_type": "execute_result"
    }
   ],
   "source": [
    "pills.IDK.value_counts()"
   ]
  },
  {
   "cell_type": "code",
   "execution_count": 40,
   "metadata": {},
   "outputs": [
    {
     "data": {
      "text/plain": [
       "LEVOTHYROXINE SODIUM            776\n",
       "LISINOPRIL TABLETS USP          494\n",
       "SIMVASTATIN                     444\n",
       "WARFARIN SODIUM                 434\n",
       "WARFARIN SODIUM TABLETS, USP    434\n",
       "                               ... \n",
       "DYNACIRC CR TAB 5MG              12\n",
       "LEVITRA 20MG TABLETS             12\n",
       "LAMICTAL 150MG TAB               12\n",
       "LAMICTAL 100MG TAB               12\n",
       "LOVAZA CAP 1GM                   12\n",
       "Name: DRUG, Length: 2840, dtype: int64"
      ]
     },
     "execution_count": 40,
     "metadata": {},
     "output_type": "execute_result"
    }
   ],
   "source": [
    "pills.DRUG.value_counts()"
   ]
  },
  {
   "cell_type": "code",
   "execution_count": 41,
   "metadata": {},
   "outputs": [
    {
     "data": {
      "text/plain": [
       "2840"
      ]
     },
     "execution_count": 41,
     "metadata": {},
     "output_type": "execute_result"
    }
   ],
   "source": [
    "pills.DRUG.nunique()"
   ]
  },
  {
   "cell_type": "code",
   "execution_count": 42,
   "metadata": {},
   "outputs": [
    {
     "data": {
      "text/plain": [
       "4864"
      ]
     },
     "execution_count": 42,
     "metadata": {},
     "output_type": "execute_result"
    }
   ],
   "source": [
    "pills.NDC.nunique()"
   ]
  },
  {
   "cell_type": "code",
   "execution_count": 6,
   "metadata": {},
   "outputs": [
    {
     "data": {
      "text/plain": [
       "(10,\n",
       " 00555901258    142\n",
       " 00555903270    142\n",
       " 63459070160    136\n",
       " 52544029128    136\n",
       " 00039022310    117\n",
       " 00555903458    116\n",
       " 50419040901    113\n",
       " 51285011458    111\n",
       " 00007365022    103\n",
       " 00173024255     99\n",
       " Name: NDC, dtype: int64)"
      ]
     },
     "execution_count": 6,
     "metadata": {},
     "output_type": "execute_result"
    }
   ],
   "source": [
    "top10 = pills.NDC.value_counts()[:10]\n",
    "len(top10),top10"
   ]
  },
  {
   "cell_type": "code",
   "execution_count": 8,
   "metadata": {},
   "outputs": [],
   "source": [
    "top10NDC = top10.index.tolist()"
   ]
  },
  {
   "cell_type": "code",
   "execution_count": 9,
   "metadata": {},
   "outputs": [
    {
     "data": {
      "text/plain": [
       "TRI-LEGEST FE              142\n",
       "NORTEL 7/7/7               142\n",
       "TRIVORA TAB                136\n",
       "AMARYL 4MG TABLETS         117\n",
       "NATAZIA                    113\n",
       "MIRCETTE                   111\n",
       "AMRIX CAP 30MG             101\n",
       "BALZIVA                     66\n",
       "LANOXIN TABLETS, USP        55\n",
       "DYAZIDE CAPS                52\n",
       "DYAZIDE                     51\n",
       "BALZIVA TAB                 50\n",
       "LANOXIN 0.125MG TABLETS     44\n",
       "AMRIX                       35\n",
       "Name: DRUG, dtype: int64"
      ]
     },
     "execution_count": 9,
     "metadata": {},
     "output_type": "execute_result"
    }
   ],
   "source": [
    "df = pills[pills.NDC.isin(top10NDC)]\n",
    "df.DRUG.value_counts()"
   ]
  },
  {
   "cell_type": "code",
   "execution_count": 58,
   "metadata": {},
   "outputs": [
    {
     "data": {
      "text/plain": [
       "LANOXIN TABLETS, USP       55\n",
       "LANOXIN 0.125MG TABLETS    44\n",
       "Name: DRUG, dtype: int64"
      ]
     },
     "execution_count": 58,
     "metadata": {},
     "output_type": "execute_result"
    }
   ],
   "source": [
    "df.DRUG[df.NDC == top10NDC[9]].value_counts()"
   ]
  },
  {
   "cell_type": "code",
   "execution_count": 59,
   "metadata": {},
   "outputs": [
    {
     "name": "stderr",
     "output_type": "stream",
     "text": [
      "/Users/alphonsowoodbury/.conda/envs/aw0520/lib/python3.7/site-packages/ipykernel_launcher.py:1: SettingWithCopyWarning: \n",
      "A value is trying to be set on a copy of a slice from a DataFrame\n",
      "\n",
      "See the caveats in the documentation: https://pandas.pydata.org/pandas-docs/stable/user_guide/indexing.html#returning-a-view-versus-a-copy\n",
      "  \"\"\"Entry point for launching an IPython kernel.\n",
      "/Users/alphonsowoodbury/.conda/envs/aw0520/lib/python3.7/site-packages/pandas/core/generic.py:8765: SettingWithCopyWarning: \n",
      "A value is trying to be set on a copy of a slice from a DataFrame\n",
      "\n",
      "See the caveats in the documentation: https://pandas.pydata.org/pandas-docs/stable/user_guide/indexing.html#returning-a-view-versus-a-copy\n",
      "  self._update_inplace(new_data)\n",
      "/Users/alphonsowoodbury/.conda/envs/aw0520/lib/python3.7/site-packages/ipykernel_launcher.py:3: SettingWithCopyWarning: \n",
      "A value is trying to be set on a copy of a slice from a DataFrame\n",
      "\n",
      "See the caveats in the documentation: https://pandas.pydata.org/pandas-docs/stable/user_guide/indexing.html#returning-a-view-versus-a-copy\n",
      "  This is separate from the ipykernel package so we can avoid doing imports until\n",
      "/Users/alphonsowoodbury/.conda/envs/aw0520/lib/python3.7/site-packages/ipykernel_launcher.py:5: SettingWithCopyWarning: \n",
      "A value is trying to be set on a copy of a slice from a DataFrame\n",
      "\n",
      "See the caveats in the documentation: https://pandas.pydata.org/pandas-docs/stable/user_guide/indexing.html#returning-a-view-versus-a-copy\n",
      "  \"\"\"\n",
      "/Users/alphonsowoodbury/.conda/envs/aw0520/lib/python3.7/site-packages/ipykernel_launcher.py:7: SettingWithCopyWarning: \n",
      "A value is trying to be set on a copy of a slice from a DataFrame\n",
      "\n",
      "See the caveats in the documentation: https://pandas.pydata.org/pandas-docs/stable/user_guide/indexing.html#returning-a-view-versus-a-copy\n",
      "  import sys\n",
      "/Users/alphonsowoodbury/.conda/envs/aw0520/lib/python3.7/site-packages/ipykernel_launcher.py:9: SettingWithCopyWarning: \n",
      "A value is trying to be set on a copy of a slice from a DataFrame\n",
      "\n",
      "See the caveats in the documentation: https://pandas.pydata.org/pandas-docs/stable/user_guide/indexing.html#returning-a-view-versus-a-copy\n",
      "  if __name__ == '__main__':\n",
      "/Users/alphonsowoodbury/.conda/envs/aw0520/lib/python3.7/site-packages/ipykernel_launcher.py:11: SettingWithCopyWarning: \n",
      "A value is trying to be set on a copy of a slice from a DataFrame\n",
      "\n",
      "See the caveats in the documentation: https://pandas.pydata.org/pandas-docs/stable/user_guide/indexing.html#returning-a-view-versus-a-copy\n",
      "  # This is added back by InteractiveShellApp.init_path()\n",
      "/Users/alphonsowoodbury/.conda/envs/aw0520/lib/python3.7/site-packages/ipykernel_launcher.py:13: SettingWithCopyWarning: \n",
      "A value is trying to be set on a copy of a slice from a DataFrame\n",
      "\n",
      "See the caveats in the documentation: https://pandas.pydata.org/pandas-docs/stable/user_guide/indexing.html#returning-a-view-versus-a-copy\n",
      "  del sys.path[0]\n",
      "/Users/alphonsowoodbury/.conda/envs/aw0520/lib/python3.7/site-packages/ipykernel_launcher.py:15: SettingWithCopyWarning: \n",
      "A value is trying to be set on a copy of a slice from a DataFrame\n",
      "\n",
      "See the caveats in the documentation: https://pandas.pydata.org/pandas-docs/stable/user_guide/indexing.html#returning-a-view-versus-a-copy\n",
      "  from ipykernel import kernelapp as app\n",
      "/Users/alphonsowoodbury/.conda/envs/aw0520/lib/python3.7/site-packages/ipykernel_launcher.py:17: SettingWithCopyWarning: \n",
      "A value is trying to be set on a copy of a slice from a DataFrame\n",
      "\n",
      "See the caveats in the documentation: https://pandas.pydata.org/pandas-docs/stable/user_guide/indexing.html#returning-a-view-versus-a-copy\n",
      "/Users/alphonsowoodbury/.conda/envs/aw0520/lib/python3.7/site-packages/ipykernel_launcher.py:19: SettingWithCopyWarning: \n",
      "A value is trying to be set on a copy of a slice from a DataFrame\n",
      "\n",
      "See the caveats in the documentation: https://pandas.pydata.org/pandas-docs/stable/user_guide/indexing.html#returning-a-view-versus-a-copy\n"
     ]
    }
   ],
   "source": [
    "df.DRUG[df.NDC == top10NDC[0]] = 'TRI-LEGEST'\n",
    "\n",
    "df.DRUG[df.NDC == top10NDC[1]] = 'NORTEL'\n",
    "\n",
    "df.DRUG[df.NDC == top10NDC[2]] = 'TRIVORA'\n",
    "\n",
    "df.DRUG[df.NDC == top10NDC[3]] = 'AMRIX'\n",
    "\n",
    "df.DRUG[df.NDC == top10NDC[4]] = 'AMARYL'\n",
    "\n",
    "df.DRUG[df.NDC == top10NDC[5]] = 'BALZIVA'\n",
    "\n",
    "df.DRUG[df.NDC == top10NDC[6]] = 'NATAZIA'\n",
    "\n",
    "df.DRUG[df.NDC == top10NDC[7]] = 'MIRCETTE'\n",
    "\n",
    "df.DRUG[df.NDC == top10NDC[8]] = 'DYAZIDE'\n",
    "\n",
    "df.DRUG[df.NDC == top10NDC[9]] = 'LANOXIN'"
   ]
  },
  {
   "cell_type": "code",
   "execution_count": 67,
   "metadata": {},
   "outputs": [
    {
     "data": {
      "text/plain": [
       "TRI-LEGEST    142\n",
       "NORTEL        142\n",
       "AMRIX         136\n",
       "TRIVORA       136\n",
       "AMARYL        117\n",
       "BALZIVA       116\n",
       "NATAZIA       113\n",
       "MIRCETTE      111\n",
       "DYAZIDE       103\n",
       "LANOXIN        99\n",
       "Name: DRUG, dtype: int64"
      ]
     },
     "execution_count": 67,
     "metadata": {},
     "output_type": "execute_result"
    }
   ],
   "source": [
    "df.DRUG.value_counts()#.plot(kind='bar')"
   ]
  },
  {
   "cell_type": "code",
   "execution_count": 61,
   "metadata": {},
   "outputs": [
    {
     "data": {
      "text/plain": [
       "(10,\n",
       " ['TRI-LEGEST',\n",
       "  'NORTEL',\n",
       "  'AMRIX',\n",
       "  'TRIVORA',\n",
       "  'AMARYL',\n",
       "  'BALZIVA',\n",
       "  'NATAZIA',\n",
       "  'MIRCETTE',\n",
       "  'DYAZIDE',\n",
       "  'LANOXIN'])"
      ]
     },
     "execution_count": 61,
     "metadata": {},
     "output_type": "execute_result"
    }
   ],
   "source": [
    "drugs = df.DRUG.value_counts().index.tolist()\n",
    "len(drugs),drugs"
   ]
  },
  {
   "cell_type": "code",
   "execution_count": 62,
   "metadata": {},
   "outputs": [
    {
     "data": {
      "text/html": [
       "<div>\n",
       "<style scoped>\n",
       "    .dataframe tbody tr th:only-of-type {\n",
       "        vertical-align: middle;\n",
       "    }\n",
       "\n",
       "    .dataframe tbody tr th {\n",
       "        vertical-align: top;\n",
       "    }\n",
       "\n",
       "    .dataframe thead th {\n",
       "        text-align: right;\n",
       "    }\n",
       "</style>\n",
       "<table border=\"1\" class=\"dataframe\">\n",
       "  <thead>\n",
       "    <tr style=\"text-align: right;\">\n",
       "      <th></th>\n",
       "      <th>NDC</th>\n",
       "      <th>IDK</th>\n",
       "      <th>FILE</th>\n",
       "      <th>TYPE</th>\n",
       "      <th>DRUG</th>\n",
       "    </tr>\n",
       "  </thead>\n",
       "  <tbody>\n",
       "    <tr>\n",
       "      <th>1783</th>\n",
       "      <td>00007365022</td>\n",
       "      <td>1</td>\n",
       "      <td>PillProjectDisc40/images/BNCP-9IQ3I-B1AK05KJGY...</td>\n",
       "      <td>C3PI_Reference</td>\n",
       "      <td>DYAZIDE</td>\n",
       "    </tr>\n",
       "    <tr>\n",
       "      <th>1784</th>\n",
       "      <td>00007365022</td>\n",
       "      <td>1</td>\n",
       "      <td>PillProjectDisc70/images/CMY2RZHAK0IQFKI-EJ91T...</td>\n",
       "      <td>C3PI_Reference</td>\n",
       "      <td>DYAZIDE</td>\n",
       "    </tr>\n",
       "    <tr>\n",
       "      <th>1785</th>\n",
       "      <td>00007365022</td>\n",
       "      <td>1</td>\n",
       "      <td>PillProjectDisc77/images/CSZ5USH95QL78TU2L!U55...</td>\n",
       "      <td>C3PI_Reference</td>\n",
       "      <td>DYAZIDE</td>\n",
       "    </tr>\n",
       "    <tr>\n",
       "      <th>1786</th>\n",
       "      <td>00007365022</td>\n",
       "      <td>1</td>\n",
       "      <td>PillProjectDisc91/images/IXBCZI_!IQP!E9MWTSA2Y...</td>\n",
       "      <td>C3PI_Reference</td>\n",
       "      <td>DYAZIDE</td>\n",
       "    </tr>\n",
       "    <tr>\n",
       "      <th>1787</th>\n",
       "      <td>00007365022</td>\n",
       "      <td>1</td>\n",
       "      <td>PillProjectDisc103/images/TPEMYB_VH6IQ_M_J7D0!...</td>\n",
       "      <td>C3PI_Test</td>\n",
       "      <td>DYAZIDE</td>\n",
       "    </tr>\n",
       "    <tr>\n",
       "      <th>...</th>\n",
       "      <td>...</td>\n",
       "      <td>...</td>\n",
       "      <td>...</td>\n",
       "      <td>...</td>\n",
       "      <td>...</td>\n",
       "    </tr>\n",
       "    <tr>\n",
       "      <th>118419</th>\n",
       "      <td>63459070160</td>\n",
       "      <td>1</td>\n",
       "      <td>PillProjectDisc49/images/BVSJUMXA_2YYIA9FWAZP2...</td>\n",
       "      <td>MC_COOKED_CALIBRATED_V1.2</td>\n",
       "      <td>AMRIX</td>\n",
       "    </tr>\n",
       "    <tr>\n",
       "      <th>118420</th>\n",
       "      <td>63459070160</td>\n",
       "      <td>1</td>\n",
       "      <td>PillProjectDisc57/images/CA4VW8H6_G6B36O_99TJW...</td>\n",
       "      <td>MC_COOKED_CALIBRATED_V1.2</td>\n",
       "      <td>AMRIX</td>\n",
       "    </tr>\n",
       "    <tr>\n",
       "      <th>118421</th>\n",
       "      <td>63459070160</td>\n",
       "      <td>1</td>\n",
       "      <td>PillProjectDisc90/images/I8IP8T6CW_VUGZZYPH30_...</td>\n",
       "      <td>MC_COOKED_CALIBRATED_V1.2</td>\n",
       "      <td>AMRIX</td>\n",
       "    </tr>\n",
       "    <tr>\n",
       "      <th>118422</th>\n",
       "      <td>63459070160</td>\n",
       "      <td>1</td>\n",
       "      <td>PillProjectDisc97/images/ODUQGLEEXJEAR-FL18J81...</td>\n",
       "      <td>MC_COOKED_CALIBRATED_V1.2</td>\n",
       "      <td>AMRIX</td>\n",
       "    </tr>\n",
       "    <tr>\n",
       "      <th>118423</th>\n",
       "      <td>63459070160</td>\n",
       "      <td>1</td>\n",
       "      <td>PillProjectDisc109/images/ZM0EPASCAX7UJM82D8KD...</td>\n",
       "      <td>MC_SPL_SPLIMAGE_V3.0</td>\n",
       "      <td>AMRIX</td>\n",
       "    </tr>\n",
       "  </tbody>\n",
       "</table>\n",
       "<p>1215 rows × 5 columns</p>\n",
       "</div>"
      ],
      "text/plain": [
       "                NDC  IDK                                               FILE  \\\n",
       "1783    00007365022    1  PillProjectDisc40/images/BNCP-9IQ3I-B1AK05KJGY...   \n",
       "1784    00007365022    1  PillProjectDisc70/images/CMY2RZHAK0IQFKI-EJ91T...   \n",
       "1785    00007365022    1  PillProjectDisc77/images/CSZ5USH95QL78TU2L!U55...   \n",
       "1786    00007365022    1  PillProjectDisc91/images/IXBCZI_!IQP!E9MWTSA2Y...   \n",
       "1787    00007365022    1  PillProjectDisc103/images/TPEMYB_VH6IQ_M_J7D0!...   \n",
       "...             ...  ...                                                ...   \n",
       "118419  63459070160    1  PillProjectDisc49/images/BVSJUMXA_2YYIA9FWAZP2...   \n",
       "118420  63459070160    1  PillProjectDisc57/images/CA4VW8H6_G6B36O_99TJW...   \n",
       "118421  63459070160    1  PillProjectDisc90/images/I8IP8T6CW_VUGZZYPH30_...   \n",
       "118422  63459070160    1  PillProjectDisc97/images/ODUQGLEEXJEAR-FL18J81...   \n",
       "118423  63459070160    1  PillProjectDisc109/images/ZM0EPASCAX7UJM82D8KD...   \n",
       "\n",
       "                             TYPE     DRUG  \n",
       "1783               C3PI_Reference  DYAZIDE  \n",
       "1784               C3PI_Reference  DYAZIDE  \n",
       "1785               C3PI_Reference  DYAZIDE  \n",
       "1786               C3PI_Reference  DYAZIDE  \n",
       "1787                    C3PI_Test  DYAZIDE  \n",
       "...                           ...      ...  \n",
       "118419  MC_COOKED_CALIBRATED_V1.2    AMRIX  \n",
       "118420  MC_COOKED_CALIBRATED_V1.2    AMRIX  \n",
       "118421  MC_COOKED_CALIBRATED_V1.2    AMRIX  \n",
       "118422  MC_COOKED_CALIBRATED_V1.2    AMRIX  \n",
       "118423       MC_SPL_SPLIMAGE_V3.0    AMRIX  \n",
       "\n",
       "[1215 rows x 5 columns]"
      ]
     },
     "execution_count": 62,
     "metadata": {},
     "output_type": "execute_result"
    }
   ],
   "source": [
    "df"
   ]
  },
  {
   "cell_type": "code",
   "execution_count": 63,
   "metadata": {},
   "outputs": [
    {
     "data": {
      "text/plain": [
       "['PillProjectDisc1/images/!N0GWPVK!D6RZMO!28U2G_GBCT8YP2.JPG',\n",
       " 'PillProjectDisc1/images/!P31ERRM_M7RRSPBWHL80GEAAAA6WF.JPG',\n",
       " 'PillProjectDisc1/images/!XXJR-NQ-A-4POK3ZKW1CTLALT2N83.PNG',\n",
       " 'PillProjectDisc1/images/!_1RYL_F1RDMPO3SRTSBK2L-G2C!KN.PNG',\n",
       " 'PillProjectDisc10/images/6S1EGUCUJUCS5Y2G_PVBETH0A9X22L.JPG',\n",
       " 'PillProjectDisc10/images/6_6!XJ73P9O12E6LVGBAIIGMNO252A.JPG',\n",
       " 'PillProjectDisc10/images/6_6!XJ73P9O12E6LVGBAIIGMNO252A.JPG',\n",
       " 'PillProjectDisc10/images/7!U5OIAL6W!52!L488NFS4OZ9B86QM.CR2',\n",
       " 'PillProjectDisc10/images/7-UZK9UIGDQAHEGLPZ5!HYONW5F16L.JPG',\n",
       " 'PillProjectDisc10/images/726N6FO55R1JXV6JSTW0Z-CWY6OBB-.JPG']"
      ]
     },
     "execution_count": 63,
     "metadata": {},
     "output_type": "execute_result"
    }
   ],
   "source": [
    "drugsftp = df.FILE.tolist()\n",
    "drugsftp.sort()\n",
    "drugsftp[:10]"
   ]
  },
  {
   "cell_type": "markdown",
   "metadata": {},
   "source": [
    "# Retrieve Data"
   ]
  },
  {
   "cell_type": "markdown",
   "metadata": {},
   "source": [
    "## FTP"
   ]
  },
  {
   "cell_type": "code",
   "execution_count": 64,
   "metadata": {},
   "outputs": [
    {
     "name": "stdout",
     "output_type": "stream",
     "text": [
      "/Users/alphonsowoodbury/Projects/Computer_Vision-Medication_Identification/Data/Images\n"
     ]
    },
    {
     "data": {
      "text/plain": [
       "'/Users/alphonsowoodbury/Projects/Computer_Vision-Medication_Identification/Data/Images'"
      ]
     },
     "execution_count": 64,
     "metadata": {},
     "output_type": "execute_result"
    }
   ],
   "source": [
    "%cd ../Data/images\n",
    "\n",
    "%pwd"
   ]
  },
  {
   "cell_type": "code",
   "execution_count": 65,
   "metadata": {},
   "outputs": [],
   "source": [
    "ftpdir = {}\n",
    "for i in range(0,len(drugsftp)):\n",
    "    ftpcall = drugsftp[i].split('/')\n",
    "    ftppath = ftpcall[0]+'/'+ftpcall[1]+ '/'\n",
    "    ftpfile = ftpcall[-1]\n",
    "    ftpdir.setdefault(ftppath,[])\n",
    "    ftpdir[ftppath].append(ftpfile)"
   ]
  },
  {
   "cell_type": "code",
   "execution_count": 15,
   "metadata": {},
   "outputs": [
    {
     "data": {
      "text/plain": [
       "'250 Directory successfully changed.'"
      ]
     },
     "execution_count": 15,
     "metadata": {},
     "output_type": "execute_result"
    }
   ],
   "source": [
    "ftp = FTP('lhcftp.nlm.nih.gov')\n",
    "ftp.login()\n",
    "ftp.cwd('Open-Access-Datasets/Pills//')\n",
    "#ftp.retrlines('LIST')"
   ]
  },
  {
   "cell_type": "code",
   "execution_count": null,
   "metadata": {},
   "outputs": [
    {
     "name": "stdout",
     "output_type": "stream",
     "text": [
      "1 1272\n",
      "2 1109\n",
      "3 1279\n",
      "4 1263\n",
      "5 1239\n",
      "6 1266\n",
      "7 1071\n",
      "8 1312\n",
      "9 1257\n",
      "10 1200\n",
      "11 1231\n",
      "12 1250\n",
      "13 1134\n",
      "14 1232\n",
      "15 1141\n",
      "16 1303\n",
      "17 1178\n",
      "18 1170\n",
      "19 1153\n",
      "20 1370\n",
      "21 1384\n",
      "22 1257\n",
      "23 1178\n",
      "24 1166\n",
      "25 1236\n",
      "26 1169\n",
      "27 1248\n",
      "28 1146\n",
      "29 1127\n",
      "30 1255\n"
     ]
    }
   ],
   "source": [
    "for i in range(1,111):\n",
    "    folder = 'PillProjectDisc{}'.format(i)\n",
    "    ftp.cwd('{}/images'.format(folder))\n",
    "    files = ftp.nlst()\n",
    "    foldersize = len(files)\n",
    "    ftp.cwd('..')\n",
    "    ftp.cwd('..')\n",
    "    print(i, foldersize)"
   ]
  },
  {
   "cell_type": "markdown",
   "metadata": {},
   "source": [
    "## Other option"
   ]
  },
  {
   "cell_type": "code",
   "execution_count": null,
   "metadata": {},
   "outputs": [],
   "source": [
    "links = []\n",
    "for x in drugsftp:\n",
    "    links.append(path+x)"
   ]
  },
  {
   "cell_type": "code",
   "execution_count": null,
   "metadata": {},
   "outputs": [],
   "source": [
    "len(links),links[:5]"
   ]
  },
  {
   "cell_type": "code",
   "execution_count": null,
   "metadata": {},
   "outputs": [],
   "source": [
    "path = 'ftp://lhcftp.nlm.nih.gov/Open-Access-Datasets/Pills//'"
   ]
  },
  {
   "cell_type": "markdown",
   "metadata": {},
   "source": [
    "# Sort by Class (Drug)"
   ]
  },
  {
   "cell_type": "code",
   "execution_count": null,
   "metadata": {},
   "outputs": [],
   "source": [
    "import os, shutil"
   ]
  },
  {
   "cell_type": "markdown",
   "metadata": {},
   "source": [
    "I want to move files for each class into their respective class folder"
   ]
  },
  {
   "cell_type": "code",
   "execution_count": 69,
   "metadata": {},
   "outputs": [
    {
     "data": {
      "text/plain": [
       "['TRI-LEGEST',\n",
       " 'NORTEL',\n",
       " 'AMRIX',\n",
       " 'TRIVORA',\n",
       " 'AMARYL',\n",
       " 'BALZIVA',\n",
       " 'NATAZIA',\n",
       " 'MIRCETTE',\n",
       " 'DYAZIDE',\n",
       " 'LANOXIN']"
      ]
     },
     "execution_count": 69,
     "metadata": {},
     "output_type": "execute_result"
    }
   ],
   "source": [
    "drugs"
   ]
  },
  {
   "cell_type": "code",
   "execution_count": null,
   "metadata": {},
   "outputs": [],
   "source": [
    "drug_dir = {}\n",
    "for drug in drugs:\n",
    "    ndc = "
   ]
  },
  {
   "cell_type": "code",
   "execution_count": 71,
   "metadata": {},
   "outputs": [],
   "source": [
    "trilegest_dir = 'data/images/trilegest'\n",
    "nortel_dir = 'data/images/nortel'\n",
    "amrix_dir = 'data/images/amrix'\n",
    "trivora_dir = 'data/images/trivora'\n",
    "amaryl_dir = 'data/images/amaryl'\n",
    "balziva_dir = 'data/images/balziva'\n",
    "natazia_dir = 'data/images/natazia'\n",
    "mircette_dir = 'data/images/mircette'\n",
    "dyazide_dir = 'data/images/dyazide'\n",
    "lanoxin_dir = 'data/images/lanoxin'\n",
    "new_dir = 'split/'"
   ]
  },
  {
   "cell_type": "code",
   "execution_count": null,
   "metadata": {},
   "outputs": [],
   "source": []
  },
  {
   "cell_type": "markdown",
   "metadata": {},
   "source": [
    "# Prep Images"
   ]
  },
  {
   "cell_type": "code",
   "execution_count": null,
   "metadata": {},
   "outputs": [],
   "source": []
  },
  {
   "cell_type": "markdown",
   "metadata": {},
   "source": [
    "## Augmentation"
   ]
  },
  {
   "cell_type": "code",
   "execution_count": null,
   "metadata": {},
   "outputs": [],
   "source": []
  },
  {
   "cell_type": "code",
   "execution_count": null,
   "metadata": {},
   "outputs": [],
   "source": []
  },
  {
   "cell_type": "code",
   "execution_count": null,
   "metadata": {},
   "outputs": [],
   "source": []
  },
  {
   "cell_type": "code",
   "execution_count": null,
   "metadata": {},
   "outputs": [],
   "source": []
  },
  {
   "cell_type": "markdown",
   "metadata": {},
   "source": [
    "---"
   ]
  },
  {
   "cell_type": "code",
   "execution_count": null,
   "metadata": {},
   "outputs": [],
   "source": [
    "ftp = FTP('lhcftp.nlm.nih.gov')\n",
    "ftp.login()\n",
    "ftp.cwd('Open-Access-Datasets/Pills//')\n",
    "ftp.cwd('..')"
   ]
  },
  {
   "cell_type": "code",
   "execution_count": null,
   "metadata": {},
   "outputs": [],
   "source": [
    "ftp.retrlines('LIST')"
   ]
  },
  {
   "cell_type": "code",
   "execution_count": null,
   "metadata": {},
   "outputs": [],
   "source": [
    "for value in ftpdir[key]:\n",
    "    with open(value, 'wb') as fp:\n",
    "        ftp.retrbinary('RETR '+ value, fp.write)"
   ]
  }
 ],
 "metadata": {
  "kernelspec": {
   "display_name": "Python 3",
   "language": "python",
   "name": "python3"
  },
  "language_info": {
   "codemirror_mode": {
    "name": "ipython",
    "version": 3
   },
   "file_extension": ".py",
   "mimetype": "text/x-python",
   "name": "python",
   "nbconvert_exporter": "python",
   "pygments_lexer": "ipython3",
   "version": "3.7.7"
  }
 },
 "nbformat": 4,
 "nbformat_minor": 4
}
