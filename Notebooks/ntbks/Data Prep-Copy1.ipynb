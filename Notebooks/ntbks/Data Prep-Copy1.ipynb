{
 "cells": [
  {
   "cell_type": "markdown",
   "metadata": {},
   "source": [
    "# Select Data"
   ]
  },
  {
   "cell_type": "code",
   "execution_count": 1,
   "metadata": {},
   "outputs": [],
   "source": [
    "import pandas as pd\n",
    "import requests\n",
    "from IPython.display import Image\n",
    "import time\n",
    "from ftplib import FTP"
   ]
  },
  {
   "cell_type": "code",
   "execution_count": 2,
   "metadata": {},
   "outputs": [
    {
     "name": "stdout",
     "output_type": "stream",
     "text": [
      "/Users/alphonsowoodbury/Projects/Computer_Vision-Medication_Identification/Data/images\n"
     ]
    }
   ],
   "source": [
    "%cd /Users/alphonsowoodbury/Projects/Computer_Vision-Medication_Identification/Data/images"
   ]
  },
  {
   "cell_type": "code",
   "execution_count": 14,
   "metadata": {},
   "outputs": [
    {
     "data": {
      "text/html": [
       "<div>\n",
       "<style scoped>\n",
       "    .dataframe tbody tr th:only-of-type {\n",
       "        vertical-align: middle;\n",
       "    }\n",
       "\n",
       "    .dataframe tbody tr th {\n",
       "        vertical-align: top;\n",
       "    }\n",
       "\n",
       "    .dataframe thead th {\n",
       "        text-align: right;\n",
       "    }\n",
       "</style>\n",
       "<table border=\"1\" class=\"dataframe\">\n",
       "  <thead>\n",
       "    <tr style=\"text-align: right;\">\n",
       "      <th></th>\n",
       "      <th>NDC</th>\n",
       "      <th>IDK</th>\n",
       "      <th>FILE</th>\n",
       "      <th>TYPE</th>\n",
       "      <th>DRUG</th>\n",
       "      <th>ORIG_FOLDER</th>\n",
       "      <th>IMAGES</th>\n",
       "      <th>FILENAME</th>\n",
       "      <th>FILETYPE</th>\n",
       "    </tr>\n",
       "  </thead>\n",
       "  <tbody>\n",
       "    <tr>\n",
       "      <th>6124</th>\n",
       "      <td>00056016870</td>\n",
       "      <td>1</td>\n",
       "      <td>PillProjectDisc29/images/BCD1EOPYWEOP0VIZ9L2MB...</td>\n",
       "      <td>C3PI_Reference</td>\n",
       "      <td>COUMADIN 4MG BLUE TABS</td>\n",
       "      <td>PillProjectDisc29</td>\n",
       "      <td>images</td>\n",
       "      <td>BCD1EOPYWEOP0VIZ9L2MBC5G4M7!033.CR2</td>\n",
       "      <td>.CR2</td>\n",
       "    </tr>\n",
       "    <tr>\n",
       "      <th>6125</th>\n",
       "      <td>00056016870</td>\n",
       "      <td>1</td>\n",
       "      <td>PillProjectDisc51/images/BXTSLR3L5BRBV!4VM7XCV...</td>\n",
       "      <td>C3PI_Reference</td>\n",
       "      <td>COUMADIN 4MG BLUE TABS</td>\n",
       "      <td>PillProjectDisc51</td>\n",
       "      <td>images</td>\n",
       "      <td>BXTSLR3L5BRBV!4VM7XCVG81Y8QWMDK.CR2</td>\n",
       "      <td>.CR2</td>\n",
       "    </tr>\n",
       "    <tr>\n",
       "      <th>6126</th>\n",
       "      <td>00056016870</td>\n",
       "      <td>1</td>\n",
       "      <td>PillProjectDisc15/images/B-RB3KOFSY9XY4P6DLWTJ...</td>\n",
       "      <td>C3PI_Test</td>\n",
       "      <td>COUMADIN 4MG BLUE TABS</td>\n",
       "      <td>PillProjectDisc15</td>\n",
       "      <td>images</td>\n",
       "      <td>B-RB3KOFSY9XY4P6DLWTJFE5VAU18I0.JPG</td>\n",
       "      <td>.JPG</td>\n",
       "    </tr>\n",
       "    <tr>\n",
       "      <th>6127</th>\n",
       "      <td>00056016870</td>\n",
       "      <td>1</td>\n",
       "      <td>PillProjectDisc19/images/B3NBP62FYAW06M24YN1ZX...</td>\n",
       "      <td>C3PI_Test</td>\n",
       "      <td>COUMADIN 4MG BLUE TABS</td>\n",
       "      <td>PillProjectDisc19</td>\n",
       "      <td>images</td>\n",
       "      <td>B3NBP62FYAW06M24YN1ZXW6-80KQFY9.WMV</td>\n",
       "      <td>.WMV</td>\n",
       "    </tr>\n",
       "    <tr>\n",
       "      <th>6128</th>\n",
       "      <td>00056016870</td>\n",
       "      <td>1</td>\n",
       "      <td>PillProjectDisc3/images/01J8CC__F3SK2!D-LTZI8B...</td>\n",
       "      <td>C3PI_Test</td>\n",
       "      <td>COUMADIN 4MG BLUE TABS</td>\n",
       "      <td>PillProjectDisc3</td>\n",
       "      <td>images</td>\n",
       "      <td>01J8CC__F3SK2!D-LTZI8BZ!WG-S-5.JPG</td>\n",
       "      <td>.JPG</td>\n",
       "    </tr>\n",
       "    <tr>\n",
       "      <th>...</th>\n",
       "      <td>...</td>\n",
       "      <td>...</td>\n",
       "      <td>...</td>\n",
       "      <td>...</td>\n",
       "      <td>...</td>\n",
       "      <td>...</td>\n",
       "      <td>...</td>\n",
       "      <td>...</td>\n",
       "      <td>...</td>\n",
       "    </tr>\n",
       "    <tr>\n",
       "      <th>6356</th>\n",
       "      <td>00056018870</td>\n",
       "      <td>1</td>\n",
       "      <td>PillProjectDisc23/images/B7QZAY3WOF_I056PE5WMS...</td>\n",
       "      <td>MC_COOKED_CALIBRATED_V1.2</td>\n",
       "      <td>COUMADIN 3MG TAN TABS</td>\n",
       "      <td>PillProjectDisc23</td>\n",
       "      <td>images</td>\n",
       "      <td>B7QZAY3WOF_I056PE5WMSWTQ65DTHV9.PNG</td>\n",
       "      <td>.PNG</td>\n",
       "    </tr>\n",
       "    <tr>\n",
       "      <th>6357</th>\n",
       "      <td>00056018870</td>\n",
       "      <td>1</td>\n",
       "      <td>PillProjectDisc39/images/BLT776Y6RO81-WFGP57YE...</td>\n",
       "      <td>MC_COOKED_CALIBRATED_V1.2</td>\n",
       "      <td>COUMADIN 3MG TAN TABS</td>\n",
       "      <td>PillProjectDisc39</td>\n",
       "      <td>images</td>\n",
       "      <td>BLT776Y6RO81-WFGP57YEDL8LA7QL15.PNG</td>\n",
       "      <td>.PNG</td>\n",
       "    </tr>\n",
       "    <tr>\n",
       "      <th>6358</th>\n",
       "      <td>00056018870</td>\n",
       "      <td>1</td>\n",
       "      <td>PillProjectDisc73/images/CP9A-P9UD8YQP7FVF55T9...</td>\n",
       "      <td>MC_COOKED_CALIBRATED_V1.2</td>\n",
       "      <td>COUMADIN 3MG TAN TABS</td>\n",
       "      <td>PillProjectDisc73</td>\n",
       "      <td>images</td>\n",
       "      <td>CP9A-P9UD8YQP7FVF55T9HZ_5I_!VKL.PNG</td>\n",
       "      <td>.PNG</td>\n",
       "    </tr>\n",
       "    <tr>\n",
       "      <th>6359</th>\n",
       "      <td>00056018870</td>\n",
       "      <td>1</td>\n",
       "      <td>PillProjectDisc74/images/CQHP4BPTKHX41Q_IIC1CR...</td>\n",
       "      <td>MC_COOKED_CALIBRATED_V1.2</td>\n",
       "      <td>COUMADIN 3MG TAN TABS</td>\n",
       "      <td>PillProjectDisc74</td>\n",
       "      <td>images</td>\n",
       "      <td>CQHP4BPTKHX41Q_IIC1CRUJY6EJ8!Z1.PNG</td>\n",
       "      <td>.PNG</td>\n",
       "    </tr>\n",
       "    <tr>\n",
       "      <th>6360</th>\n",
       "      <td>00056018870</td>\n",
       "      <td>1</td>\n",
       "      <td>PillProjectDisc5/images/1TW8O7CCFOHYP99XMBI!IT...</td>\n",
       "      <td>MC_SPL_SPLIMAGE_V3.0</td>\n",
       "      <td>COUMADIN 3MG TAN TABS</td>\n",
       "      <td>PillProjectDisc5</td>\n",
       "      <td>images</td>\n",
       "      <td>1TW8O7CCFOHYP99XMBI!ITA2I3ONKA.JPG</td>\n",
       "      <td>.JPG</td>\n",
       "    </tr>\n",
       "  </tbody>\n",
       "</table>\n",
       "<p>237 rows × 9 columns</p>\n",
       "</div>"
      ],
      "text/plain": [
       "              NDC  IDK                                               FILE  \\\n",
       "6124  00056016870    1  PillProjectDisc29/images/BCD1EOPYWEOP0VIZ9L2MB...   \n",
       "6125  00056016870    1  PillProjectDisc51/images/BXTSLR3L5BRBV!4VM7XCV...   \n",
       "6126  00056016870    1  PillProjectDisc15/images/B-RB3KOFSY9XY4P6DLWTJ...   \n",
       "6127  00056016870    1  PillProjectDisc19/images/B3NBP62FYAW06M24YN1ZX...   \n",
       "6128  00056016870    1  PillProjectDisc3/images/01J8CC__F3SK2!D-LTZI8B...   \n",
       "...           ...  ...                                                ...   \n",
       "6356  00056018870    1  PillProjectDisc23/images/B7QZAY3WOF_I056PE5WMS...   \n",
       "6357  00056018870    1  PillProjectDisc39/images/BLT776Y6RO81-WFGP57YE...   \n",
       "6358  00056018870    1  PillProjectDisc73/images/CP9A-P9UD8YQP7FVF55T9...   \n",
       "6359  00056018870    1  PillProjectDisc74/images/CQHP4BPTKHX41Q_IIC1CR...   \n",
       "6360  00056018870    1  PillProjectDisc5/images/1TW8O7CCFOHYP99XMBI!IT...   \n",
       "\n",
       "                           TYPE                    DRUG        ORIG_FOLDER  \\\n",
       "6124             C3PI_Reference  COUMADIN 4MG BLUE TABS  PillProjectDisc29   \n",
       "6125             C3PI_Reference  COUMADIN 4MG BLUE TABS  PillProjectDisc51   \n",
       "6126                  C3PI_Test  COUMADIN 4MG BLUE TABS  PillProjectDisc15   \n",
       "6127                  C3PI_Test  COUMADIN 4MG BLUE TABS  PillProjectDisc19   \n",
       "6128                  C3PI_Test  COUMADIN 4MG BLUE TABS   PillProjectDisc3   \n",
       "...                         ...                     ...                ...   \n",
       "6356  MC_COOKED_CALIBRATED_V1.2   COUMADIN 3MG TAN TABS  PillProjectDisc23   \n",
       "6357  MC_COOKED_CALIBRATED_V1.2   COUMADIN 3MG TAN TABS  PillProjectDisc39   \n",
       "6358  MC_COOKED_CALIBRATED_V1.2   COUMADIN 3MG TAN TABS  PillProjectDisc73   \n",
       "6359  MC_COOKED_CALIBRATED_V1.2   COUMADIN 3MG TAN TABS  PillProjectDisc74   \n",
       "6360       MC_SPL_SPLIMAGE_V3.0   COUMADIN 3MG TAN TABS   PillProjectDisc5   \n",
       "\n",
       "      IMAGES                             FILENAME FILETYPE  \n",
       "6124  images  BCD1EOPYWEOP0VIZ9L2MBC5G4M7!033.CR2     .CR2  \n",
       "6125  images  BXTSLR3L5BRBV!4VM7XCVG81Y8QWMDK.CR2     .CR2  \n",
       "6126  images  B-RB3KOFSY9XY4P6DLWTJFE5VAU18I0.JPG     .JPG  \n",
       "6127  images  B3NBP62FYAW06M24YN1ZXW6-80KQFY9.WMV     .WMV  \n",
       "6128  images   01J8CC__F3SK2!D-LTZI8BZ!WG-S-5.JPG     .JPG  \n",
       "...      ...                                  ...      ...  \n",
       "6356  images  B7QZAY3WOF_I056PE5WMSWTQ65DTHV9.PNG     .PNG  \n",
       "6357  images  BLT776Y6RO81-WFGP57YEDL8LA7QL15.PNG     .PNG  \n",
       "6358  images  CP9A-P9UD8YQP7FVF55T9HZ_5I_!VKL.PNG     .PNG  \n",
       "6359  images  CQHP4BPTKHX41Q_IIC1CRUJY6EJ8!Z1.PNG     .PNG  \n",
       "6360  images   1TW8O7CCFOHYP99XMBI!ITA2I3ONKA.JPG     .JPG  \n",
       "\n",
       "[237 rows x 9 columns]"
      ]
     },
     "execution_count": 14,
     "metadata": {},
     "output_type": "execute_result"
    }
   ],
   "source": [
    "typdict = {'NDC':'str'}\n",
    "pills = pd.read_csv('directory_of_images.txt',sep='|', dtype=typdict, names=['NDC','IDK','FILE','TYPE','DRUG'])\n",
    "pills = pills.dropna()\n",
    "pills.DRUG = pills.DRUG.str.upper()\n",
    "pills[['ORIG_FOLDER','IMAGES','FILENAME']] = pills.FILE.str.split('/', expand=True)\n",
    "pills['FILETYPE'] = pills.FILENAME.str[-4:]\n",
    "pills[pills.DRUG.str.contains('COUMADIN')]"
   ]
  },
  {
   "cell_type": "code",
   "execution_count": 8,
   "metadata": {},
   "outputs": [
    {
     "data": {
      "text/plain": [
       "00555903270    142\n",
       "00555901258    142\n",
       "52544029128    136\n",
       "63459070160    136\n",
       "00039022310    117\n",
       "              ... \n",
       "00173077861     69\n",
       "00093510556     69\n",
       "00093512701     69\n",
       "00555083202     69\n",
       "00093721201     69\n",
       "Name: NDC, Length: 100, dtype: int64"
      ]
     },
     "execution_count": 8,
     "metadata": {},
     "output_type": "execute_result"
    }
   ],
   "source": [
    "pills.NDC.value_counts()[:100]"
   ]
  },
  {
   "cell_type": "code",
   "execution_count": 9,
   "metadata": {},
   "outputs": [
    {
     "data": {
      "text/plain": [
       "(100,\n",
       " 00555903270    142\n",
       " 00555901258    142\n",
       " 52544029128    136\n",
       " 63459070160    136\n",
       " 00039022310    117\n",
       "               ... \n",
       " 00173077861     69\n",
       " 00093510556     69\n",
       " 00093512701     69\n",
       " 00555083202     69\n",
       " 00093721201     69\n",
       " Name: NDC, Length: 100, dtype: int64)"
      ]
     },
     "execution_count": 9,
     "metadata": {},
     "output_type": "execute_result"
    }
   ],
   "source": [
    "top10 = pills.NDC.value_counts()[:100]\n",
    "len(top10),top10"
   ]
  },
  {
   "cell_type": "code",
   "execution_count": 10,
   "metadata": {},
   "outputs": [
    {
     "data": {
      "text/plain": [
       "['00555903270',\n",
       " '00555901258',\n",
       " '52544029128',\n",
       " '63459070160',\n",
       " '00039022310',\n",
       " '00555903458',\n",
       " '50419040901',\n",
       " '51285011458',\n",
       " '00007365022',\n",
       " '49702020218',\n",
       " '50419010510',\n",
       " '57664010488',\n",
       " '00173024255',\n",
       " '00093725401',\n",
       " '00591554405',\n",
       " '00029316013',\n",
       " '50111039801',\n",
       " '00074611413',\n",
       " '00172496058',\n",
       " '00555099702',\n",
       " '00093213001',\n",
       " '00093293201',\n",
       " '00093213101',\n",
       " '00093226801',\n",
       " '00555032402',\n",
       " '00093071101',\n",
       " '00093010901',\n",
       " '00093720298',\n",
       " '00093111801',\n",
       " '00093112201',\n",
       " '00093013501',\n",
       " '00555048302',\n",
       " '50111046801',\n",
       " '50419040701',\n",
       " '00172375760',\n",
       " '00093106001',\n",
       " '00173076060',\n",
       " '00173075960',\n",
       " '00093312301',\n",
       " '51285009287',\n",
       " '51285008787',\n",
       " '00093220401',\n",
       " '00555902658',\n",
       " '00172409660',\n",
       " '00093525668',\n",
       " '00093106301',\n",
       " '51285006390',\n",
       " '50111032801',\n",
       " '50111043401',\n",
       " '00093737001',\n",
       " '00555901058',\n",
       " '00093403001',\n",
       " '00093081301',\n",
       " '00172409760',\n",
       " '00555901658',\n",
       " '00006071731',\n",
       " '00172436460',\n",
       " '00555901467',\n",
       " '00172208360',\n",
       " '00093317101',\n",
       " '51285009158',\n",
       " '00555900867',\n",
       " '00093316753',\n",
       " '00093738001',\n",
       " '00093711598',\n",
       " '00093725601',\n",
       " '00172376160',\n",
       " '00093073301',\n",
       " '51285008070',\n",
       " '00093075601',\n",
       " '00555083102',\n",
       " '50111030801',\n",
       " '00555092502',\n",
       " '00093031101',\n",
       " '00093005101',\n",
       " '00093014901',\n",
       " '00093081101',\n",
       " '00172290860',\n",
       " '00591397301',\n",
       " '00172572860',\n",
       " '00093727098',\n",
       " '00093316501',\n",
       " '00093314701',\n",
       " '00093057606',\n",
       " '00555902858',\n",
       " '51285008370',\n",
       " '00093081001',\n",
       " '50111056301',\n",
       " '00093423601',\n",
       " '00093019901',\n",
       " '50111085201',\n",
       " '60793085201',\n",
       " '00172428060',\n",
       " '50111039701',\n",
       " '00172376260',\n",
       " '00173077861',\n",
       " '00093510556',\n",
       " '00093512701',\n",
       " '00555083202',\n",
       " '00093721201']"
      ]
     },
     "execution_count": 10,
     "metadata": {},
     "output_type": "execute_result"
    }
   ],
   "source": [
    "top10NDC = top10.index.tolist()\n",
    "top10NDC"
   ]
  },
  {
   "cell_type": "code",
   "execution_count": 12,
   "metadata": {},
   "outputs": [
    {
     "data": {
      "text/plain": [
       "140"
      ]
     },
     "execution_count": 12,
     "metadata": {},
     "output_type": "execute_result"
    }
   ],
   "source": [
    "df = pills[pills.NDC.isin(top10NDC)]\n",
    "len(df.DRUG.value_counts())"
   ]
  },
  {
   "cell_type": "code",
   "execution_count": 178,
   "metadata": {},
   "outputs": [
    {
     "name": "stderr",
     "output_type": "stream",
     "text": [
      "/Users/alphonsowoodbury/.conda/envs/aw0520/lib/python3.7/site-packages/ipykernel_launcher.py:1: SettingWithCopyWarning: \n",
      "A value is trying to be set on a copy of a slice from a DataFrame\n",
      "\n",
      "See the caveats in the documentation: https://pandas.pydata.org/pandas-docs/stable/user_guide/indexing.html#returning-a-view-versus-a-copy\n",
      "  \"\"\"Entry point for launching an IPython kernel.\n",
      "/Users/alphonsowoodbury/.conda/envs/aw0520/lib/python3.7/site-packages/ipykernel_launcher.py:3: SettingWithCopyWarning: \n",
      "A value is trying to be set on a copy of a slice from a DataFrame\n",
      "\n",
      "See the caveats in the documentation: https://pandas.pydata.org/pandas-docs/stable/user_guide/indexing.html#returning-a-view-versus-a-copy\n",
      "  This is separate from the ipykernel package so we can avoid doing imports until\n",
      "/Users/alphonsowoodbury/.conda/envs/aw0520/lib/python3.7/site-packages/ipykernel_launcher.py:5: SettingWithCopyWarning: \n",
      "A value is trying to be set on a copy of a slice from a DataFrame\n",
      "\n",
      "See the caveats in the documentation: https://pandas.pydata.org/pandas-docs/stable/user_guide/indexing.html#returning-a-view-versus-a-copy\n",
      "  \"\"\"\n",
      "/Users/alphonsowoodbury/.conda/envs/aw0520/lib/python3.7/site-packages/ipykernel_launcher.py:7: SettingWithCopyWarning: \n",
      "A value is trying to be set on a copy of a slice from a DataFrame\n",
      "\n",
      "See the caveats in the documentation: https://pandas.pydata.org/pandas-docs/stable/user_guide/indexing.html#returning-a-view-versus-a-copy\n",
      "  import sys\n"
     ]
    }
   ],
   "source": [
    "df.DRUG[df.NDC == '49702020218'] = 'COMBIVIR'\n",
    "\n",
    "df.DRUG[df.NDC == '00555903458'] = 'BALZIVA'\n",
    "\n",
    "df.DRUG[df.NDC == '00007365022'] = 'DYAZIDE'\n",
    "\n",
    "df.DRUG[df.NDC == '00173024255'] = 'LANOXIN'"
   ]
  },
  {
   "cell_type": "code",
   "execution_count": 179,
   "metadata": {},
   "outputs": [
    {
     "data": {
      "text/plain": [
       "TRIVORA TAB                                 136\n",
       "AMARYL 4MG TABLETS                          117\n",
       "BALZIVA                                     116\n",
       "NATAZIA                                     113\n",
       "DYAZIDE                                     103\n",
       "COMBIVIR                                     99\n",
       "LANOXIN                                      99\n",
       "XARELTO 20 MG TAB                            35\n",
       "TRAZODONE 150MG TAB                          31\n",
       "OXYCODONE AND ACETAMINOPHEN CAPSULES USP     17\n",
       "Name: DRUG, dtype: int64"
      ]
     },
     "execution_count": 179,
     "metadata": {},
     "output_type": "execute_result"
    }
   ],
   "source": [
    "df.DRUG.value_counts()"
   ]
  },
  {
   "cell_type": "code",
   "execution_count": 13,
   "metadata": {},
   "outputs": [
    {
     "data": {
      "text/plain": [
       "<matplotlib.axes._subplots.AxesSubplot at 0x11d730190>"
      ]
     },
     "execution_count": 13,
     "metadata": {},
     "output_type": "execute_result"
    },
    {
     "data": {
      "image/png": "[encoded data removed]",
      "text/plain": [
       "<Figure size 432x288 with 1 Axes>"
      ]
     },
     "metadata": {
      "needs_background": "light"
     },
     "output_type": "display_data"
    }
   ],
   "source": [
    "df.DRUG.value_counts().plot(kind='bar')"
   ]
  },
  {
   "cell_type": "code",
   "execution_count": 11,
   "metadata": {},
   "outputs": [
    {
     "data": {
      "text/plain": [
       "['TRI-LEGEST',\n",
       " 'NORTREL',\n",
       " 'AMRIX',\n",
       " 'TRIVORA',\n",
       " 'AMARYL',\n",
       " 'BALZIVA',\n",
       " 'NATAZIA',\n",
       " 'MIRCETTE',\n",
       " 'DYAZIDE',\n",
       " 'LANOXIN']"
      ]
     },
     "execution_count": 11,
     "metadata": {},
     "output_type": "execute_result"
    }
   ],
   "source": [
    "drugs = df.DRUG.value_counts().index.tolist()\n",
    "drugs"
   ]
  },
  {
   "cell_type": "code",
   "execution_count": 12,
   "metadata": {},
   "outputs": [
    {
     "data": {
      "text/html": [
       "<div>\n",
       "<style scoped>\n",
       "    .dataframe tbody tr th:only-of-type {\n",
       "        vertical-align: middle;\n",
       "    }\n",
       "\n",
       "    .dataframe tbody tr th {\n",
       "        vertical-align: top;\n",
       "    }\n",
       "\n",
       "    .dataframe thead th {\n",
       "        text-align: right;\n",
       "    }\n",
       "</style>\n",
       "<table border=\"1\" class=\"dataframe\">\n",
       "  <thead>\n",
       "    <tr style=\"text-align: right;\">\n",
       "      <th></th>\n",
       "      <th>NDC</th>\n",
       "      <th>IDK</th>\n",
       "      <th>FILE</th>\n",
       "      <th>TYPE</th>\n",
       "      <th>DRUG</th>\n",
       "      <th>ORIG_FOLDER</th>\n",
       "      <th>IMAGES</th>\n",
       "      <th>FILENAME</th>\n",
       "      <th>FILETYPE</th>\n",
       "    </tr>\n",
       "  </thead>\n",
       "  <tbody>\n",
       "    <tr>\n",
       "      <th>1783</th>\n",
       "      <td>00007365022</td>\n",
       "      <td>1</td>\n",
       "      <td>PillProjectDisc40/images/BNCP-9IQ3I-B1AK05KJGY...</td>\n",
       "      <td>C3PI_Reference</td>\n",
       "      <td>DYAZIDE</td>\n",
       "      <td>PillProjectDisc40</td>\n",
       "      <td>images</td>\n",
       "      <td>BNCP-9IQ3I-B1AK05KJGYPKFXB8Z-W9.CR2</td>\n",
       "      <td>.CR2</td>\n",
       "    </tr>\n",
       "    <tr>\n",
       "      <th>1784</th>\n",
       "      <td>00007365022</td>\n",
       "      <td>1</td>\n",
       "      <td>PillProjectDisc70/images/CMY2RZHAK0IQFKI-EJ91T...</td>\n",
       "      <td>C3PI_Reference</td>\n",
       "      <td>DYAZIDE</td>\n",
       "      <td>PillProjectDisc70</td>\n",
       "      <td>images</td>\n",
       "      <td>CMY2RZHAK0IQFKI-EJ91TX_KKA3OWJE.CR2</td>\n",
       "      <td>.CR2</td>\n",
       "    </tr>\n",
       "    <tr>\n",
       "      <th>1785</th>\n",
       "      <td>00007365022</td>\n",
       "      <td>1</td>\n",
       "      <td>PillProjectDisc77/images/CSZ5USH95QL78TU2L!U55...</td>\n",
       "      <td>C3PI_Reference</td>\n",
       "      <td>DYAZIDE</td>\n",
       "      <td>PillProjectDisc77</td>\n",
       "      <td>images</td>\n",
       "      <td>CSZ5USH95QL78TU2L!U5510IOGAASAX.CR2</td>\n",
       "      <td>.CR2</td>\n",
       "    </tr>\n",
       "    <tr>\n",
       "      <th>1786</th>\n",
       "      <td>00007365022</td>\n",
       "      <td>1</td>\n",
       "      <td>PillProjectDisc91/images/IXBCZI_!IQP!E9MWTSA2Y...</td>\n",
       "      <td>C3PI_Reference</td>\n",
       "      <td>DYAZIDE</td>\n",
       "      <td>PillProjectDisc91</td>\n",
       "      <td>images</td>\n",
       "      <td>IXBCZI_!IQP!E9MWTSA2YJDRIPOZAG.CR2</td>\n",
       "      <td>.CR2</td>\n",
       "    </tr>\n",
       "    <tr>\n",
       "      <th>1787</th>\n",
       "      <td>00007365022</td>\n",
       "      <td>1</td>\n",
       "      <td>PillProjectDisc103/images/TPEMYB_VH6IQ_M_J7D0!...</td>\n",
       "      <td>C3PI_Test</td>\n",
       "      <td>DYAZIDE</td>\n",
       "      <td>PillProjectDisc103</td>\n",
       "      <td>images</td>\n",
       "      <td>TPEMYB_VH6IQ_M_J7D0!NS2G0-P788.JPG</td>\n",
       "      <td>.JPG</td>\n",
       "    </tr>\n",
       "    <tr>\n",
       "      <th>...</th>\n",
       "      <td>...</td>\n",
       "      <td>...</td>\n",
       "      <td>...</td>\n",
       "      <td>...</td>\n",
       "      <td>...</td>\n",
       "      <td>...</td>\n",
       "      <td>...</td>\n",
       "      <td>...</td>\n",
       "      <td>...</td>\n",
       "    </tr>\n",
       "    <tr>\n",
       "      <th>118419</th>\n",
       "      <td>63459070160</td>\n",
       "      <td>1</td>\n",
       "      <td>PillProjectDisc49/images/BVSJUMXA_2YYIA9FWAZP2...</td>\n",
       "      <td>MC_COOKED_CALIBRATED_V1.2</td>\n",
       "      <td>AMRIX</td>\n",
       "      <td>PillProjectDisc49</td>\n",
       "      <td>images</td>\n",
       "      <td>BVSJUMXA_2YYIA9FWAZP29031ZHTEZD.PNG</td>\n",
       "      <td>.PNG</td>\n",
       "    </tr>\n",
       "    <tr>\n",
       "      <th>118420</th>\n",
       "      <td>63459070160</td>\n",
       "      <td>1</td>\n",
       "      <td>PillProjectDisc57/images/CA4VW8H6_G6B36O_99TJW...</td>\n",
       "      <td>MC_COOKED_CALIBRATED_V1.2</td>\n",
       "      <td>AMRIX</td>\n",
       "      <td>PillProjectDisc57</td>\n",
       "      <td>images</td>\n",
       "      <td>CA4VW8H6_G6B36O_99TJW4ZGLRS3U8O.PNG</td>\n",
       "      <td>.PNG</td>\n",
       "    </tr>\n",
       "    <tr>\n",
       "      <th>118421</th>\n",
       "      <td>63459070160</td>\n",
       "      <td>1</td>\n",
       "      <td>PillProjectDisc90/images/I8IP8T6CW_VUGZZYPH30_...</td>\n",
       "      <td>MC_COOKED_CALIBRATED_V1.2</td>\n",
       "      <td>AMRIX</td>\n",
       "      <td>PillProjectDisc90</td>\n",
       "      <td>images</td>\n",
       "      <td>I8IP8T6CW_VUGZZYPH30_23W15HQT8.PNG</td>\n",
       "      <td>.PNG</td>\n",
       "    </tr>\n",
       "    <tr>\n",
       "      <th>118422</th>\n",
       "      <td>63459070160</td>\n",
       "      <td>1</td>\n",
       "      <td>PillProjectDisc97/images/ODUQGLEEXJEAR-FL18J81...</td>\n",
       "      <td>MC_COOKED_CALIBRATED_V1.2</td>\n",
       "      <td>AMRIX</td>\n",
       "      <td>PillProjectDisc97</td>\n",
       "      <td>images</td>\n",
       "      <td>ODUQGLEEXJEAR-FL18J81ALC-U55S-.PNG</td>\n",
       "      <td>.PNG</td>\n",
       "    </tr>\n",
       "    <tr>\n",
       "      <th>118423</th>\n",
       "      <td>63459070160</td>\n",
       "      <td>1</td>\n",
       "      <td>PillProjectDisc109/images/ZM0EPASCAX7UJM82D8KD...</td>\n",
       "      <td>MC_SPL_SPLIMAGE_V3.0</td>\n",
       "      <td>AMRIX</td>\n",
       "      <td>PillProjectDisc109</td>\n",
       "      <td>images</td>\n",
       "      <td>ZM0EPASCAX7UJM82D8KDGND4-_K1-1.JPG</td>\n",
       "      <td>.JPG</td>\n",
       "    </tr>\n",
       "  </tbody>\n",
       "</table>\n",
       "<p>1215 rows × 9 columns</p>\n",
       "</div>"
      ],
      "text/plain": [
       "                NDC  IDK                                               FILE  \\\n",
       "1783    00007365022    1  PillProjectDisc40/images/BNCP-9IQ3I-B1AK05KJGY...   \n",
       "1784    00007365022    1  PillProjectDisc70/images/CMY2RZHAK0IQFKI-EJ91T...   \n",
       "1785    00007365022    1  PillProjectDisc77/images/CSZ5USH95QL78TU2L!U55...   \n",
       "1786    00007365022    1  PillProjectDisc91/images/IXBCZI_!IQP!E9MWTSA2Y...   \n",
       "1787    00007365022    1  PillProjectDisc103/images/TPEMYB_VH6IQ_M_J7D0!...   \n",
       "...             ...  ...                                                ...   \n",
       "118419  63459070160    1  PillProjectDisc49/images/BVSJUMXA_2YYIA9FWAZP2...   \n",
       "118420  63459070160    1  PillProjectDisc57/images/CA4VW8H6_G6B36O_99TJW...   \n",
       "118421  63459070160    1  PillProjectDisc90/images/I8IP8T6CW_VUGZZYPH30_...   \n",
       "118422  63459070160    1  PillProjectDisc97/images/ODUQGLEEXJEAR-FL18J81...   \n",
       "118423  63459070160    1  PillProjectDisc109/images/ZM0EPASCAX7UJM82D8KD...   \n",
       "\n",
       "                             TYPE     DRUG         ORIG_FOLDER  IMAGES  \\\n",
       "1783               C3PI_Reference  DYAZIDE   PillProjectDisc40  images   \n",
       "1784               C3PI_Reference  DYAZIDE   PillProjectDisc70  images   \n",
       "1785               C3PI_Reference  DYAZIDE   PillProjectDisc77  images   \n",
       "1786               C3PI_Reference  DYAZIDE   PillProjectDisc91  images   \n",
       "1787                    C3PI_Test  DYAZIDE  PillProjectDisc103  images   \n",
       "...                           ...      ...                 ...     ...   \n",
       "118419  MC_COOKED_CALIBRATED_V1.2    AMRIX   PillProjectDisc49  images   \n",
       "118420  MC_COOKED_CALIBRATED_V1.2    AMRIX   PillProjectDisc57  images   \n",
       "118421  MC_COOKED_CALIBRATED_V1.2    AMRIX   PillProjectDisc90  images   \n",
       "118422  MC_COOKED_CALIBRATED_V1.2    AMRIX   PillProjectDisc97  images   \n",
       "118423       MC_SPL_SPLIMAGE_V3.0    AMRIX  PillProjectDisc109  images   \n",
       "\n",
       "                                   FILENAME FILETYPE  \n",
       "1783    BNCP-9IQ3I-B1AK05KJGYPKFXB8Z-W9.CR2     .CR2  \n",
       "1784    CMY2RZHAK0IQFKI-EJ91TX_KKA3OWJE.CR2     .CR2  \n",
       "1785    CSZ5USH95QL78TU2L!U5510IOGAASAX.CR2     .CR2  \n",
       "1786     IXBCZI_!IQP!E9MWTSA2YJDRIPOZAG.CR2     .CR2  \n",
       "1787     TPEMYB_VH6IQ_M_J7D0!NS2G0-P788.JPG     .JPG  \n",
       "...                                     ...      ...  \n",
       "118419  BVSJUMXA_2YYIA9FWAZP29031ZHTEZD.PNG     .PNG  \n",
       "118420  CA4VW8H6_G6B36O_99TJW4ZGLRS3U8O.PNG     .PNG  \n",
       "118421   I8IP8T6CW_VUGZZYPH30_23W15HQT8.PNG     .PNG  \n",
       "118422   ODUQGLEEXJEAR-FL18J81ALC-U55S-.PNG     .PNG  \n",
       "118423   ZM0EPASCAX7UJM82D8KDGND4-_K1-1.JPG     .JPG  \n",
       "\n",
       "[1215 rows x 9 columns]"
      ]
     },
     "execution_count": 12,
     "metadata": {},
     "output_type": "execute_result"
    }
   ],
   "source": [
    "df"
   ]
  },
  {
   "cell_type": "code",
   "execution_count": 13,
   "metadata": {},
   "outputs": [
    {
     "data": {
      "text/plain": [
       "['PillProjectDisc1/images/!N0GWPVK!D6RZMO!28U2G_GBCT8YP2.JPG',\n",
       " 'PillProjectDisc1/images/!P31ERRM_M7RRSPBWHL80GEAAAA6WF.JPG',\n",
       " 'PillProjectDisc1/images/!XXJR-NQ-A-4POK3ZKW1CTLALT2N83.PNG',\n",
       " 'PillProjectDisc1/images/!_1RYL_F1RDMPO3SRTSBK2L-G2C!KN.PNG',\n",
       " 'PillProjectDisc10/images/6S1EGUCUJUCS5Y2G_PVBETH0A9X22L.JPG',\n",
       " 'PillProjectDisc10/images/7!U5OIAL6W!52!L488NFS4OZ9B86QM.CR2',\n",
       " 'PillProjectDisc10/images/7-UZK9UIGDQAHEGLPZ5!HYONW5F16L.JPG',\n",
       " 'PillProjectDisc10/images/726N6FO55R1JXV6JSTW0Z-CWY6OBB-.JPG',\n",
       " 'PillProjectDisc10/images/74!FGNH6Y6FDS8JUIFAVQ8EH0L9HM6.PNG',\n",
       " 'PillProjectDisc10/images/7DS1010E8UKE890!-PPJN58F8DKF_K.JPG']"
      ]
     },
     "execution_count": 13,
     "metadata": {},
     "output_type": "execute_result"
    }
   ],
   "source": [
    "drugsftp = df.FILE.tolist()\n",
    "drugsftp.sort()\n",
    "drugsftp[:10]"
   ]
  },
  {
   "cell_type": "markdown",
   "metadata": {},
   "source": [
    "# Retrieve Data"
   ]
  },
  {
   "cell_type": "markdown",
   "metadata": {},
   "source": [
    "## FTP"
   ]
  },
  {
   "cell_type": "code",
   "execution_count": 49,
   "metadata": {},
   "outputs": [
    {
     "name": "stdout",
     "output_type": "stream",
     "text": [
      "/Users/alphonsowoodbury/Projects/Computer_Vision-Medication_Identification/Data/images\n"
     ]
    }
   ],
   "source": [
    "%cd ../Data/images"
   ]
  },
  {
   "cell_type": "code",
   "execution_count": 50,
   "metadata": {},
   "outputs": [
    {
     "data": {
      "text/plain": [
       "'/Users/alphonsowoodbury/Projects/Computer_Vision-Medication_Identification/Data/images'"
      ]
     },
     "execution_count": 50,
     "metadata": {},
     "output_type": "execute_result"
    }
   ],
   "source": [
    "%pwd"
   ]
  },
  {
   "cell_type": "code",
   "execution_count": 98,
   "metadata": {},
   "outputs": [],
   "source": [
    "ftpdir = {}\n",
    "for i in range(0,len(drugsftp)):\n",
    "    ftpcall = drugsftp[i].split('/')\n",
    "    ftppath = ftpcall[0]+'/'+ftpcall[1]+ '/'\n",
    "    ftpfile = ftpcall[-1]\n",
    "    ftpdir.setdefault(ftppath,[])\n",
    "    ftpdir[ftppath].append(ftpfile)\n",
    "#ftpdir"
   ]
  },
  {
   "cell_type": "code",
   "execution_count": 53,
   "metadata": {},
   "outputs": [],
   "source": [
    "for key in ftpdir.keys():\n",
    "    ftp = FTP('lhcftp.nlm.nih.gov')\n",
    "    ftp.login()\n",
    "    ftp.cwd('Open-Access-Datasets/Pills//')\n",
    "    ftp.cwd(key)\n",
    "    for value in ftpdir[key]:\n",
    "        with open(value, 'wb') as fp:\n",
    "            ftp.retrbinary('RETR '+ value, fp.write)"
   ]
  },
  {
   "cell_type": "markdown",
   "metadata": {},
   "source": [
    "# Sort by Class (Drug)"
   ]
  },
  {
   "cell_type": "code",
   "execution_count": 29,
   "metadata": {},
   "outputs": [],
   "source": [
    "import os, shutil"
   ]
  },
  {
   "cell_type": "code",
   "execution_count": 14,
   "metadata": {},
   "outputs": [],
   "source": [
    "# %cd ..\n",
    "# %pwd"
   ]
  },
  {
   "cell_type": "code",
   "execution_count": 20,
   "metadata": {},
   "outputs": [
    {
     "data": {
      "text/html": [
       "<div>\n",
       "<style scoped>\n",
       "    .dataframe tbody tr th:only-of-type {\n",
       "        vertical-align: middle;\n",
       "    }\n",
       "\n",
       "    .dataframe tbody tr th {\n",
       "        vertical-align: top;\n",
       "    }\n",
       "\n",
       "    .dataframe thead th {\n",
       "        text-align: right;\n",
       "    }\n",
       "</style>\n",
       "<table border=\"1\" class=\"dataframe\">\n",
       "  <thead>\n",
       "    <tr style=\"text-align: right;\">\n",
       "      <th></th>\n",
       "      <th>NDC</th>\n",
       "      <th>IDK</th>\n",
       "      <th>FILE</th>\n",
       "      <th>TYPE</th>\n",
       "      <th>DRUG</th>\n",
       "      <th>ORIG_FOLDER</th>\n",
       "      <th>IMAGES</th>\n",
       "      <th>FILENAME</th>\n",
       "      <th>FILETYPE</th>\n",
       "    </tr>\n",
       "  </thead>\n",
       "  <tbody>\n",
       "    <tr>\n",
       "      <th>1783</th>\n",
       "      <td>00007365022</td>\n",
       "      <td>1</td>\n",
       "      <td>PillProjectDisc40/images/BNCP-9IQ3I-B1AK05KJGY...</td>\n",
       "      <td>C3PI_Reference</td>\n",
       "      <td>DYAZIDE</td>\n",
       "      <td>PillProjectDisc40</td>\n",
       "      <td>images</td>\n",
       "      <td>BNCP-9IQ3I-B1AK05KJGYPKFXB8Z-W9.JPG</td>\n",
       "      <td>.CR2</td>\n",
       "    </tr>\n",
       "    <tr>\n",
       "      <th>1784</th>\n",
       "      <td>00007365022</td>\n",
       "      <td>1</td>\n",
       "      <td>PillProjectDisc70/images/CMY2RZHAK0IQFKI-EJ91T...</td>\n",
       "      <td>C3PI_Reference</td>\n",
       "      <td>DYAZIDE</td>\n",
       "      <td>PillProjectDisc70</td>\n",
       "      <td>images</td>\n",
       "      <td>CMY2RZHAK0IQFKI-EJ91TX_KKA3OWJE.JPG</td>\n",
       "      <td>.CR2</td>\n",
       "    </tr>\n",
       "    <tr>\n",
       "      <th>1785</th>\n",
       "      <td>00007365022</td>\n",
       "      <td>1</td>\n",
       "      <td>PillProjectDisc77/images/CSZ5USH95QL78TU2L!U55...</td>\n",
       "      <td>C3PI_Reference</td>\n",
       "      <td>DYAZIDE</td>\n",
       "      <td>PillProjectDisc77</td>\n",
       "      <td>images</td>\n",
       "      <td>CSZ5USH95QL78TU2L!U5510IOGAASAX.JPG</td>\n",
       "      <td>.CR2</td>\n",
       "    </tr>\n",
       "    <tr>\n",
       "      <th>1786</th>\n",
       "      <td>00007365022</td>\n",
       "      <td>1</td>\n",
       "      <td>PillProjectDisc91/images/IXBCZI_!IQP!E9MWTSA2Y...</td>\n",
       "      <td>C3PI_Reference</td>\n",
       "      <td>DYAZIDE</td>\n",
       "      <td>PillProjectDisc91</td>\n",
       "      <td>images</td>\n",
       "      <td>IXBCZI_!IQP!E9MWTSA2YJDRIPOZAG.JPG</td>\n",
       "      <td>.CR2</td>\n",
       "    </tr>\n",
       "    <tr>\n",
       "      <th>1787</th>\n",
       "      <td>00007365022</td>\n",
       "      <td>1</td>\n",
       "      <td>PillProjectDisc103/images/TPEMYB_VH6IQ_M_J7D0!...</td>\n",
       "      <td>C3PI_Test</td>\n",
       "      <td>DYAZIDE</td>\n",
       "      <td>PillProjectDisc103</td>\n",
       "      <td>images</td>\n",
       "      <td>TPEMYB_VH6IQ_M_J7D0!NS2G0-P788.JPG</td>\n",
       "      <td>.JPG</td>\n",
       "    </tr>\n",
       "    <tr>\n",
       "      <th>...</th>\n",
       "      <td>...</td>\n",
       "      <td>...</td>\n",
       "      <td>...</td>\n",
       "      <td>...</td>\n",
       "      <td>...</td>\n",
       "      <td>...</td>\n",
       "      <td>...</td>\n",
       "      <td>...</td>\n",
       "      <td>...</td>\n",
       "    </tr>\n",
       "    <tr>\n",
       "      <th>118419</th>\n",
       "      <td>63459070160</td>\n",
       "      <td>1</td>\n",
       "      <td>PillProjectDisc49/images/BVSJUMXA_2YYIA9FWAZP2...</td>\n",
       "      <td>MC_COOKED_CALIBRATED_V1.2</td>\n",
       "      <td>AMRIX</td>\n",
       "      <td>PillProjectDisc49</td>\n",
       "      <td>images</td>\n",
       "      <td>BVSJUMXA_2YYIA9FWAZP29031ZHTEZD.JPG</td>\n",
       "      <td>.PNG</td>\n",
       "    </tr>\n",
       "    <tr>\n",
       "      <th>118420</th>\n",
       "      <td>63459070160</td>\n",
       "      <td>1</td>\n",
       "      <td>PillProjectDisc57/images/CA4VW8H6_G6B36O_99TJW...</td>\n",
       "      <td>MC_COOKED_CALIBRATED_V1.2</td>\n",
       "      <td>AMRIX</td>\n",
       "      <td>PillProjectDisc57</td>\n",
       "      <td>images</td>\n",
       "      <td>CA4VW8H6_G6B36O_99TJW4ZGLRS3U8O.JPG</td>\n",
       "      <td>.PNG</td>\n",
       "    </tr>\n",
       "    <tr>\n",
       "      <th>118421</th>\n",
       "      <td>63459070160</td>\n",
       "      <td>1</td>\n",
       "      <td>PillProjectDisc90/images/I8IP8T6CW_VUGZZYPH30_...</td>\n",
       "      <td>MC_COOKED_CALIBRATED_V1.2</td>\n",
       "      <td>AMRIX</td>\n",
       "      <td>PillProjectDisc90</td>\n",
       "      <td>images</td>\n",
       "      <td>I8IP8T6CW_VUGZZYPH30_23W15HQT8.JPG</td>\n",
       "      <td>.PNG</td>\n",
       "    </tr>\n",
       "    <tr>\n",
       "      <th>118422</th>\n",
       "      <td>63459070160</td>\n",
       "      <td>1</td>\n",
       "      <td>PillProjectDisc97/images/ODUQGLEEXJEAR-FL18J81...</td>\n",
       "      <td>MC_COOKED_CALIBRATED_V1.2</td>\n",
       "      <td>AMRIX</td>\n",
       "      <td>PillProjectDisc97</td>\n",
       "      <td>images</td>\n",
       "      <td>ODUQGLEEXJEAR-FL18J81ALC-U55S-.JPG</td>\n",
       "      <td>.PNG</td>\n",
       "    </tr>\n",
       "    <tr>\n",
       "      <th>118423</th>\n",
       "      <td>63459070160</td>\n",
       "      <td>1</td>\n",
       "      <td>PillProjectDisc109/images/ZM0EPASCAX7UJM82D8KD...</td>\n",
       "      <td>MC_SPL_SPLIMAGE_V3.0</td>\n",
       "      <td>AMRIX</td>\n",
       "      <td>PillProjectDisc109</td>\n",
       "      <td>images</td>\n",
       "      <td>ZM0EPASCAX7UJM82D8KDGND4-_K1-1.JPG</td>\n",
       "      <td>.JPG</td>\n",
       "    </tr>\n",
       "  </tbody>\n",
       "</table>\n",
       "<p>1184 rows × 9 columns</p>\n",
       "</div>"
      ],
      "text/plain": [
       "                NDC  IDK                                               FILE  \\\n",
       "1783    00007365022    1  PillProjectDisc40/images/BNCP-9IQ3I-B1AK05KJGY...   \n",
       "1784    00007365022    1  PillProjectDisc70/images/CMY2RZHAK0IQFKI-EJ91T...   \n",
       "1785    00007365022    1  PillProjectDisc77/images/CSZ5USH95QL78TU2L!U55...   \n",
       "1786    00007365022    1  PillProjectDisc91/images/IXBCZI_!IQP!E9MWTSA2Y...   \n",
       "1787    00007365022    1  PillProjectDisc103/images/TPEMYB_VH6IQ_M_J7D0!...   \n",
       "...             ...  ...                                                ...   \n",
       "118419  63459070160    1  PillProjectDisc49/images/BVSJUMXA_2YYIA9FWAZP2...   \n",
       "118420  63459070160    1  PillProjectDisc57/images/CA4VW8H6_G6B36O_99TJW...   \n",
       "118421  63459070160    1  PillProjectDisc90/images/I8IP8T6CW_VUGZZYPH30_...   \n",
       "118422  63459070160    1  PillProjectDisc97/images/ODUQGLEEXJEAR-FL18J81...   \n",
       "118423  63459070160    1  PillProjectDisc109/images/ZM0EPASCAX7UJM82D8KD...   \n",
       "\n",
       "                             TYPE     DRUG         ORIG_FOLDER  IMAGES  \\\n",
       "1783               C3PI_Reference  DYAZIDE   PillProjectDisc40  images   \n",
       "1784               C3PI_Reference  DYAZIDE   PillProjectDisc70  images   \n",
       "1785               C3PI_Reference  DYAZIDE   PillProjectDisc77  images   \n",
       "1786               C3PI_Reference  DYAZIDE   PillProjectDisc91  images   \n",
       "1787                    C3PI_Test  DYAZIDE  PillProjectDisc103  images   \n",
       "...                           ...      ...                 ...     ...   \n",
       "118419  MC_COOKED_CALIBRATED_V1.2    AMRIX   PillProjectDisc49  images   \n",
       "118420  MC_COOKED_CALIBRATED_V1.2    AMRIX   PillProjectDisc57  images   \n",
       "118421  MC_COOKED_CALIBRATED_V1.2    AMRIX   PillProjectDisc90  images   \n",
       "118422  MC_COOKED_CALIBRATED_V1.2    AMRIX   PillProjectDisc97  images   \n",
       "118423       MC_SPL_SPLIMAGE_V3.0    AMRIX  PillProjectDisc109  images   \n",
       "\n",
       "                                   FILENAME FILETYPE  \n",
       "1783    BNCP-9IQ3I-B1AK05KJGYPKFXB8Z-W9.JPG     .CR2  \n",
       "1784    CMY2RZHAK0IQFKI-EJ91TX_KKA3OWJE.JPG     .CR2  \n",
       "1785    CSZ5USH95QL78TU2L!U5510IOGAASAX.JPG     .CR2  \n",
       "1786     IXBCZI_!IQP!E9MWTSA2YJDRIPOZAG.JPG     .CR2  \n",
       "1787     TPEMYB_VH6IQ_M_J7D0!NS2G0-P788.JPG     .JPG  \n",
       "...                                     ...      ...  \n",
       "118419  BVSJUMXA_2YYIA9FWAZP29031ZHTEZD.JPG     .PNG  \n",
       "118420  CA4VW8H6_G6B36O_99TJW4ZGLRS3U8O.JPG     .PNG  \n",
       "118421   I8IP8T6CW_VUGZZYPH30_23W15HQT8.JPG     .PNG  \n",
       "118422   ODUQGLEEXJEAR-FL18J81ALC-U55S-.JPG     .PNG  \n",
       "118423   ZM0EPASCAX7UJM82D8KDGND4-_K1-1.JPG     .JPG  \n",
       "\n",
       "[1184 rows x 9 columns]"
      ]
     },
     "execution_count": 20,
     "metadata": {},
     "output_type": "execute_result"
    }
   ],
   "source": [
    "df = df[df.FILETYPE != '.WMV']\n",
    "df['FILENAME'] = df['FILENAME'].str.replace('.CR2','.JPG')\n",
    "df['FILENAME'] = df['FILENAME'].str.replace('.PNG','.JPG')\n",
    "df['FILENAME'] = df['FILENAME'].str.replace('.CR2','.PNG')\n",
    "df"
   ]
  },
  {
   "cell_type": "markdown",
   "metadata": {},
   "source": [
    "## Format all to JPG"
   ]
  },
  {
   "cell_type": "code",
   "execution_count": 21,
   "metadata": {},
   "outputs": [
    {
     "data": {
      "text/plain": [
       ".JPG    748\n",
       ".PNG    374\n",
       ".CR2     62\n",
       "Name: FILETYPE, dtype: int64"
      ]
     },
     "execution_count": 21,
     "metadata": {},
     "output_type": "execute_result"
    }
   ],
   "source": [
    "df.FILETYPE.value_counts()"
   ]
  },
  {
   "cell_type": "code",
   "execution_count": 15,
   "metadata": {},
   "outputs": [],
   "source": [
    "# from PIL import Image\n",
    "# from PIL import ImageFile\n",
    "# import rawpy\n",
    "# import imageio\n",
    "# ImageFile.LOAD_TRUNCATED_IMAGES = True\n",
    "# #os.mkdir('pills_jpg')"
   ]
  },
  {
   "cell_type": "code",
   "execution_count": 16,
   "metadata": {},
   "outputs": [
    {
     "data": {
      "text/plain": [
       "'/Users/alphonsowoodbury/Projects/Computer_Vision-Medication_Identification/Data/images'"
      ]
     },
     "execution_count": 16,
     "metadata": {},
     "output_type": "execute_result"
    }
   ],
   "source": [
    "%pwd"
   ]
  },
  {
   "cell_type": "code",
   "execution_count": 17,
   "metadata": {},
   "outputs": [],
   "source": [
    "# for filename in os.listdir():\n",
    "#     if filename.endswith(\".PNG\") or filename.endswith(\".JPG\"): \n",
    "#         im1 = Image.open(r'{}'.format(filename))\n",
    "#         rgb_im = im1.convert('RGB')\n",
    "#         rgb_im.save(r'pills_jpg/{}''.JPG'.format(filename[:-4]))\n",
    "#         continue\n",
    "#     elif filename.endswith(\".CR2\") and os.path.getsize(filename) > 0:\n",
    "#         print(filename)\n",
    "#         raw = rawpy.imread('{}'.format(filename))\n",
    "#         rgb = raw.postprocess()\n",
    "#         imageio.imsave('pills_jpg/{}''.JPG'.format(filename[:-4]), rgb)\n",
    "#         print(filename)\n",
    "#         continue"
   ]
  },
  {
   "cell_type": "code",
   "execution_count": 240,
   "metadata": {},
   "outputs": [
    {
     "name": "stdout",
     "output_type": "stream",
     "text": [
      "/Users/alphonsowoodbury/Projects/Computer_Vision-Medication_Identification/Data/images/pills_jpg\n"
     ]
    }
   ],
   "source": [
    "%cd pills_jpg"
   ]
  },
  {
   "cell_type": "code",
   "execution_count": null,
   "metadata": {},
   "outputs": [],
   "source": [
    "df"
   ]
  },
  {
   "cell_type": "code",
   "execution_count": 72,
   "metadata": {},
   "outputs": [],
   "source": [
    "trilegest_dir  = 'data/pills_jpg/trilegest'\n",
    "nortrel_dir    = 'data/pills_jpg/nortrel'\n",
    "trivora_dir    = 'data/pills_jpg/trivora'\n",
    "amrix_dir      = 'data/pills_jpg/amrix'\n",
    "amaryl_dir     = 'data/pills_jpg/amaryl'\n",
    "balziva_dir    = 'data/pills_jpg/balziva'\n",
    "natazia_dir    = 'data/pills_jpg/natazia'\n",
    "mircette_dir   = 'data/pills_jpg/mircette'\n",
    "dyazide_dir    = 'data/pills_jpg/dyazide'\n",
    "lanoxin_dir    = 'data/pills_jpg/lanoxin'\n",
    "new_dir        = 'data/pills_jpg/split/'\n",
    "images         = 'data/pills_jpg'"
   ]
  },
  {
   "cell_type": "code",
   "execution_count": 248,
   "metadata": {},
   "outputs": [
    {
     "ename": "FileNotFoundError",
     "evalue": "[Errno 2] No such file or directory: 'data/pills_jpg/split/'",
     "output_type": "error",
     "traceback": [
      "\u001b[0;31m---------------------------------------------------------------------------\u001b[0m",
      "\u001b[0;31mFileNotFoundError\u001b[0m                         Traceback (most recent call last)",
      "\u001b[0;32m<ipython-input-248-9cccf29bcbc0>\u001b[0m in \u001b[0;36m<module>\u001b[0;34m\u001b[0m\n\u001b[1;32m      9\u001b[0m \u001b[0mos\u001b[0m\u001b[0;34m.\u001b[0m\u001b[0mmkdir\u001b[0m\u001b[0;34m(\u001b[0m\u001b[0mdyazide_dir\u001b[0m\u001b[0;34m)\u001b[0m\u001b[0;34m\u001b[0m\u001b[0;34m\u001b[0m\u001b[0m\n\u001b[1;32m     10\u001b[0m \u001b[0mos\u001b[0m\u001b[0;34m.\u001b[0m\u001b[0mmkdir\u001b[0m\u001b[0;34m(\u001b[0m\u001b[0mlanoxin_dir\u001b[0m\u001b[0;34m)\u001b[0m\u001b[0;34m\u001b[0m\u001b[0;34m\u001b[0m\u001b[0m\n\u001b[0;32m---> 11\u001b[0;31m \u001b[0mos\u001b[0m\u001b[0;34m.\u001b[0m\u001b[0mmkdir\u001b[0m\u001b[0;34m(\u001b[0m\u001b[0mnew_dir\u001b[0m\u001b[0;34m)\u001b[0m\u001b[0;34m\u001b[0m\u001b[0;34m\u001b[0m\u001b[0m\n\u001b[0m",
      "\u001b[0;31mFileNotFoundError\u001b[0m: [Errno 2] No such file or directory: 'data/pills_jpg/split/'"
     ]
    }
   ],
   "source": [
    "os.mkdir(trilegest_dir)\n",
    "os.mkdir(nortrel_dir)\n",
    "os.mkdir(amrix_dir)\n",
    "os.mkdir(trivora_dir)\n",
    "os.mkdir(amaryl_dir)\n",
    "os.mkdir(balziva_dir)\n",
    "os.mkdir(natazia_dir)\n",
    "os.mkdir(mircette_dir)\n",
    "os.mkdir(dyazide_dir)\n",
    "os.mkdir(lanoxin_dir)\n",
    "os.mkdir(new_dir)"
   ]
  },
  {
   "cell_type": "code",
   "execution_count": 22,
   "metadata": {},
   "outputs": [],
   "source": [
    "imgs_trilegest = df.FILENAME[df.DRUG == drugs[0]].tolist()\n",
    "imgs_nortrel   = df.FILENAME[df.DRUG == drugs[1]].tolist()\n",
    "imgs_trivora   = df.FILENAME[df.DRUG == drugs[2]].tolist()\n",
    "imgs_amrix     = df.FILENAME[df.DRUG == drugs[3]].tolist()\n",
    "imgs_amaryl    = df.FILENAME[df.DRUG == drugs[4]].tolist()\n",
    "imgs_balziva   = df.FILENAME[df.DRUG == drugs[5]].tolist()\n",
    "imgs_natazia   = df.FILENAME[df.DRUG == drugs[6]].tolist()\n",
    "imgs_mircette  = df.FILENAME[df.DRUG == drugs[7]].tolist()\n",
    "imgs_dyazide   = df.FILENAME[df.DRUG == drugs[8]].tolist()\n",
    "imgs_lanoxin   = df.FILENAME[df.DRUG == drugs[9]].tolist()"
   ]
  },
  {
   "cell_type": "code",
   "execution_count": 140,
   "metadata": {},
   "outputs": [
    {
     "data": {
      "text/html": [
       "<div>\n",
       "<style scoped>\n",
       "    .dataframe tbody tr th:only-of-type {\n",
       "        vertical-align: middle;\n",
       "    }\n",
       "\n",
       "    .dataframe tbody tr th {\n",
       "        vertical-align: top;\n",
       "    }\n",
       "\n",
       "    .dataframe thead th {\n",
       "        text-align: right;\n",
       "    }\n",
       "</style>\n",
       "<table border=\"1\" class=\"dataframe\">\n",
       "  <thead>\n",
       "    <tr style=\"text-align: right;\">\n",
       "      <th></th>\n",
       "      <th>NDC</th>\n",
       "      <th>IDK</th>\n",
       "      <th>FILE</th>\n",
       "      <th>TYPE</th>\n",
       "      <th>DRUG</th>\n",
       "      <th>ORIG_FOLDER</th>\n",
       "      <th>IMAGES</th>\n",
       "      <th>FILENAME</th>\n",
       "      <th>FILETYPE</th>\n",
       "    </tr>\n",
       "  </thead>\n",
       "  <tbody>\n",
       "    <tr>\n",
       "      <th>88176</th>\n",
       "      <td>49702020218</td>\n",
       "      <td>1</td>\n",
       "      <td>PillProjectDisc106/images/W8W8NEPVMW!42SH2AEGN...</td>\n",
       "      <td>C3PI_Reference</td>\n",
       "      <td>LANOXIN</td>\n",
       "      <td>PillProjectDisc106</td>\n",
       "      <td>images</td>\n",
       "      <td>W8W8NEPVMW!42SH2AEGNG_MF89XN6S.JPG</td>\n",
       "      <td>.CR2</td>\n",
       "    </tr>\n",
       "    <tr>\n",
       "      <th>88177</th>\n",
       "      <td>49702020218</td>\n",
       "      <td>1</td>\n",
       "      <td>PillProjectDisc4/images/1BIPI-1LST0RLOKX41T-4Q...</td>\n",
       "      <td>C3PI_Reference</td>\n",
       "      <td>LANOXIN</td>\n",
       "      <td>PillProjectDisc4</td>\n",
       "      <td>images</td>\n",
       "      <td>1BIPI-1LST0RLOKX41T-4QX1O6FWT8.JPG</td>\n",
       "      <td>.CR2</td>\n",
       "    </tr>\n",
       "    <tr>\n",
       "      <th>88178</th>\n",
       "      <td>49702020218</td>\n",
       "      <td>1</td>\n",
       "      <td>PillProjectDisc73/images/CP-P06CSPP624YK2VXVV3...</td>\n",
       "      <td>C3PI_Reference</td>\n",
       "      <td>LANOXIN</td>\n",
       "      <td>PillProjectDisc73</td>\n",
       "      <td>images</td>\n",
       "      <td>CP-P06CSPP624YK2VXVV3I-MAMFMH49.JPG</td>\n",
       "      <td>.CR2</td>\n",
       "    </tr>\n",
       "    <tr>\n",
       "      <th>88179</th>\n",
       "      <td>49702020218</td>\n",
       "      <td>1</td>\n",
       "      <td>PillProjectDisc86/images/EA2G!7G8HLROTTNQEMUI!...</td>\n",
       "      <td>C3PI_Reference</td>\n",
       "      <td>LANOXIN</td>\n",
       "      <td>PillProjectDisc86</td>\n",
       "      <td>images</td>\n",
       "      <td>EA2G!7G8HLROTTNQEMUI!R1-P8VBAO.JPG</td>\n",
       "      <td>.CR2</td>\n",
       "    </tr>\n",
       "    <tr>\n",
       "      <th>88182</th>\n",
       "      <td>49702020218</td>\n",
       "      <td>1</td>\n",
       "      <td>PillProjectDisc17/images/B1D76XI85LP71XXLALTV3...</td>\n",
       "      <td>C3PI_Test</td>\n",
       "      <td>LANOXIN</td>\n",
       "      <td>PillProjectDisc17</td>\n",
       "      <td>images</td>\n",
       "      <td>B1D76XI85LP71XXLALTV3PI3FOWAJPB.JPG</td>\n",
       "      <td>.JPG</td>\n",
       "    </tr>\n",
       "    <tr>\n",
       "      <th>...</th>\n",
       "      <td>...</td>\n",
       "      <td>...</td>\n",
       "      <td>...</td>\n",
       "      <td>...</td>\n",
       "      <td>...</td>\n",
       "      <td>...</td>\n",
       "      <td>...</td>\n",
       "      <td>...</td>\n",
       "      <td>...</td>\n",
       "    </tr>\n",
       "    <tr>\n",
       "      <th>88270</th>\n",
       "      <td>49702020218</td>\n",
       "      <td>1</td>\n",
       "      <td>PillProjectDisc63/images/CFLEA8MMUGVR1Z6268AXU...</td>\n",
       "      <td>MC_COOKED_CALIBRATED_V1.2</td>\n",
       "      <td>LANOXIN</td>\n",
       "      <td>PillProjectDisc63</td>\n",
       "      <td>images</td>\n",
       "      <td>CFLEA8MMUGVR1Z6268AXUFUPR334I3-.JPG</td>\n",
       "      <td>.PNG</td>\n",
       "    </tr>\n",
       "    <tr>\n",
       "      <th>88271</th>\n",
       "      <td>49702020218</td>\n",
       "      <td>1</td>\n",
       "      <td>PillProjectDisc72/images/CO0KN8HWF-W0YN-Z-!ERU...</td>\n",
       "      <td>MC_COOKED_CALIBRATED_V1.2</td>\n",
       "      <td>LANOXIN</td>\n",
       "      <td>PillProjectDisc72</td>\n",
       "      <td>images</td>\n",
       "      <td>CO0KN8HWF-W0YN-Z-!ERU-YRFBLOA7Q.JPG</td>\n",
       "      <td>.PNG</td>\n",
       "    </tr>\n",
       "    <tr>\n",
       "      <th>88272</th>\n",
       "      <td>49702020218</td>\n",
       "      <td>1</td>\n",
       "      <td>PillProjectDisc89/images/HAG!YT0GY13K8ZZUQGLMG...</td>\n",
       "      <td>MC_COOKED_CALIBRATED_V1.2</td>\n",
       "      <td>LANOXIN</td>\n",
       "      <td>PillProjectDisc89</td>\n",
       "      <td>images</td>\n",
       "      <td>HAG!YT0GY13K8ZZUQGLMGDF-7H3SC0.JPG</td>\n",
       "      <td>.PNG</td>\n",
       "    </tr>\n",
       "    <tr>\n",
       "      <th>88273</th>\n",
       "      <td>49702020218</td>\n",
       "      <td>1</td>\n",
       "      <td>PillProjectDisc94/images/LH5N5P-LRK5L5K_7Q!YFA...</td>\n",
       "      <td>MC_COOKED_CALIBRATED_V1.2</td>\n",
       "      <td>LANOXIN</td>\n",
       "      <td>PillProjectDisc94</td>\n",
       "      <td>images</td>\n",
       "      <td>LH5N5P-LRK5L5K_7Q!YFAM0!UAGU!7.JPG</td>\n",
       "      <td>.PNG</td>\n",
       "    </tr>\n",
       "    <tr>\n",
       "      <th>88274</th>\n",
       "      <td>49702020218</td>\n",
       "      <td>1</td>\n",
       "      <td>PillProjectDisc104/images/USJ91VGHYC3NHC38_9SZ...</td>\n",
       "      <td>MC_SPL_SPLIMAGE_V3.0</td>\n",
       "      <td>LANOXIN</td>\n",
       "      <td>PillProjectDisc104</td>\n",
       "      <td>images</td>\n",
       "      <td>USJ91VGHYC3NHC38_9SZWCNBE0EYGC.JPG</td>\n",
       "      <td>.JPG</td>\n",
       "    </tr>\n",
       "  </tbody>\n",
       "</table>\n",
       "<p>95 rows × 9 columns</p>\n",
       "</div>"
      ],
      "text/plain": [
       "               NDC  IDK                                               FILE  \\\n",
       "88176  49702020218    1  PillProjectDisc106/images/W8W8NEPVMW!42SH2AEGN...   \n",
       "88177  49702020218    1  PillProjectDisc4/images/1BIPI-1LST0RLOKX41T-4Q...   \n",
       "88178  49702020218    1  PillProjectDisc73/images/CP-P06CSPP624YK2VXVV3...   \n",
       "88179  49702020218    1  PillProjectDisc86/images/EA2G!7G8HLROTTNQEMUI!...   \n",
       "88182  49702020218    1  PillProjectDisc17/images/B1D76XI85LP71XXLALTV3...   \n",
       "...            ...  ...                                                ...   \n",
       "88270  49702020218    1  PillProjectDisc63/images/CFLEA8MMUGVR1Z6268AXU...   \n",
       "88271  49702020218    1  PillProjectDisc72/images/CO0KN8HWF-W0YN-Z-!ERU...   \n",
       "88272  49702020218    1  PillProjectDisc89/images/HAG!YT0GY13K8ZZUQGLMG...   \n",
       "88273  49702020218    1  PillProjectDisc94/images/LH5N5P-LRK5L5K_7Q!YFA...   \n",
       "88274  49702020218    1  PillProjectDisc104/images/USJ91VGHYC3NHC38_9SZ...   \n",
       "\n",
       "                            TYPE     DRUG         ORIG_FOLDER  IMAGES  \\\n",
       "88176             C3PI_Reference  LANOXIN  PillProjectDisc106  images   \n",
       "88177             C3PI_Reference  LANOXIN    PillProjectDisc4  images   \n",
       "88178             C3PI_Reference  LANOXIN   PillProjectDisc73  images   \n",
       "88179             C3PI_Reference  LANOXIN   PillProjectDisc86  images   \n",
       "88182                  C3PI_Test  LANOXIN   PillProjectDisc17  images   \n",
       "...                          ...      ...                 ...     ...   \n",
       "88270  MC_COOKED_CALIBRATED_V1.2  LANOXIN   PillProjectDisc63  images   \n",
       "88271  MC_COOKED_CALIBRATED_V1.2  LANOXIN   PillProjectDisc72  images   \n",
       "88272  MC_COOKED_CALIBRATED_V1.2  LANOXIN   PillProjectDisc89  images   \n",
       "88273  MC_COOKED_CALIBRATED_V1.2  LANOXIN   PillProjectDisc94  images   \n",
       "88274       MC_SPL_SPLIMAGE_V3.0  LANOXIN  PillProjectDisc104  images   \n",
       "\n",
       "                                  FILENAME FILETYPE  \n",
       "88176   W8W8NEPVMW!42SH2AEGNG_MF89XN6S.JPG     .CR2  \n",
       "88177   1BIPI-1LST0RLOKX41T-4QX1O6FWT8.JPG     .CR2  \n",
       "88178  CP-P06CSPP624YK2VXVV3I-MAMFMH49.JPG     .CR2  \n",
       "88179   EA2G!7G8HLROTTNQEMUI!R1-P8VBAO.JPG     .CR2  \n",
       "88182  B1D76XI85LP71XXLALTV3PI3FOWAJPB.JPG     .JPG  \n",
       "...                                    ...      ...  \n",
       "88270  CFLEA8MMUGVR1Z6268AXUFUPR334I3-.JPG     .PNG  \n",
       "88271  CO0KN8HWF-W0YN-Z-!ERU-YRFBLOA7Q.JPG     .PNG  \n",
       "88272   HAG!YT0GY13K8ZZUQGLMGDF-7H3SC0.JPG     .PNG  \n",
       "88273   LH5N5P-LRK5L5K_7Q!YFAM0!UAGU!7.JPG     .PNG  \n",
       "88274   USJ91VGHYC3NHC38_9SZWCNBE0EYGC.JPG     .JPG  \n",
       "\n",
       "[95 rows x 9 columns]"
      ]
     },
     "execution_count": 140,
     "metadata": {},
     "output_type": "execute_result"
    }
   ],
   "source": [
    "df[df.DRUG == drugs[9]]"
   ]
  },
  {
   "cell_type": "code",
   "execution_count": 23,
   "metadata": {},
   "outputs": [],
   "source": [
    "druglist = [imgs_trilegest,\n",
    "            imgs_nortrel, \n",
    "            imgs_trivora,\n",
    "            imgs_amrix , \n",
    "            imgs_amaryl ,\n",
    "            imgs_balziva,\n",
    "            imgs_natazia,\n",
    "            imgs_mircette,\n",
    "            imgs_dyazide,\n",
    "            imgs_lanoxin]"
   ]
  },
  {
   "cell_type": "code",
   "execution_count": 26,
   "metadata": {},
   "outputs": [],
   "source": [
    "pathlist = [trilegest_dir,\n",
    "            nortrel_dir, \n",
    "            trivora_dir,\n",
    "            amrix_dir , \n",
    "            amaryl_dir ,\n",
    "            balziva_dir,\n",
    "            natazia_dir,\n",
    "            mircette_dir,\n",
    "            dyazide_dir,\n",
    "            lanoxin_dir]"
   ]
  },
  {
   "cell_type": "code",
   "execution_count": 27,
   "metadata": {},
   "outputs": [
    {
     "data": {
      "text/plain": [
       "['Z4DLBKOT9M01!1VAYS90Z2JNTMWL4.JPG',\n",
       " 'CF_JAO6MOS5I_MF3S34BHXU2EDE31C5.JPG',\n",
       " 'R14QTAR!--3-OW7WUTS4R8KJR6EEJ7.JPG',\n",
       " 'C6WGJYSGUQC86BPC582PKB175_H9K-.JPG',\n",
       " 'R3VFS_980-RWZEBEPRLGJD!8MM1WCZ.JPG',\n",
       " 'BG9U2!5NY8FDAV3QZMSZZHC36!35DIA.JPG',\n",
       " 'CWS7KNM2KSEVSFPHW6N12NSJH87C3P5.JPG',\n",
       " 'CY0CKXUFJZZVM2RY2!DOK05G6LUL3QI.JPG',\n",
       " 'Q_AHT1_VZZTFFLMWDEXE648H014NXC.JPG',\n",
       " 'RH6NYS4Q20R5SGHBTQL!JMB24WMJ2J.JPG',\n",
       " '_-L!6XKOVHMA0UUQS-PJCTL1WIK!9.JPG',\n",
       " '8L6WD8U4AL0HIPFCSM6PR-HTRX7C13.JPG',\n",
       " '8P56-FO_R8US22M3_916YGK!GW6I5Y.JPG',\n",
       " '-IWS_9541TPQEOZQJQH!P7-GL6BSS9.JPG',\n",
       " 'BE33TR62F3AJBS7M8Y4U!TD!TF9FM_C.JPG',\n",
       " 'BKALCNUP-OHT8IBS0IN5IP4GR5HIKS4.JPG',\n",
       " 'BQO69P2A6V!-O97SXH7OUGAT004QMDS.JPG',\n",
       " 'BRFL2MTWD9H7LX_1LY1A-BRHST7XED4.JPG',\n",
       " 'BUZEWDC648W-I2AJTB3M-TCVQNOMDSH.JPG',\n",
       " 'BZ_PCT2!2A-8DTT34SVZ05AX0G5QMS2.JPG',\n",
       " 'CPXCTYKN7FND9NSVAU_H12POZ782A3G.JPG',\n",
       " 'CT_1DPDJMU8Q19FXFGPL7556!FZH027.JPG',\n",
       " 'CZRJR0J6KR5ONGQUR2SZ37LTFX2LVU1.JPG',\n",
       " 'LX6G0ZUXYV-JAHCYBNIMBD7Y3_G1D0.JPG',\n",
       " '68GQVE49V1ZGRH23QWOK5C57JUTGM.JPG',\n",
       " 'S4HTWG!EQ_57XCOIMFC300Y2V2G-05.JPG',\n",
       " 'T1U1ZX-FDHOY0B_Q5EZY2GJVYU6IR9.JPG',\n",
       " 'VIUNI2MO_40F3YLNCEG78D21T0TA4B.JPG',\n",
       " 'ZA8XYLMJWNEBSDZHAIJUGF1K7LVDI!.JPG',\n",
       " 'BFI09QV75IVQ7I0FKP9871X2!YAB4VW.JPG',\n",
       " 'BMGQSWIC0X8SGFO-AVXB6N2HRCI_9B2.JPG',\n",
       " 'BQLC78F7M9R0LKJBJMDL3W4FHGSCJVH.JPG',\n",
       " 'BQV!X12QEWLOOS2KX8CNSB22SXSX6Z7.JPG',\n",
       " 'BU8_LL!3!K3YB0SUO1JXRUAW5AC_GX6.JPG',\n",
       " 'BUK5TM595Y93-HMQ383FDDBLHE4QLS1.JPG',\n",
       " '0UV4QZIRLWHO27S_049F3PJD5WCNPU.JPG',\n",
       " 'CMPPUFDN-1!DOF4NA3M5J6GJ-T!IR_8.JPG',\n",
       " 'JNI!K127M8CWF6D1FCX8D!9WPO11-I.JPG',\n",
       " 'M8NXYQCVLI8-A5!U3ITHVBX8GNLCRB.JPG',\n",
       " 'MUN21CMGIKLTPCNWVDUG51-YUYAMME.JPG',\n",
       " 'W_ES9VES!_97MOF0XFBTONA1ZTGRIC.JPG',\n",
       " '7S4!6J7-AYSKU9MLKTC94IFZSED0LP.JPG',\n",
       " 'B2XCUQ-4D76KXEB8VPJUSR6PIIQ1MSL.JPG',\n",
       " 'BD-GMR_R2-4XHDOZVDWSF1WHQ0GD3YU.JPG',\n",
       " '0BBL6SNUEXDJZSGGUVR71_J1E0WVTN.JPG',\n",
       " 'BQMYAIEXZVJC7_A!Z32WGJK0YFKCYB8.JPG',\n",
       " 'BWX2V03U4JPM15K3__YCRVPRMHQ7!I1.JPG',\n",
       " 'C0RN!515SH-GGRO7QYDFYFIUGZMM7TP.JPG',\n",
       " '1VQ9U0NGSCL-01MD94_0_IS3A0HI01.JPG',\n",
       " '20FTMGG0J40FOUUKYH37ZAZ!EW15TT.JPG',\n",
       " 'CL0GEURL_X3BYHMT5I6!AP28-C44K-P.JPG',\n",
       " 'CM4V!Z8CHGGMUTM-Z0IG1QHU8XSUQ6Y.JPG',\n",
       " 'CYRWMKX8-5OJ6HL5DW0_!3QG9FEMIJ8.JPG',\n",
       " 'GJ1R_DEOP317DC5CPOJEK00Z!_30PP.JPG',\n",
       " 'OPBHPHM4P9CEI-TB-GYRY3UTZKFOCL.JPG',\n",
       " 'TL_!U!TY2S4H-A2GV-2CHVMGV_HNY8.JPG',\n",
       " '_1!HF-LP0H5GM74E-KBR2BY6DHNWTW.JPG',\n",
       " '9I-C6_T!XMNXPJ!BMIV64MZC1U25R-.JPG',\n",
       " 'B457PSX2DXBC65H78EQMODW-LH1R!21.JPG',\n",
       " '-F92444UNUT50J42!Y-P32-EZ3FIFS.JPG',\n",
       " 'BFZCH-STZ-9E4AYUO_R!F82N5O!W1BK.JPG',\n",
       " 'BJZGXYFIBI9L_W3PFJPOI_70RHYMPAL.JPG',\n",
       " 'BK7WXFI5WJ!LUNBB3GI3A2RNKHHE1!Z.JPG',\n",
       " 'BNVRLUZ-8U0C3PI_9Y_PBA6!CY8NFHU.JPG',\n",
       " 'BRI59QR!B73SYP_F-IKZS2V1SUQ!WJQ.JPG',\n",
       " 'BSOAWA8B8-6VMLWP!54X7KXA-6CECOF.JPG',\n",
       " '1HYOVU5ZKY2S6QGM34YDMYSC1VCC93.JPG',\n",
       " 'BY_QH6IF49BTT6RY4LXWJ83OSZ9ISDA.JPG',\n",
       " 'C1CEKEH79A74IMUDWK43O_8OS4Q90W1.JPG',\n",
       " 'CK1Q3891CRV-Q4TM2W!HE0RUG5Y-FFM.JPG',\n",
       " 'SRDCIZ2OQ9-39YYT8!S-H50UG9JEAQ.JPG',\n",
       " 'C0_!7C8JV5U8AEZJ0SSY06ZNLCN5-V7.JPG',\n",
       " 'CRTU0SXKD6X222Q4HDD44IDW_60CPI1.JPG',\n",
       " 'BW-PS_L3XKIH839!S92!MY8IG_FO04E.JPG',\n",
       " 'B_5KBT5NG61AMVU42U9CQYKW7EFG5Y_.JPG',\n",
       " '_B!6S2HT0-4BE1Z-2U65GBPC6VR6ZM.JPG',\n",
       " 'B_-KEQRA8Z9_MHGWVP8MLAC3ZPU29AZ.JPG',\n",
       " '6-DAESVUD79OGY83-6S36N9BNKT43B.JPG',\n",
       " 'B!!VVBHF084ANSI1K6K4A0EZ!SDKIK9.JPG',\n",
       " 'B1!9NDZ88XZ3XA4DR1JZJ9N62JQPTH4.JPG',\n",
       " 'B5L1-H6R96O15VGV4NRP0DR5KRPU-YT.JPG',\n",
       " 'B7N123B3ZF57A0LPU7_R39OLSFWZNLG.JPG',\n",
       " 'BD!9MP!HC6DXK00!43-TFALTXFMPGAJ.JPG',\n",
       " 'BIJ6RSYAO_K4IB1XM_7R183_PQMJ!83.JPG',\n",
       " 'CFZ_QX7M5OAU4!9Z42GU6WWGHTN-T0H.JPG',\n",
       " 'CVCFM3B4PL!67K921BF!G_7NVWYAN4X.JPG',\n",
       " 'B-02_VGCX55956!HHHX-8H6HK6V67Y2.JPG',\n",
       " 'B1-JZ0GA2D9-M2W2T8JO8-_69X2SXE1.JPG',\n",
       " 'BHGYZ4ZB0TRAV!379WNYV!VZM2XT81C.JPG',\n",
       " 'C1F23HQ3NIUIFC_KFINPTZ78PHV!_9Y.JPG',\n",
       " 'CAEDLJE4_EXKBLXYYMP1QU2CIJ5NA37.JPG',\n",
       " 'CB1PIIOTV7VMCK5DOZOG3H12SIWS-L_.JPG',\n",
       " '3OFRM-T7TZ5G4V!TFOKPZ-318X2D-_.JPG',\n",
       " 'F3H3!EP1AN87G8ZZR95Q76Z1DR6WDV.JPG',\n",
       " 'Z_O-JBN5ACWSZZ65AEIH7O9R1ZDHOI.JPG',\n",
       " '7G_B9BVPDOS_FLJQ33FIU0C617!Y0N.JPG',\n",
       " '82PVIFZI35SDZQWPJASY11AL-!4X3S.JPG',\n",
       " '93F!L_XDLJKJQRAP-VU80WH8BC1WLT.JPG',\n",
       " 'CJPNHA4L1O4WQ-FG3ZZWOSJTU6-TZRX.JPG',\n",
       " 'CKKVG2F_7VV3GT5!OP2K1CTQ34-LPWG.JPG',\n",
       " 'JVOY8QWFH17VF_FVA85_LUV!8XNGRM.JPG',\n",
       " 'KSB7ZROPVZG2LTDOU16U_IOQGI2S7!.JPG',\n",
       " 'TK61RSZ_6SEDZ4PI94JD8D04IQH5!S.JPG',\n",
       " 'B561_GO8GCALU5XV1059FHN4E-YCAHD.JPG',\n",
       " 'BBIEVH2L5C81ZHK86WBP3!U482AIM7O.JPG',\n",
       " 'BKRA1RN_6HUFP3F-O9!NWKRBJRRREF5.JPG',\n",
       " 'CN7U9G5EDFKUEE260LM1WCHNP321X_Y.JPG',\n",
       " 'CNHJUD0D0MQDCXKPQ0C!W!Z6L44K!RQ.JPG',\n",
       " 'HAJOQQ3RVRWREZ!E2UE9LV8-0O_192.JPG',\n",
       " 'MSXOAEB5X70K6DY4IOSH-E42Y-LAQV.JPG',\n",
       " 'B100LF75J6WYQN58X9BEN3D9UJ4QPBQ.JPG',\n",
       " 'B8J-JRL!3S2PNZ_0B7UF8PDHQVVMG7.JPG',\n",
       " 'BUCBPDNSF22JXR18R1DJP9AJIS7X4J5.JPG',\n",
       " '6DTX9SQN49085ODG5182VOENQ23GA9.JPG',\n",
       " 'BASR7Y-XXM_SZT2E663LF!CZ8KNCHAQ.JPG',\n",
       " 'BGUR!DZF-5DL27BXSUPH53CIG0JJW48.JPG',\n",
       " 'X7517WBESW7XT9OOKRBBCCHSO5TA9R.JPG',\n",
       " 'COM-99U9BFD7MA96C_5NJ19BH!9M0FV.JPG',\n",
       " 'BYI914BN3WO1WLQD!!TL!H2F6TAVNAW.JPG',\n",
       " 'B_TLA2GNU0_OFETB5Q-BVZPTJ3UE_DK.JPG',\n",
       " 'CBU_Y1LP7IMU2-0X3BMO_-I3GXBR0XK.JPG',\n",
       " 'FMECMR89ZKIEZQUZB3CPH6U7I3AUEW.JPG',\n",
       " 'TE2HALOAG50AJNI-WGR1H9G7FV3FKY.JPG',\n",
       " 'CO54J1_Y_0FTA5DLX2NJNT2K8_SFE0S.JPG',\n",
       " 'NDHM7TUK-EKJB6K!M7BYJ83W9XWB!E.JPG',\n",
       " 'NFMDTVPGCVF73H6NB0AZX7YYWPPX8W.JPG',\n",
       " 'B3MFVJ-IW3CGEDOQSBA98_FD41C6SX0.JPG',\n",
       " 'B63SWQZT!LQD7PP95-CTPHZ49VZP_ZO.JPG',\n",
       " 'BDJ3L37HPWJ4NM62V02FYDA1H3UWQOV.JPG',\n",
       " 'CMSV_HNSPQMPZII5B4G6CZ9LYWDQNM!.JPG',\n",
       " '95V0243QLEG1-WQU5UE7R_6Q9KRXTB.JPG',\n",
       " 'B-2_6Q41MNN!LMD795K4_395W5HALTK.JPG',\n",
       " 'BGMFKP1QCGNDWEUGXS3_-0JSC-PHGWU.JPG',\n",
       " 'CFT6Z3MDXXA1ET86VOI4OVPPXC!8H_X.JPG',\n",
       " 'B8COFN7YX27HAXM5JI!J!73I9FYK60K.JPG',\n",
       " '9NFJAP!CTZT7GVYNWZBPU8CXOK9DFS.JPG',\n",
       " 'B5AUU979P3K5RZJN-C80LOKFFJHIQI8.JPG',\n",
       " 'PYXM3DYMQ__K_DFR!B7LRJRYFJZDFS.JPG']"
      ]
     },
     "execution_count": 27,
     "metadata": {},
     "output_type": "execute_result"
    }
   ],
   "source": [
    "imgs_trilegest"
   ]
  },
  {
   "cell_type": "code",
   "execution_count": 127,
   "metadata": {},
   "outputs": [
    {
     "name": "stdout",
     "output_type": "stream",
     "text": [
      "/Users/alphonsowoodbury/Projects/Computer_Vision-Medication_Identification\n"
     ]
    }
   ],
   "source": [
    "%cd Computer_Vision-Medication_Identification/"
   ]
  },
  {
   "cell_type": "code",
   "execution_count": 75,
   "metadata": {},
   "outputs": [
    {
     "data": {
      "text/plain": [
       "('data/pills_jpg/7!U5OIAL6W!52!L488NFS4OZ9B86QM.JPG',\n",
       " 'data/pills_jpg/nortrel/7!U5OIAL6W!52!L488NFS4OZ9B86QM.JPG')"
      ]
     },
     "execution_count": 75,
     "metadata": {},
     "output_type": "execute_result"
    }
   ],
   "source": [
    "origin,destination"
   ]
  },
  {
   "cell_type": "code",
   "execution_count": 128,
   "metadata": {},
   "outputs": [],
   "source": [
    "for img in imgs_trilegest:\n",
    "    origin = os.path.join(images, img)\n",
    "    destination = os.path.join(trilegest_dir, img)\n",
    "    shutil.move(origin, \n",
    "                destination)"
   ]
  },
  {
   "cell_type": "code",
   "execution_count": 87,
   "metadata": {},
   "outputs": [
    {
     "data": {
      "text/plain": [
       "('data/pills_jpg/BM-E1O6QA0OX!9BRO95I872HMDYZJA5.JPG',\n",
       " 'data/pills_jpg/nortrel/BM-E1O6QA0OX!9BRO95I872HMDYZJA5.JPG')"
      ]
     },
     "execution_count": 87,
     "metadata": {},
     "output_type": "execute_result"
    }
   ],
   "source": [
    "origin,destination"
   ]
  },
  {
   "cell_type": "code",
   "execution_count": 129,
   "metadata": {},
   "outputs": [],
   "source": [
    "for img in imgs_nortrel:\n",
    "    origin = os.path.join(images, img)\n",
    "    destination = os.path.join(nortrel_dir, img)\n",
    "    try:\n",
    "        shutil.move(origin,destination)\n",
    "    except:\n",
    "        continue"
   ]
  },
  {
   "cell_type": "code",
   "execution_count": 130,
   "metadata": {},
   "outputs": [],
   "source": [
    "for img in imgs_trivora:\n",
    "    origin = os.path.join(images, img)\n",
    "    destination = os.path.join(trivora_dir, img)\n",
    "    try:\n",
    "        shutil.move(origin,destination)\n",
    "    except:\n",
    "        continue"
   ]
  },
  {
   "cell_type": "code",
   "execution_count": 131,
   "metadata": {},
   "outputs": [],
   "source": [
    "for img in imgs_amrix:\n",
    "    origin = os.path.join(images, img)\n",
    "    destination = os.path.join(amrix_dir, img)\n",
    "    try:\n",
    "        shutil.move(origin,destination)\n",
    "    except:\n",
    "        continue"
   ]
  },
  {
   "cell_type": "code",
   "execution_count": 132,
   "metadata": {},
   "outputs": [],
   "source": [
    "for img in imgs_amaryl:\n",
    "    origin = os.path.join(images, img)\n",
    "    destination = os.path.join(amaryl_dir, img)\n",
    "    shutil.move(origin, \n",
    "                destination)"
   ]
  },
  {
   "cell_type": "code",
   "execution_count": 133,
   "metadata": {},
   "outputs": [],
   "source": [
    "for img in imgs_balziva:\n",
    "    origin = os.path.join(images, img)\n",
    "    destination = os.path.join(balziva_dir, img)\n",
    "    shutil.move(origin, \n",
    "                destination)"
   ]
  },
  {
   "cell_type": "code",
   "execution_count": 134,
   "metadata": {},
   "outputs": [],
   "source": [
    "for img in imgs_natazia:\n",
    "    origin = os.path.join(images, img)\n",
    "    destination = os.path.join(natazia_dir, img)\n",
    "    shutil.move(origin, \n",
    "                destination)"
   ]
  },
  {
   "cell_type": "code",
   "execution_count": 135,
   "metadata": {},
   "outputs": [],
   "source": [
    "for img in imgs_mircette:\n",
    "    origin = os.path.join(images, img)\n",
    "    destination = os.path.join(mircette_dir, img)\n",
    "    shutil.move(origin, \n",
    "                destination)"
   ]
  },
  {
   "cell_type": "code",
   "execution_count": 136,
   "metadata": {},
   "outputs": [],
   "source": [
    "for img in imgs_dyazide:\n",
    "    origin = os.path.join(images, img)\n",
    "    destination = os.path.join(dyazide_dir, img)\n",
    "    try:\n",
    "        shutil.move(origin,destination)\n",
    "    except:\n",
    "        continue"
   ]
  },
  {
   "cell_type": "code",
   "execution_count": 137,
   "metadata": {},
   "outputs": [],
   "source": [
    "for img in imgs_lanoxin:\n",
    "    origin = os.path.join(images, img)\n",
    "    destination = os.path.join(lanoxin_dir, img)\n",
    "    try:\n",
    "        shutil.move(origin,destination)\n",
    "    except:\n",
    "        continue"
   ]
  },
  {
   "cell_type": "code",
   "execution_count": 177,
   "metadata": {},
   "outputs": [
    {
     "data": {
      "text/plain": [
       "<zip at 0x12954c730>"
      ]
     },
     "execution_count": 177,
     "metadata": {},
     "output_type": "execute_result"
    }
   ],
   "source": [
    "movedrugs"
   ]
  },
  {
   "cell_type": "code",
   "execution_count": 122,
   "metadata": {},
   "outputs": [],
   "source": [
    "train_folder = os.path.join(new_dir, 'train')\n",
    "train_nortel = os.path.join(train_folder, 'NORTREL')\n",
    "train_amrix = os.path.join(train_folder, 'AMRIX')\n",
    "train_trivora = os.path.join(train_folder, 'TRIVORA')\n",
    "train_amaryl = os.path.join(train_folder, 'AMARYL')\n",
    "train_balziva = os.path.join(train_folder, 'BALZIVA')\n",
    "train_natazia = os.path.join(train_folder, 'NATAZIA')\n",
    "train_mircette = os.path.join(train_folder, 'MIRCETTE')\n",
    "train_dyazide = os.path.join(train_folder, 'DYAZIDE')\n",
    "train_lanoxin = os.path.join(train_folder, 'LANOXIN')\n",
    "train_trilegest = os.path.join(train_folder, 'TRI-LEGEST')\n",
    "\n",
    "test_folder = os.path.join(new_dir, 'test')\n",
    "test_nortel = os.path.join(test_folder, 'NORTREL')\n",
    "test_amrix = os.path.join(test_folder, 'AMRIX')\n",
    "test_trivora = os.path.join(test_folder, 'TRIVORA')\n",
    "test_amaryl = os.path.join(test_folder, 'AMARYL')\n",
    "test_balziva = os.path.join(test_folder, 'BALZIVA')\n",
    "test_natazia = os.path.join(test_folder, 'NATAZIA')\n",
    "test_mircette = os.path.join(test_folder, 'MIRCETTE')\n",
    "test_dyazide = os.path.join(test_folder, 'DYAZIDE')\n",
    "test_lanoxin = os.path.join(test_folder, 'LANOXIN')\n",
    "test_trilegest = os.path.join(test_folder, 'TRI-LEGEST')\n",
    "\n",
    "\n",
    "val_folder = os.path.join(new_dir, 'validation')\n",
    "val_nortel = os.path.join(val_folder, 'NORTREL')\n",
    "val_amrix = os.path.join(val_folder, 'AMRIX')\n",
    "val_trivora = os.path.join(val_folder, 'TRIVORA')\n",
    "val_amaryl = os.path.join(val_folder, 'AMARYL')\n",
    "val_balziva = os.path.join(val_folder, 'BALZIVA')\n",
    "val_natazia = os.path.join(val_folder, 'NATAZIA')\n",
    "val_mircette = os.path.join(val_folder, 'MIRCETTE')\n",
    "val_dyazide = os.path.join(val_folder, 'DYAZIDE')\n",
    "val_lanoxin = os.path.join(val_folder, 'LANOXIN')\n",
    "val_trilegest = os.path.join(val_folder, 'TRI-LEGEST')"
   ]
  },
  {
   "cell_type": "code",
   "execution_count": 123,
   "metadata": {},
   "outputs": [
    {
     "ename": "FileNotFoundError",
     "evalue": "[Errno 2] No such file or directory: 'data/pills_jpg/split/test'",
     "output_type": "error",
     "traceback": [
      "\u001b[0;31m---------------------------------------------------------------------------\u001b[0m",
      "\u001b[0;31mFileNotFoundError\u001b[0m                         Traceback (most recent call last)",
      "\u001b[0;32m<ipython-input-123-e97c10b8756c>\u001b[0m in \u001b[0;36m<module>\u001b[0;34m\u001b[0m\n\u001b[0;32m----> 1\u001b[0;31m \u001b[0mos\u001b[0m\u001b[0;34m.\u001b[0m\u001b[0mmkdir\u001b[0m\u001b[0;34m(\u001b[0m\u001b[0mtest_folder\u001b[0m\u001b[0;34m)\u001b[0m\u001b[0;34m\u001b[0m\u001b[0;34m\u001b[0m\u001b[0m\n\u001b[0m\u001b[1;32m      2\u001b[0m \u001b[0mos\u001b[0m\u001b[0;34m.\u001b[0m\u001b[0mmkdir\u001b[0m\u001b[0;34m(\u001b[0m\u001b[0mtest_nortrel\u001b[0m\u001b[0;34m)\u001b[0m\u001b[0;34m\u001b[0m\u001b[0;34m\u001b[0m\u001b[0m\n\u001b[1;32m      3\u001b[0m \u001b[0mos\u001b[0m\u001b[0;34m.\u001b[0m\u001b[0mmkdir\u001b[0m\u001b[0;34m(\u001b[0m\u001b[0mtest_amrix\u001b[0m\u001b[0;34m)\u001b[0m\u001b[0;34m\u001b[0m\u001b[0;34m\u001b[0m\u001b[0m\n\u001b[1;32m      4\u001b[0m \u001b[0mos\u001b[0m\u001b[0;34m.\u001b[0m\u001b[0mmkdir\u001b[0m\u001b[0;34m(\u001b[0m\u001b[0mtest_trivora\u001b[0m\u001b[0;34m)\u001b[0m\u001b[0;34m\u001b[0m\u001b[0;34m\u001b[0m\u001b[0m\n\u001b[1;32m      5\u001b[0m \u001b[0mos\u001b[0m\u001b[0;34m.\u001b[0m\u001b[0mmkdir\u001b[0m\u001b[0;34m(\u001b[0m\u001b[0mtest_amaryl\u001b[0m\u001b[0;34m)\u001b[0m\u001b[0;34m\u001b[0m\u001b[0;34m\u001b[0m\u001b[0m\n",
      "\u001b[0;31mFileNotFoundError\u001b[0m: [Errno 2] No such file or directory: 'data/pills_jpg/split/test'"
     ]
    }
   ],
   "source": [
    "os.mkdir(test_folder)\n",
    "os.mkdir(test_nortrel)\n",
    "os.mkdir(test_amrix)\n",
    "os.mkdir(test_trivora)\n",
    "os.mkdir(test_amaryl)\n",
    "os.mkdir(test_balziva)\n",
    "os.mkdir(test_natazia)\n",
    "os.mkdir(test_mircette)\n",
    "os.mkdir(test_dyazide)\n",
    "os.mkdir(test_lanoxin)\n",
    "os.mkdir(test_trilegest)\n",
    "\n",
    "os.mkdir(train_folder)\n",
    "os.mkdir(train_nortrel)\n",
    "os.mkdir(train_amrix)\n",
    "os.mkdir(train_trivora)\n",
    "os.mkdir(train_amaryl)\n",
    "os.mkdir(train_balziva)\n",
    "os.mkdir(train_natazia)\n",
    "os.mkdir(train_mircette)\n",
    "os.mkdir(train_dyazide)\n",
    "os.mkdir(train_lanoxin)\n",
    "os.mkdir(train_trilegest)\n",
    "\n",
    "os.mkdir(val_folder)\n",
    "os.mkdir(val_nortrel)\n",
    "os.mkdir(val_amrix)\n",
    "os.mkdir(val_trivora)\n",
    "os.mkdir(val_amaryl)\n",
    "os.mkdir(val_balziva)\n",
    "os.mkdir(val_natazia)\n",
    "os.mkdir(val_mircette)\n",
    "os.mkdir(val_dyazide)\n",
    "os.mkdir(val_lanoxin)\n",
    "os.mkdir(val_trilegest)"
   ]
  },
  {
   "cell_type": "code",
   "execution_count": 82,
   "metadata": {},
   "outputs": [],
   "source": [
    "#drugs"
   ]
  },
  {
   "cell_type": "code",
   "execution_count": 90,
   "metadata": {},
   "outputs": [
    {
     "data": {
      "text/plain": [
       "'/Users/alphonsowoodbury/Projects'"
      ]
     },
     "execution_count": 90,
     "metadata": {},
     "output_type": "execute_result"
    }
   ],
   "source": [
    "%pwd"
   ]
  },
  {
   "cell_type": "code",
   "execution_count": 91,
   "metadata": {},
   "outputs": [
    {
     "name": "stdout",
     "output_type": "stream",
     "text": [
      "/Users/alphonsowoodbury/Projects/Computer_Vision-Medication_Identification\n"
     ]
    }
   ],
   "source": [
    "%cd /Users/alphonsowoodbury/Projects/Computer_Vision-Medication_Identification"
   ]
  },
  {
   "cell_type": "code",
   "execution_count": 86,
   "metadata": {},
   "outputs": [
    {
     "data": {
      "text/plain": [
       "'data/images'"
      ]
     },
     "execution_count": 86,
     "metadata": {},
     "output_type": "execute_result"
    }
   ],
   "source": [
    "images"
   ]
  },
  {
   "cell_type": "code",
   "execution_count": 93,
   "metadata": {},
   "outputs": [],
   "source": [
    "imgs_nortela = imgs_trilegest[:90]\n",
    "for img in imgs_nortela:\n",
    "    origin = os.path.join(images, img)\n",
    "    destination = os.path.join(trilegest_dir, img)\n",
    "    shutil.move(origin, \n",
    "                destination)"
   ]
  },
  {
   "cell_type": "code",
   "execution_count": 71,
   "metadata": {},
   "outputs": [
    {
     "data": {
      "text/plain": [
       "'CVCFM3B4PL!67K921BF!G_7NVWYAN4X.PNG'"
      ]
     },
     "execution_count": 71,
     "metadata": {},
     "output_type": "execute_result"
    }
   ],
   "source": [
    "img"
   ]
  },
  {
   "cell_type": "code",
   "execution_count": 72,
   "metadata": {},
   "outputs": [
    {
     "data": {
      "text/plain": [
       "'data/images/CVCFM3B4PL!67K921BF!G_7NVWYAN4X.PNG'"
      ]
     },
     "execution_count": 72,
     "metadata": {},
     "output_type": "execute_result"
    }
   ],
   "source": [
    "origin"
   ]
  },
  {
   "cell_type": "code",
   "execution_count": 73,
   "metadata": {},
   "outputs": [
    {
     "data": {
      "text/plain": [
       "'data/split/train/LANOXIN/CVCFM3B4PL!67K921BF!G_7NVWYAN4X.PNG'"
      ]
     },
     "execution_count": 73,
     "metadata": {},
     "output_type": "execute_result"
    }
   ],
   "source": [
    "destination"
   ]
  },
  {
   "cell_type": "code",
   "execution_count": 124,
   "metadata": {},
   "outputs": [
    {
     "data": {
      "text/html": [
       "<div>\n",
       "<style scoped>\n",
       "    .dataframe tbody tr th:only-of-type {\n",
       "        vertical-align: middle;\n",
       "    }\n",
       "\n",
       "    .dataframe tbody tr th {\n",
       "        vertical-align: top;\n",
       "    }\n",
       "\n",
       "    .dataframe thead th {\n",
       "        text-align: right;\n",
       "    }\n",
       "</style>\n",
       "<table border=\"1\" class=\"dataframe\">\n",
       "  <thead>\n",
       "    <tr style=\"text-align: right;\">\n",
       "      <th></th>\n",
       "      <th>NDC</th>\n",
       "      <th>IDK</th>\n",
       "      <th>FILE</th>\n",
       "      <th>TYPE</th>\n",
       "      <th>DRUG</th>\n",
       "      <th>ORIG_FOLDER</th>\n",
       "      <th>IMAGES</th>\n",
       "      <th>FILENAME</th>\n",
       "      <th>FILETYPE</th>\n",
       "    </tr>\n",
       "  </thead>\n",
       "  <tbody>\n",
       "    <tr>\n",
       "      <th>88198</th>\n",
       "      <td>49702020218</td>\n",
       "      <td>1</td>\n",
       "      <td>PillProjectDisc3/images/-WT_RX0KVFC9BH0ZFM643W...</td>\n",
       "      <td>C3PI_Test</td>\n",
       "      <td>LANOXIN</td>\n",
       "      <td>PillProjectDisc3</td>\n",
       "      <td>images</td>\n",
       "      <td>-WT_RX0KVFC9BH0ZFM643W5SJMZL!1.JPG</td>\n",
       "      <td>.JPG</td>\n",
       "    </tr>\n",
       "    <tr>\n",
       "      <th>88199</th>\n",
       "      <td>49702020218</td>\n",
       "      <td>1</td>\n",
       "      <td>PillProjectDisc3/images/-WT_RX0KVFC9BH0ZFM643W...</td>\n",
       "      <td>C3PI_Test</td>\n",
       "      <td>LANOXIN</td>\n",
       "      <td>PillProjectDisc3</td>\n",
       "      <td>images</td>\n",
       "      <td>-WT_RX0KVFC9BH0ZFM643W5SJMZL!1.JPG</td>\n",
       "      <td>.JPG</td>\n",
       "    </tr>\n",
       "  </tbody>\n",
       "</table>\n",
       "</div>"
      ],
      "text/plain": [
       "               NDC  IDK                                               FILE  \\\n",
       "88198  49702020218    1  PillProjectDisc3/images/-WT_RX0KVFC9BH0ZFM643W...   \n",
       "88199  49702020218    1  PillProjectDisc3/images/-WT_RX0KVFC9BH0ZFM643W...   \n",
       "\n",
       "            TYPE     DRUG       ORIG_FOLDER  IMAGES  \\\n",
       "88198  C3PI_Test  LANOXIN  PillProjectDisc3  images   \n",
       "88199  C3PI_Test  LANOXIN  PillProjectDisc3  images   \n",
       "\n",
       "                                 FILENAME FILETYPE  \n",
       "88198  -WT_RX0KVFC9BH0ZFM643W5SJMZL!1.JPG     .JPG  \n",
       "88199  -WT_RX0KVFC9BH0ZFM643W5SJMZL!1.JPG     .JPG  "
      ]
     },
     "execution_count": 124,
     "metadata": {},
     "output_type": "execute_result"
    }
   ],
   "source": [
    "df[df.FILENAME == '-WT_RX0KVFC9BH0ZFM643W5SJMZL!1.JPG']"
   ]
  },
  {
   "cell_type": "code",
   "execution_count": 148,
   "metadata": {},
   "outputs": [
    {
     "data": {
      "text/plain": [
       "00173080661    37\n",
       "51991036378    17\n",
       "33342009407    17\n",
       "33342008852    17\n",
       "00093747243    17\n",
       "00093747143    17\n",
       "60505372301    17\n",
       "23155024546    17\n",
       "00781542606    17\n",
       "53451010101    17\n",
       "51991035478    17\n",
       "Name: NDC, dtype: int64"
      ]
     },
     "execution_count": 148,
     "metadata": {},
     "output_type": "execute_result"
    }
   ],
   "source": [
    "riz = pills[pills.DRUG.str.contains('RIZA')]\n",
    "riz.NDC.value_counts()"
   ]
  },
  {
   "cell_type": "code",
   "execution_count": null,
   "metadata": {},
   "outputs": [],
   "source": []
  },
  {
   "cell_type": "code",
   "execution_count": null,
   "metadata": {},
   "outputs": [],
   "source": []
  },
  {
   "cell_type": "code",
   "execution_count": null,
   "metadata": {},
   "outputs": [],
   "source": [
    "# train santa\n",
    "imgs = imgs_santa[:271]\n",
    "for img in imgs:\n",
    "    origin = os.path.join(data_santa_dir, img)\n",
    "    destination = os.path.join(train_santa, img)\n",
    "    shutil.copyfile(origin, destination)"
   ]
  },
  {
   "cell_type": "code",
   "execution_count": null,
   "metadata": {},
   "outputs": [],
   "source": [
    "# validation santa\n",
    "imgs = imgs_santa[271:371]\n",
    "for img in imgs:\n",
    "    origin = os.path.join(data_santa_dir, img)\n",
    "    destination = os.path.join(val_santa, img)\n",
    "    shutil.copyfile(origin, destination)"
   ]
  },
  {
   "cell_type": "code",
   "execution_count": null,
   "metadata": {},
   "outputs": [],
   "source": [
    "# test santa\n",
    "imgs = imgs_santa[371:]\n",
    "for img in imgs:\n",
    "    origin = os.path.join(data_santa_dir, img)\n",
    "    destination = os.path.join(test_santa, img)\n",
    "    shutil.copyfile(origin, destination)"
   ]
  },
  {
   "cell_type": "markdown",
   "metadata": {},
   "source": [
    "# Prep Images"
   ]
  },
  {
   "cell_type": "code",
   "execution_count": null,
   "metadata": {},
   "outputs": [],
   "source": []
  },
  {
   "cell_type": "markdown",
   "metadata": {},
   "source": [
    "## Augmentation"
   ]
  },
  {
   "cell_type": "code",
   "execution_count": null,
   "metadata": {},
   "outputs": [],
   "source": []
  }
 ],
 "metadata": {
  "kernelspec": {
   "display_name": "Python 3",
   "language": "python",
   "name": "python3"
  },
  "language_info": {
   "codemirror_mode": {
    "name": "ipython",
    "version": 3
   },
   "file_extension": ".py",
   "mimetype": "text/x-python",
   "name": "python",
   "nbconvert_exporter": "python",
   "pygments_lexer": "ipython3",
   "version": "3.7.7"
  }
 },
 "nbformat": 4,
 "nbformat_minor": 4
}
